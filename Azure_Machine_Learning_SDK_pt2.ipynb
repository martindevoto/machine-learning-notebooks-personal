{
  "nbformat": 4,
  "nbformat_minor": 0,
  "metadata": {
    "colab": {
      "provenance": [],
      "authorship_tag": "ABX9TyNKhz/tZ0nQEY/uawo4Pma6",
      "include_colab_link": true
    },
    "kernelspec": {
      "name": "python3",
      "display_name": "Python 3"
    },
    "language_info": {
      "name": "python"
    }
  },
  "cells": [
    {
      "cell_type": "markdown",
      "metadata": {
        "id": "view-in-github",
        "colab_type": "text"
      },
      "source": [
        "<a href=\"https://colab.research.google.com/github/martindevoto/machine-learning-notebooks-personal/blob/main/Azure_Machine_Learning_SDK_pt2.ipynb\" target=\"_parent\"><img src=\"https://colab.research.google.com/assets/colab-badge.svg\" alt=\"Open In Colab\"/></a>"
      ]
    },
    {
      "cell_type": "markdown",
      "metadata": {
        "id": "isZGHVzMvs3w"
      },
      "source": [
        "## Datastores"
      ]
    },
    {
      "cell_type": "markdown",
      "metadata": {
        "id": "VoR0rnW1vwOE"
      },
      "source": [
        "In Azure Machine Learning, datastores are abstractions for cloud data sources. They encapsulate the information required to connect to data sources. You can access datastores directly in code by using the Azure Machine Learning SDK, and use it to upload or download data."
      ]
    },
    {
      "cell_type": "markdown",
      "metadata": {
        "id": "HRf3SBFBv7gt"
      },
      "source": [
        "### Types of Datastore\n",
        "\n",
        "Azure Machine Learning supports the creation of datastores for multiple kinds of Azure data source, including:\n",
        "\n",
        "* Azure Storage (blob and file containers)\n",
        "* Azure Data Lake stores\n",
        "* Azure SQL Database\n",
        "* Azure Databricks file system (DBFS)"
      ]
    },
    {
      "cell_type": "markdown",
      "metadata": {
        "id": "7olLUsaHwCje"
      },
      "source": [
        "### Built-in Datastores\n",
        "\n",
        "Every workspace has two built-in datastores (an Azure Storage blob container, and an Azure Storage file container) that are used as system storage by Azure Machine Learning. There's also a third datastore that gets added to your workspace if you make use of the open datasets provided as samples (for example, by creating a designer pipeline based on a sample dataset)\n",
        "\n",
        "In most machine learning projects, you will likely need to work with data sources of your own - either because you need to store larger volumes of data than the built-in datastores support, or because you need to integrate your machine learning solution with data from existing applications."
      ]
    },
    {
      "cell_type": "markdown",
      "metadata": {
        "id": "hace-4e1x47z"
      },
      "source": [
        "# Datasets"
      ]
    },
    {
      "cell_type": "markdown",
      "metadata": {
        "id": "auePEt1bx87i"
      },
      "source": [
        "Datasets are versioned packaged data objects that can be easily consumed in experiments and pipelines. Datasets are the recommended way to work with data, and are the primary mechanism for advanced Azure Machine Learning capabilities like data labeling and data drift monitoring."
      ]
    },
    {
      "cell_type": "markdown",
      "metadata": {
        "id": "YVfZmI5AyAzW"
      },
      "source": [
        "### Types of dataset\n",
        "Datasets are typically based on files in a datastore, though they can also be based on URLs and other sources. You can create the following types of dataset:\n",
        "\n",
        "Tabular: The data is read from the dataset as a table. You should use this type of dataset when your data is consistently structured and you want to work with it in common tabular data structures, such as Pandas dataframes.\n",
        "\n",
        "File: The dataset presents a list of file paths that can be read as though from the file system. Use this type of dataset when your data is unstructured, or when you need to process the data at the file level (for example, to train a convolutional neural network from a set of image files)."
      ]
    },
    {
      "cell_type": "markdown",
      "metadata": {
        "id": "c8D1lou8zAaC"
      },
      "source": [
        "### Creating and registering datasets\n",
        "\n",
        "You can use the visual interface in Azure Machine Learning studio or the Azure Machine Learning SDK to create datasets from individual files or multiple file paths. The paths can include wildcards (for example, /files/*.csv) making it possible to encapsulate data from a large number of files in a single dataset.\n",
        "\n",
        "After you've created a dataset, you can register it in the workspace to make it available for use in experiments and data processing pipelines later."
      ]
    },
    {
      "cell_type": "markdown",
      "metadata": {
        "id": "fpFZ-KWS0QpK"
      },
      "source": [
        "## Use a named input for a tabular dataset\n",
        "\n",
        "Alternatively, you can pass a tabular dataset as a named input. In this approach, you use the as_named_input method of the dataset to specify a name for the dataset. Then in the script, you can retrieve the dataset by name from the run context's input_datasets collection without needing to retrieve it from the workspace. Note that if you use this approach, you still need to include a script argument for the dataset, even though you don’t actually use it to retrieve the dataset."
      ]
    },
    {
      "cell_type": "markdown",
      "metadata": {
        "id": "jd2A6p3Q1ZLn"
      },
      "source": [
        "### Use a script argument for a file dataset\n",
        "\n",
        "You can pass a file dataset as a script argument. Unlike with a tabular dataset, you must specify a mode for the file dataset argument, which can be as_download or as_mount. This provides an access point that the script can use to read the files in the dataset. In most cases, you should use as_download, which copies the files to a temporary location on the compute where the script is being run. However, if you are working with a large amount of data for which there may not be enough storage space on the experiment compute, use as_mount to stream the files directly from their source."
      ]
    },
    {
      "cell_type": "markdown",
      "metadata": {
        "id": "JGG3z27b2QsC"
      },
      "source": [
        "# Vamo' a codear"
      ]
    },
    {
      "cell_type": "code",
      "metadata": {
        "id": "IDzLZsU1vZL0"
      },
      "source": [
        "import azureml.core\n",
        "from azureml.core import Workspace\n",
        "\n",
        "# Load the workspace from the saved config file\n",
        "ws = Workspace.from_config()\n",
        "print('Ready to use Azure ML {} to work with {}'.format(azureml.core.VERSION,\n",
        "                                                        ws.name))"
      ],
      "execution_count": null,
      "outputs": []
    },
    {
      "cell_type": "markdown",
      "metadata": {
        "id": "Aql2Qi1t4CNi"
      },
      "source": [
        "Work with datastores\n",
        "\n",
        "In Azure ML, datastores are references to storage locations, such as Azure Storage blob containers. Every workspace has a default datastore - usually the Azure storage blob container that was created with the workspace. If you need to work with data that is stored in different locations, you can add custom datastores to your workspace and set any of them to be the default.\n",
        "\n",
        "View datastores\n",
        "Run the following code to determine the datastores in your workspace:"
      ]
    },
    {
      "cell_type": "code",
      "metadata": {
        "id": "tF_5wsRr3_LH"
      },
      "source": [
        "# Get the default datastore\n",
        "default_ds = ws.get_default_datastore()\n",
        "\n",
        "# Enumerate all datastores, indicating which is the default\n",
        "for ds_name in ws.datastores:\n",
        "  print(ds_name, '- Default =', ds_name == default_ds.name)"
      ],
      "execution_count": null,
      "outputs": []
    },
    {
      "cell_type": "markdown",
      "metadata": {
        "id": "L63aSOUQ4om0"
      },
      "source": [
        "### Upload data to a datastore\n",
        "\n",
        "Now that you have determined the available datastores, you can upload files from your local file system to a datastore so that it will be accessible to experiments running in the workspace, regardless of where the experiment script is actually being run."
      ]
    },
    {
      "cell_type": "code",
      "metadata": {
        "id": "zKIdd9dh4qka"
      },
      "source": [
        "default_ds.upload_files(files=['./data/diabetes.csv', './data/diabetes2.csv'], # Upload the diabetes csv files in /data\n",
        "                        target_path='diabetes-data/', # Put it in a folder path in the datastore\n",
        "                        overwrite=True, # Replace existing files of the same name\n",
        "                        show_progress=True)"
      ],
      "execution_count": null,
      "outputs": []
    },
    {
      "cell_type": "markdown",
      "metadata": {
        "id": "NP-6Qix06IFW"
      },
      "source": [
        "## Work with datasets\n",
        "\n",
        "Azure Machine Learning provides an abstraction for data in the form of *datasets*. A dataset is a versioned reference to a specific set of data that you may want to use in an experiment. Datasets can be *tabular* or *file*-based."
      ]
    },
    {
      "cell_type": "markdown",
      "metadata": {
        "id": "KwXRdixUrMkJ"
      },
      "source": [
        "## Create a tabular Dataset\n",
        "\n",
        "Let's create a dataset from the diabetes data you uploaded to the datastore, and view the first 20 records. In this case, the data is in a structured format in a CSV file, so we'll use a *tabular* dataset."
      ]
    },
    {
      "cell_type": "code",
      "metadata": {
        "id": "MpfnZvZi6IZP"
      },
      "source": [
        "from azureml.core import Dataset\n",
        "\n",
        "# Get the default datastore\n",
        "default_ds = ws.get_default_datastore()\n",
        "\n",
        "# Create a tabular dataset from the path on the datastore \n",
        "# (this may take a short while)\n",
        "tab_data_set = Dataset.Tabular.from_delimited_files(path=(default_ds,\n",
        "                                                          'diabetes-data/*.csv'))\n",
        "# Display the first 20 rows as a Pandas dataframe\n",
        "tab_data_set.take(20).to_pandas_dataframe()"
      ],
      "execution_count": null,
      "outputs": []
    },
    {
      "cell_type": "markdown",
      "metadata": {
        "id": "3SBhhxKp64ke"
      },
      "source": [
        "## Create a file Dataset\n",
        "\n",
        "The dataset you created is a tabular dataset that can be read as a dataframe containing all of the data in the structured files that are included in the dataset definition. This works well for tabular data, but in some machine learning scenarios you might need to work with data that is unstructured; or you may simply want to handle reading the data from files in your own code. To accomplish this, you can use a file dataset, which creates a list of file paths in a virtual mount point, which you can use to read the data in the files."
      ]
    },
    {
      "cell_type": "code",
      "metadata": {
        "id": "DV9A_jrG65fd"
      },
      "source": [
        "# Create a file dataset from the path on the datastore \n",
        "# (this may take a short while)\n",
        "file_data_set = Dataset.File.from_files(path=(default_ds, 'diabetes-data/*.csv'))\n",
        "\n",
        "# Get the files in the dataset\n",
        "for file_path in file_data_set.to_path():\n",
        "  print(file_path)"
      ],
      "execution_count": null,
      "outputs": []
    },
    {
      "cell_type": "markdown",
      "metadata": {
        "id": "_PE_52_O7a4Z"
      },
      "source": [
        "### Register datasets\n",
        "\n",
        "Now that you have created datasets that reference the diabetes data, you can register them to make them easily accessible to any experiment being run in the workspace.\n",
        "\n",
        "We'll register the tabular dataset as **diabetes dataset**, and the file dataset as **diabetes files**."
      ]
    },
    {
      "cell_type": "code",
      "metadata": {
        "id": "5wJuduin7bGn"
      },
      "source": [
        "# Register the tabular dataset\n",
        "try:\n",
        "  tab_data_set = tab_data_set.register(workspace=ws,\n",
        "                                       name='diabetes dataset',\n",
        "                                       description='diabetes data',\n",
        "                                       tags = {'format': 'CSV'},\n",
        "                                       create_new_version=True)\n",
        "except Exception as ex:\n",
        "  print(ex)\n",
        "\n",
        "# Register the file dataset\n",
        "try:\n",
        "  file_data_set = file_data_set.register(workspace=ws,\n",
        "                                         name='diabetes file dataset',\n",
        "                                         description='diabetes files',\n",
        "                                         tags = {'format':'CSV'},\n",
        "                                         create_new_version=True)\n",
        "except Exception as ex:\n",
        "  print(ex)\n",
        "\n",
        "print('Datasets registered')"
      ],
      "execution_count": null,
      "outputs": []
    },
    {
      "cell_type": "code",
      "metadata": {
        "id": "88m4p7go8F-f"
      },
      "source": [
        "print('Datasets:')\n",
        "for dataset_name in list(ws.datasets.keys()):\n",
        "  dataset = Dataset.get_by_name(ws, dataset_name)\n",
        "  print('\\t', dataset.name, 'version', dataset.version)"
      ],
      "execution_count": null,
      "outputs": []
    },
    {
      "cell_type": "markdown",
      "metadata": {
        "id": "7okad-AV9oG7"
      },
      "source": [
        "The ability to version datasets enables you to redefine datasets without breaking existing experiments or pipelines that rely on previous definitions. By default, the latest version of a named dataset is returned, but you can retrieve a specific version of a dataset by specifying the version number, like this:\n",
        "\n",
        "```python\n",
        "dataset_v1 = Dataset.get_by_name(ws, 'diabetes dataset', version = 1)\n",
        "```\n",
        "\n",
        "\n",
        "### Train a model from a tabular dataset\n",
        "\n",
        "Now that you have datasets, you're ready to start training models from them. You can pass datasets to scripts as *inputs* in the estimator being used to run the script.\n",
        "\n",
        "Run the following two code cells to create:\n",
        "\n",
        "1. A folder named **diabetes_training_from_tab_dataset**\n",
        "2. A script that trains a classification model by using a tabular dataset that is passed to it as an argument."
      ]
    },
    {
      "cell_type": "code",
      "metadata": {
        "id": "Etp_knEw9obQ"
      },
      "source": [
        "import os \n",
        "\n",
        "# Create a folder for the experiment files\n",
        "experiment_folder = 'diabetes_training_form_tab_dataset'\n",
        "os.makedirs(experiment_folder, exist_ok=True)\n",
        "print(experiment_folder, 'folder created')"
      ],
      "execution_count": null,
      "outputs": []
    },
    {
      "cell_type": "code",
      "metadata": {
        "id": "g3CYkCXR93Jl"
      },
      "source": [
        "%%writefile $experiment_folder/diabetes_training.py\n",
        "# Import libraries\n",
        "import os\n",
        "import argparse\n",
        "from azureml.core import Run, Dataset\n",
        "import pandas as pd\n",
        "import numpy as np\n",
        "import joblib\n",
        "from sklearn.model_selection import train_test_split\n",
        "from sklearn.linear_model import LogisticRegression\n",
        "from sklearn.metrics import roc_auc_score, roc_curve\n",
        "\n",
        "# Get the script arguments (regularization rate and training dataset ID)\n",
        "parser = argparse.ArgumentParser()\n",
        "parser.add_argument('--regularization', type=float, dest='reg_rate',\n",
        "                    default=0.01, help='regularization rate')\n",
        "parser.add_argument('--input-data', type=str, dest='training_dataset_id',\n",
        "                    help='training dataset')\n",
        "args = parser.parse_args()\n",
        "\n",
        "# Set regularization hyperparameter (passed as an argument to the script)\n",
        "reg = args.reg_rate\n",
        "\n",
        "# Get the experiment run context\n",
        "run = Run.get_context()\n",
        "\n",
        "# Get the training dataset\n",
        "print('Loading Data...')\n",
        "diabetes = run.input_datasets['training_data'].to_pandas_dataframe()\n",
        "\n",
        "# Separate features and labels\n",
        "X, y = diabetes[['Pregnancies','PlasmaGlucose','DiastolicBloodPressure',\n",
        "         'TricepsThickness','SerumInsulin','BMI','DiabetesPedigree',\n",
        "         'Age']].values, diabetes['Diabetic'].values\n",
        "\n",
        "# Split data into training set and test set\n",
        "X_train, X_test, y_train, y_test = train_test_split(X, y, test_size=0.3, \n",
        "                                                    random_state=0)\n",
        "\n",
        "# Train a logistic regression model\n",
        "print('Training a logistic regression model with regularization rate of', reg)\n",
        "run.log('Regularization Rate', np.float(reg))\n",
        "model = LogisticRegression(C=1/reg, solver='liblinear').fit(X_train, y_train)\n",
        "\n",
        "# Calculate accuracy\n",
        "y_hat = model.predict(X_test)\n",
        "acc = np.average(y_hat == y_test)\n",
        "print('Accuracy:', acc)\n",
        "run.log('Accuracy', np.float(acc))\n",
        "\n",
        "# Calculate AUC\n",
        "y_scores = model.predict_proba(X_test)\n",
        "auc = roc_auc_score(y_test, y_scores[:, 1])\n",
        "print('AUC: ' + str(auc))\n",
        "run.log('AUC', np.float(auc))\n",
        "\n",
        "os.makedirs('outputs', exist_ok=True)\n",
        "# note file saved in the outputs folder is automatically uploaded into \n",
        "# experiment record\n",
        "joblib.dump(value=model, filename='outputs/diabetes_model.pkl')\n",
        "\n",
        "run.complete()"
      ],
      "execution_count": null,
      "outputs": []
    },
    {
      "cell_type": "markdown",
      "metadata": {
        "id": "LOVA_q7xAfS4"
      },
      "source": [
        "> **Note**: In the script, the dataset is passed as a parameter (or argument). In the case of a tabular dataset, this argument will contain the ID of the registered dataset; so you could write code in the script to get the experiment's workspace from the run context, and then get the dataset using its ID; like this:\n",
        ">\n",
        "> ```\n",
        "> run = Run.get_context()\n",
        "> ws = run.experiment.workspace\n",
        "> dataset = Dataset.get_by_id(ws, id=args.training_dataset_id)\n",
        "> diabetes = dataset.to_pandas_dataframe()\n",
        "> ```\n",
        ">\n",
        "> However, Azure Machine Learning runs automatically identify arguments that reference named datasets and add them to the run's **input_datasets** collection, so you can also retrieve the dataset from this collection by specifying its \"friendly name\" (which as you'll see shortly, is specified in the argument definition in the script run configuration for the experiment). This is the approach taken in the script above.\n",
        "\n",
        "Now you can run a script as an experiment, defining an argument for the training dataset, which is read by the script.\n",
        "\n",
        "> **Note**: The **Dataset** class depends on some components in the **azureml-dataprep** package, which includes optional support for **pandas** that is used by the **to_pandas_dataframe()** method. So you need to include this package in the environment where the training experiment will be run."
      ]
    },
    {
      "cell_type": "code",
      "metadata": {
        "id": "KLSrWETcAfnm"
      },
      "source": [
        "from azureml.core import Experiment, ScriptRunConfig, Environment\n",
        "from azureml.core.conda_dependencies import CondaDependencies\n",
        "from azureml.widgets import RunDetails\n",
        "\n",
        "# Create a Python environment for the experiment\n",
        "sklearn_env = Environment('sklearn-env')\n",
        "\n",
        "# Ensure the required packages are installed (we need scikit-learn, \n",
        "# Azure ML defaults, and Azure ML dataprep)\n",
        "\n",
        "packages = CondaDependencies.create(conda_packages=['scikit-learn', 'pip'],\n",
        "                                    pip_packages=['azureml-defaults',\n",
        "                                                  'azureml-dataprep[pandas]'])\n",
        "sklearn_env.python.conda_dependencies = packages\n",
        "\n",
        "# Get the training dataset\n",
        "diabetes_ds = ws.datasets.get('diabetes dataset')\n",
        "\n",
        "# Create a script config\n",
        "script_config = ScriptRunConfig(source_directory=experiment_folder,\n",
        "                                script='diabetes_training.py',\n",
        "                                arguments=['--regularization', 0.1, # Regularization rate parameter\n",
        "                                           '--input-data',\n",
        "                                           diabetes_ds.as_named_input('training_data')], # Reference to dataset\n",
        "                                environment=sklearn_env)\n",
        "\n",
        "# Submit the experiment\n",
        "experiment_name = 'mslearn-train-diabetes'\n",
        "experiment = Experiment(workspace=ws, name=experiment_name)\n",
        "run = experiment.submit(config=script_config)\n",
        "RunDetails(run).show()\n",
        "run.wait_for_completion()"
      ],
      "execution_count": null,
      "outputs": []
    },
    {
      "cell_type": "markdown",
      "metadata": {
        "id": "9vLMZLHgCpJq"
      },
      "source": [
        "> **Note:** The **--input-data** argument passes the dataset as a *named input* that includes a *friendly name* for the dataset, which is used by the script to read it from the **input_datasets** collection in the experiment run. The string value in the **--input-data** argument is actually the registered dataset's ID.  As an alternative approach, you could simply pass `diabetes_ds.id`, in which case the script can access the dataset ID from the script arguments and use it to get the dataset from the workspace, but not from the **input_datasets** collection.\n",
        "\n",
        "The first time the experiment is run, it may take some time to set up the Python environment - subsequent runs will be quicker.\n",
        "\n",
        "When the experiment has completed, in the widget, view the **azureml-logs/70_driver_log.txt** output log and the metrics generated by the run.\n",
        "\n",
        "### Register the trained model\n",
        "\n",
        "As with any training experiment, you can retrieve the trained model and register it in your Azure Machine Learning workspace."
      ]
    },
    {
      "cell_type": "code",
      "metadata": {
        "id": "DSYDKSbHCpol"
      },
      "source": [
        "from azureml.core import Model\n",
        "\n",
        "run.register_model(model_path='outputs/diabetes_model.pkl',\n",
        "                   model_name='diabetes_model',\n",
        "                   tags={'Training context': 'Tabular dataset'},\n",
        "                   properties={'AUC': run.get_metrics()['AUC'],\n",
        "                               'Accuracy': run.get_metrics()['Accuracy']})\n",
        "\n",
        "for model in Model.list(ws):\n",
        "  print(model.name, 'version:', model.version)\n",
        "  for tag_name in model.tags:\n",
        "    tag = model.tags[tag_name]\n",
        "    print('\\t', tag_name, ':', tag)\n",
        "  for prop_name in model.properties:\n",
        "    prop = model.properties[prop_name]\n",
        "    print('\\t', prop_name, ':', prop)\n",
        "  print('\\n')"
      ],
      "execution_count": null,
      "outputs": []
    },
    {
      "cell_type": "markdown",
      "metadata": {
        "id": "3OmeQTZaFOj2"
      },
      "source": [
        "### Train a model from a file dataset\n",
        "\n",
        "You've seen how to train a model using training data in a *tabular* dataset; but what about a *file* dataset?\n",
        "\n",
        "When you're using a file dataset, the dataset argument passed to the script represents a mount point containing file paths. How you read the data from these files depends on the kind of data in the files and what you want to do with it. In the case of the diabetes CSV files, you can use the Python **glob** module to create a list of files in the virtual mount point defined by the dataset, and read them all into Pandas dataframes that are concatenated into a single dataframe.\n",
        "\n",
        "Run the following two code cells to create:\n",
        "\n",
        "1. A folder named **diabetes_training_from_file_dataset**\n",
        "2. A script that trains a classification model by using a file dataset that is passed to is as an *input*."
      ]
    },
    {
      "cell_type": "code",
      "metadata": {
        "id": "ItPidjfPFNQo"
      },
      "source": [
        "import os \n",
        "\n",
        "# Create a folder for the experiment files\n",
        "experiment_folder = 'diabetes_training_from_file_dataset'\n",
        "os.makedirs(experiment_folder, exist_ok=True)\n",
        "print(experiment_folder, 'folder created')"
      ],
      "execution_count": null,
      "outputs": []
    },
    {
      "cell_type": "code",
      "metadata": {
        "id": "H68L5ZlCKJw7"
      },
      "source": [
        "%%writefile $experiment_folder/diabetes_training.py\n",
        "# Import libraries\n",
        "import os\n",
        "import argparse\n",
        "from azureml.core import Dataset, Run\n",
        "import pandas as pd\n",
        "import numpy as np\n",
        "import joblib\n",
        "from sklearn.model_selection import train_test_split\n",
        "from sklearn.linear_model import LogisticRegression\n",
        "from sklearn.metrics import roc_auc_score\n",
        "from sklearn.metrics import roc_curve\n",
        "import glob\n",
        "\n",
        "# Get script arguments (rgularization rate and file dataset mount point)\n",
        "parser = argparse.ArgumentParser()\n",
        "parser.add_argument('--regularization', type=float, dest='reg_rate', default=0.01, help='regularization rate')\n",
        "parser.add_argument('--input-data', type=str, dest='dataset_folder', help='data mount point')\n",
        "args = parser.parse_args()\n",
        "\n",
        "# Set regularization hyperparameter (passed as an argument to the script)\n",
        "reg = args.reg_rate\n",
        "\n",
        "# Get the experiment run context\n",
        "run = Run.get_context()\n",
        "\n",
        "# load the diabetes dataset\n",
        "print(\"Loading Data...\")\n",
        "data_path = run.input_datasets['training_files'] # Get the training data path from the input\n",
        "# (You could also just use args.dataset_folder if you don't want to rely on a hard-coded friendly name)\n",
        "# Read the files\n",
        "all_files = glob.glob(data_path + \"/*.csv\")\n",
        "diabetes = pd.concat((pd.read_csv(f) for f in all_files), sort=False)\n",
        "\n",
        "# Separate features and labels\n",
        "X, y = diabetes[['Pregnancies','PlasmaGlucose','DiastolicBloodPressure','TricepsThickness','SerumInsulin','BMI','DiabetesPedigree','Age']].values, diabetes['Diabetic'].values\n",
        "\n",
        "# Split data into training set and test set\n",
        "X_train, X_test, y_train, y_test = train_test_split(X, y, test_size=0.30, random_state=0)\n",
        "\n",
        "# Train a logistic regression model\n",
        "print('Training a logistic regression model with regularization rate of', reg)\n",
        "run.log('Regularization Rate',  np.float(reg))\n",
        "model = LogisticRegression(C=1/reg, solver=\"liblinear\").fit(X_train, y_train)\n",
        "\n",
        "# calculate accuracy\n",
        "y_hat = model.predict(X_test)\n",
        "acc = np.average(y_hat == y_test)\n",
        "print('Accuracy:', acc)\n",
        "run.log('Accuracy', np.float(acc))\n",
        "\n",
        "# calculate AUC\n",
        "y_scores = model.predict_proba(X_test)\n",
        "auc = roc_auc_score(y_test,y_scores[:,1])\n",
        "print('AUC: ' + str(auc))\n",
        "run.log('AUC', np.float(auc))\n",
        "\n",
        "os.makedirs('outputs', exist_ok=True)\n",
        "# note file saved in the outputs folder is automatically uploaded into experiment record\n",
        "joblib.dump(value=model, filename='outputs/diabetes_model.pkl')\n",
        "\n",
        "run.complete()"
      ],
      "execution_count": null,
      "outputs": []
    },
    {
      "cell_type": "markdown",
      "metadata": {
        "id": "SDDTXVFbNAdE"
      },
      "source": [
        "Just as with tabular datasets, you can retrieve a file dataset from the **input_datasets** collection by using its friendly name. You can also retrieve it from the script argument, which in the case of a file dataset contains a mount path to the files (rather than the dataset ID passed for a tabular dataset).\n",
        "\n",
        "Next we need to change the way we pass the dataset to the script - it needs to define a path from which the script can read the files. You can use either the **as_download** or **as_mount** method to do this. Using **as_download** causes the files in the file dataset to be downloaded to a temporary location on the compute where the script is being run, while **as_mount** creates a mount point from which the files can be streamed directly from the datasetore.\n",
        "\n",
        "You can combine the access method with the **as_named_input** method to include the dataset in the **input_datasets** collection in the experiment run (if you omit this, for example by setting the argument to `diabetes_ds.as_mount()`, the script will be able to access the dataset mount point from the script arguments, but not from the **input_datasets** collection)."
      ]
    },
    {
      "cell_type": "code",
      "metadata": {
        "id": "ZXzSa9eANAs2"
      },
      "source": [
        "from azureml.core import Experiment\n",
        "from azureml.widgets import RunDetails\n",
        "\n",
        "\n",
        "# Get the training dataset\n",
        "diabetes_ds = ws.datasets.get(\"diabetes file dataset\")\n",
        "\n",
        "# Create a script config\n",
        "script_config = ScriptRunConfig(source_directory=experiment_folder,\n",
        "                                script='diabetes_training.py',\n",
        "                                arguments = ['--regularization', 0.1, # Regularizaton rate parameter\n",
        "                                             '--input-data', diabetes_ds.as_named_input('training_files').as_download()], # Reference to dataset location\n",
        "                                environment=sklearn_env) # Use the environment created previously\n",
        "\n",
        "# submit the experiment\n",
        "experiment_name = 'mslearn-train-diabetes'\n",
        "experiment = Experiment(workspace=ws, name=experiment_name)\n",
        "run = experiment.submit(config=script_config)\n",
        "RunDetails(run).show()\n",
        "run.wait_for_completion()"
      ],
      "execution_count": null,
      "outputs": []
    },
    {
      "cell_type": "markdown",
      "metadata": {
        "id": "r_8b8QD7Tk5P"
      },
      "source": [
        "### Register the trained model\n",
        "\n",
        "Once again, you can register the model that was trained by the experiment."
      ]
    },
    {
      "cell_type": "code",
      "metadata": {
        "id": "65IuxhRzTfdY"
      },
      "source": [
        "from azureml.core import Model\n",
        "\n",
        "run.register_model(model_path='outputs/diabetes_model.pkl',\n",
        "                   model_name='diabetes model',\n",
        "                   tags={'Training context': 'File dataset'},\n",
        "                   properties={'AUC': run.get_metrics()['AUC'],\n",
        "                               'Accuracy': run.get_metrics()['Accuracy']})\n",
        "\n",
        "for model in Model.list(ws):\n",
        "  print(model.name, 'version:', model.version)\n",
        "  for tag_name in model.tags:\n",
        "    tag = model.tags[tag_name]\n",
        "    print('\\t', tag_name, ':', tag)\n",
        "  for prop_name in model.properties:\n",
        "    prop = model.properties[prop_name]\n",
        "    print('\\t', prop_name, ':', prop)\n",
        "  print('\\n')\n"
      ],
      "execution_count": null,
      "outputs": []
    }
  ]
}