{
  "nbformat": 4,
  "nbformat_minor": 0,
  "metadata": {
    "colab": {
      "provenance": [],
      "authorship_tag": "ABX9TyP21vFMYnGG5w6Cnh3xTYWn",
      "include_colab_link": true
    },
    "kernelspec": {
      "name": "python3",
      "display_name": "Python 3"
    },
    "language_info": {
      "name": "python"
    }
  },
  "cells": [
    {
      "cell_type": "markdown",
      "metadata": {
        "id": "view-in-github",
        "colab_type": "text"
      },
      "source": [
        "<a href=\"https://colab.research.google.com/github/martindevoto/machine-learning-notebooks-personal/blob/main/Intro_Haystack_pt_3.ipynb\" target=\"_parent\"><img src=\"https://colab.research.google.com/assets/colab-badge.svg\" alt=\"Open In Colab\"/></a>"
      ]
    },
    {
      "cell_type": "markdown",
      "source": [
        "# Build a QA System Without Elasticsearch\n",
        "\n",
        "[![Open In Colab](https://colab.research.google.com/assets/colab-badge.svg)](https://colab.research.google.com/github/deepset-ai/haystack/blob/master/tutorials/Tutorial3_Basic_QA_Pipeline_without_Elasticsearch.ipynb)\n",
        "\n",
        "Haystack provides alternatives to Elasticsearch for developing quick prototypes.\n",
        "\n",
        "You can use an `InMemoryDocumentStore` or a `SQLDocumentStore`(with SQLite) as the document store.\n",
        "\n",
        "If you are interested in more feature-rich Elasticsearch, then please refer to the Tutorial 1. "
      ],
      "metadata": {
        "id": "xXHbF1ZAY6lb"
      }
    },
    {
      "cell_type": "code",
      "execution_count": null,
      "metadata": {
        "colab": {
          "base_uri": "https://localhost:8080/"
        },
        "id": "kEiMMOPRY0lM",
        "outputId": "564ab835-fe5b-43df-f875-6f00d8f252ae"
      },
      "outputs": [
        {
          "output_type": "stream",
          "name": "stdout",
          "text": [
            "/bin/bash: nvidia-smi: command not found\n"
          ]
        }
      ],
      "source": [
        "# Make sure you have a GPU running\n",
        "!nvidia-smi"
      ]
    },
    {
      "cell_type": "code",
      "source": [
        "# Install the latest release of Haystack in your own environment\n",
        "#! pip install farm-haystack\n",
        "\n",
        "# Install the latest master of Haystack\n",
        "!pip install --upgrade pip\n",
        "!pip install git+https://github.com/deepset-ai/haystack.git#egg=farm-haystack[colab]"
      ],
      "metadata": {
        "colab": {
          "base_uri": "https://localhost:8080/"
        },
        "id": "co8o7oFRY627",
        "outputId": "e8d4c488-2f40-467d-8aa6-4adbed8c2653"
      },
      "execution_count": null,
      "outputs": [
        {
          "output_type": "stream",
          "name": "stdout",
          "text": [
            "Requirement already satisfied: pip in /usr/local/lib/python3.7/dist-packages (22.0.3)\n",
            "\u001b[33mWARNING: Running pip as the 'root' user can result in broken permissions and conflicting behaviour with the system package manager. It is recommended to use a virtual environment instead: https://pip.pypa.io/warnings/venv\u001b[0m\u001b[33m\n",
            "\u001b[0mCollecting farm-haystack[colab]\n",
            "  Cloning https://github.com/deepset-ai/haystack.git to /tmp/pip-install-tll5jkpd/farm-haystack_00e8919311684c908025942373e6a635\n",
            "  Running command git clone --filter=blob:none --quiet https://github.com/deepset-ai/haystack.git /tmp/pip-install-tll5jkpd/farm-haystack_00e8919311684c908025942373e6a635\n",
            "  Resolved https://github.com/deepset-ai/haystack.git to commit a095aea21ea9f9a6dff155d571ec7be3f92fcbfa\n",
            "  Installing build dependencies ... \u001b[?25l\u001b[?25hdone\n",
            "  Getting requirements to build wheel ... \u001b[?25l\u001b[?25hdone\n",
            "  Preparing metadata (pyproject.toml) ... \u001b[?25l\u001b[?25hdone\n",
            "Requirement already satisfied: elasticsearch<=7.10,>=7.7 in /usr/local/lib/python3.7/dist-packages (from farm-haystack[colab]) (7.10.0)\n",
            "Requirement already satisfied: tqdm in /usr/local/lib/python3.7/dist-packages (from farm-haystack[colab]) (4.62.3)\n",
            "Requirement already satisfied: pydantic in /usr/local/lib/python3.7/dist-packages (from farm-haystack[colab]) (1.9.0)\n",
            "Requirement already satisfied: seqeval in /usr/local/lib/python3.7/dist-packages (from farm-haystack[colab]) (1.2.2)\n",
            "Requirement already satisfied: elastic-apm in /usr/local/lib/python3.7/dist-packages (from farm-haystack[colab]) (6.7.2)\n",
            "Requirement already satisfied: scikit-learn>=1.0.0 in /usr/local/lib/python3.7/dist-packages (from farm-haystack[colab]) (1.0.2)\n",
            "Requirement already satisfied: quantulum3 in /usr/local/lib/python3.7/dist-packages (from farm-haystack[colab]) (0.7.9)\n",
            "Requirement already satisfied: nltk in /usr/local/lib/python3.7/dist-packages (from farm-haystack[colab]) (3.2.5)\n",
            "Requirement already satisfied: azure-ai-formrecognizer==3.2.0b2 in /usr/local/lib/python3.7/dist-packages (from farm-haystack[colab]) (3.2.0b2)\n",
            "Requirement already satisfied: python-docx in /usr/local/lib/python3.7/dist-packages (from farm-haystack[colab]) (0.8.11)\n",
            "Requirement already satisfied: requests in /usr/local/lib/python3.7/dist-packages (from farm-haystack[colab]) (2.23.0)\n",
            "Requirement already satisfied: pandas in /usr/local/lib/python3.7/dist-packages (from farm-haystack[colab]) (1.3.5)\n",
            "Requirement already satisfied: transformers==4.13.0 in /usr/local/lib/python3.7/dist-packages (from farm-haystack[colab]) (4.13.0)\n",
            "Requirement already satisfied: dill in /usr/local/lib/python3.7/dist-packages (from farm-haystack[colab]) (0.3.4)\n",
            "Requirement already satisfied: networkx in /usr/local/lib/python3.7/dist-packages (from farm-haystack[colab]) (2.6.3)\n",
            "Requirement already satisfied: mlflow<=1.13.1 in /usr/local/lib/python3.7/dist-packages (from farm-haystack[colab]) (1.13.1)\n",
            "Requirement already satisfied: mmh3 in /usr/local/lib/python3.7/dist-packages (from farm-haystack[colab]) (3.0.0)\n",
            "Requirement already satisfied: torch<1.11,>1.9 in /usr/local/lib/python3.7/dist-packages (from farm-haystack[colab]) (1.10.0+cu111)\n",
            "Requirement already satisfied: scipy>=1.3.2 in /usr/local/lib/python3.7/dist-packages (from farm-haystack[colab]) (1.4.1)\n",
            "Requirement already satisfied: more-itertools in /usr/local/lib/python3.7/dist-packages (from farm-haystack[colab]) (8.12.0)\n",
            "Requirement already satisfied: tika in /usr/local/lib/python3.7/dist-packages (from farm-haystack[colab]) (1.24)\n",
            "Requirement already satisfied: sentence-transformers>=0.4.0 in /usr/local/lib/python3.7/dist-packages (from farm-haystack[colab]) (2.1.0)\n",
            "Requirement already satisfied: importlib-metadata in /usr/local/lib/python3.7/dist-packages (from farm-haystack[colab]) (4.10.1)\n",
            "Requirement already satisfied: langdetect in /usr/local/lib/python3.7/dist-packages (from farm-haystack[colab]) (1.0.9)\n",
            "Requirement already satisfied: grpcio==1.43.0 in /usr/local/lib/python3.7/dist-packages (from farm-haystack[colab]) (1.43.0)\n",
            "Requirement already satisfied: six>=1.11.0 in /usr/local/lib/python3.7/dist-packages (from azure-ai-formrecognizer==3.2.0b2->farm-haystack[colab]) (1.15.0)\n",
            "Requirement already satisfied: azure-common~=1.1 in /usr/local/lib/python3.7/dist-packages (from azure-ai-formrecognizer==3.2.0b2->farm-haystack[colab]) (1.1.28)\n",
            "Requirement already satisfied: msrest>=0.6.21 in /usr/local/lib/python3.7/dist-packages (from azure-ai-formrecognizer==3.2.0b2->farm-haystack[colab]) (0.6.21)\n",
            "Requirement already satisfied: azure-core<2.0.0,>=1.13.0 in /usr/local/lib/python3.7/dist-packages (from azure-ai-formrecognizer==3.2.0b2->farm-haystack[colab]) (1.22.0)\n",
            "Requirement already satisfied: regex!=2019.12.17 in /usr/local/lib/python3.7/dist-packages (from transformers==4.13.0->farm-haystack[colab]) (2019.12.20)\n",
            "Requirement already satisfied: huggingface-hub<1.0,>=0.1.0 in /usr/local/lib/python3.7/dist-packages (from transformers==4.13.0->farm-haystack[colab]) (0.4.0)\n",
            "Requirement already satisfied: tokenizers<0.11,>=0.10.1 in /usr/local/lib/python3.7/dist-packages (from transformers==4.13.0->farm-haystack[colab]) (0.10.3)\n",
            "Requirement already satisfied: sacremoses in /usr/local/lib/python3.7/dist-packages (from transformers==4.13.0->farm-haystack[colab]) (0.0.47)\n",
            "Requirement already satisfied: numpy>=1.17 in /usr/local/lib/python3.7/dist-packages (from transformers==4.13.0->farm-haystack[colab]) (1.19.5)\n",
            "Requirement already satisfied: filelock in /usr/local/lib/python3.7/dist-packages (from transformers==4.13.0->farm-haystack[colab]) (3.4.2)\n",
            "Requirement already satisfied: packaging>=20.0 in /usr/local/lib/python3.7/dist-packages (from transformers==4.13.0->farm-haystack[colab]) (21.3)\n",
            "Requirement already satisfied: pyyaml>=5.1 in /usr/local/lib/python3.7/dist-packages (from transformers==4.13.0->farm-haystack[colab]) (6.0)\n",
            "Requirement already satisfied: urllib3<2,>=1.21.1 in /usr/local/lib/python3.7/dist-packages (from elasticsearch<=7.10,>=7.7->farm-haystack[colab]) (1.24.3)\n",
            "Requirement already satisfied: certifi in /usr/local/lib/python3.7/dist-packages (from elasticsearch<=7.10,>=7.7->farm-haystack[colab]) (2021.10.8)\n",
            "Requirement already satisfied: prometheus-flask-exporter in /usr/local/lib/python3.7/dist-packages (from mlflow<=1.13.1->farm-haystack[colab]) (0.18.7)\n",
            "Requirement already satisfied: databricks-cli>=0.8.7 in /usr/local/lib/python3.7/dist-packages (from mlflow<=1.13.1->farm-haystack[colab]) (0.16.4)\n",
            "Requirement already satisfied: azure-storage-blob>=12.0.0 in /usr/local/lib/python3.7/dist-packages (from mlflow<=1.13.1->farm-haystack[colab]) (12.9.0)\n",
            "Requirement already satisfied: sqlparse>=0.3.1 in /usr/local/lib/python3.7/dist-packages (from mlflow<=1.13.1->farm-haystack[colab]) (0.4.2)\n",
            "Requirement already satisfied: querystring-parser in /usr/local/lib/python3.7/dist-packages (from mlflow<=1.13.1->farm-haystack[colab]) (1.2.4)\n",
            "Requirement already satisfied: entrypoints in /usr/local/lib/python3.7/dist-packages (from mlflow<=1.13.1->farm-haystack[colab]) (0.4)\n",
            "Requirement already satisfied: gitpython>=2.1.0 in /usr/local/lib/python3.7/dist-packages (from mlflow<=1.13.1->farm-haystack[colab]) (3.1.26)\n",
            "Requirement already satisfied: alembic<=1.4.1 in /usr/local/lib/python3.7/dist-packages (from mlflow<=1.13.1->farm-haystack[colab]) (1.4.1)\n",
            "Requirement already satisfied: gunicorn in /usr/local/lib/python3.7/dist-packages (from mlflow<=1.13.1->farm-haystack[colab]) (20.1.0)\n",
            "Requirement already satisfied: Flask in /usr/local/lib/python3.7/dist-packages (from mlflow<=1.13.1->farm-haystack[colab]) (1.1.4)\n",
            "Requirement already satisfied: protobuf>=3.6.0 in /usr/local/lib/python3.7/dist-packages (from mlflow<=1.13.1->farm-haystack[colab]) (3.17.3)\n",
            "Requirement already satisfied: python-dateutil in /usr/local/lib/python3.7/dist-packages (from mlflow<=1.13.1->farm-haystack[colab]) (2.8.2)\n",
            "Requirement already satisfied: cloudpickle in /usr/local/lib/python3.7/dist-packages (from mlflow<=1.13.1->farm-haystack[colab]) (1.3.0)\n",
            "Requirement already satisfied: sqlalchemy in /usr/local/lib/python3.7/dist-packages (from mlflow<=1.13.1->farm-haystack[colab]) (1.4.31)\n",
            "Requirement already satisfied: click>=7.0 in /usr/local/lib/python3.7/dist-packages (from mlflow<=1.13.1->farm-haystack[colab]) (7.1.2)\n",
            "Requirement already satisfied: docker>=4.0.0 in /usr/local/lib/python3.7/dist-packages (from mlflow<=1.13.1->farm-haystack[colab]) (5.0.3)\n",
            "Requirement already satisfied: chardet<4,>=3.0.2 in /usr/local/lib/python3.7/dist-packages (from requests->farm-haystack[colab]) (3.0.4)\n",
            "Requirement already satisfied: idna<3,>=2.5 in /usr/local/lib/python3.7/dist-packages (from requests->farm-haystack[colab]) (2.10)\n",
            "Requirement already satisfied: threadpoolctl>=2.0.0 in /usr/local/lib/python3.7/dist-packages (from scikit-learn>=1.0.0->farm-haystack[colab]) (3.1.0)\n",
            "Requirement already satisfied: joblib>=0.11 in /usr/local/lib/python3.7/dist-packages (from scikit-learn>=1.0.0->farm-haystack[colab]) (1.1.0)\n",
            "Requirement already satisfied: torchvision in /usr/local/lib/python3.7/dist-packages (from sentence-transformers>=0.4.0->farm-haystack[colab]) (0.11.1+cu111)\n",
            "Requirement already satisfied: sentencepiece in /usr/local/lib/python3.7/dist-packages (from sentence-transformers>=0.4.0->farm-haystack[colab]) (0.1.96)\n",
            "Requirement already satisfied: typing-extensions in /usr/local/lib/python3.7/dist-packages (from torch<1.11,>1.9->farm-haystack[colab]) (3.10.0.2)\n",
            "Requirement already satisfied: zipp>=0.5 in /usr/local/lib/python3.7/dist-packages (from importlib-metadata->farm-haystack[colab]) (3.7.0)\n",
            "Requirement already satisfied: pytz>=2017.3 in /usr/local/lib/python3.7/dist-packages (from pandas->farm-haystack[colab]) (2018.9)\n",
            "Requirement already satisfied: lxml>=2.3.2 in /usr/local/lib/python3.7/dist-packages (from python-docx->farm-haystack[colab]) (4.2.6)\n",
            "Requirement already satisfied: num2words in /usr/local/lib/python3.7/dist-packages (from quantulum3->farm-haystack[colab]) (0.5.10)\n",
            "Requirement already satisfied: inflect in /usr/local/lib/python3.7/dist-packages (from quantulum3->farm-haystack[colab]) (2.1.0)\n",
            "Requirement already satisfied: setuptools in /usr/local/lib/python3.7/dist-packages (from tika->farm-haystack[colab]) (57.4.0)\n",
            "Requirement already satisfied: python-editor>=0.3 in /usr/local/lib/python3.7/dist-packages (from alembic<=1.4.1->mlflow<=1.13.1->farm-haystack[colab]) (1.0.4)\n",
            "Requirement already satisfied: Mako in /usr/local/lib/python3.7/dist-packages (from alembic<=1.4.1->mlflow<=1.13.1->farm-haystack[colab]) (1.1.6)\n",
            "Requirement already satisfied: cryptography>=2.1.4 in /usr/local/lib/python3.7/dist-packages (from azure-storage-blob>=12.0.0->mlflow<=1.13.1->farm-haystack[colab]) (36.0.1)\n",
            "Requirement already satisfied: tabulate>=0.7.7 in /usr/local/lib/python3.7/dist-packages (from databricks-cli>=0.8.7->mlflow<=1.13.1->farm-haystack[colab]) (0.8.9)\n",
            "Requirement already satisfied: websocket-client>=0.32.0 in /usr/local/lib/python3.7/dist-packages (from docker>=4.0.0->mlflow<=1.13.1->farm-haystack[colab]) (1.2.3)\n",
            "Requirement already satisfied: gitdb<5,>=4.0.1 in /usr/local/lib/python3.7/dist-packages (from gitpython>=2.1.0->mlflow<=1.13.1->farm-haystack[colab]) (4.0.9)\n",
            "Requirement already satisfied: requests-oauthlib>=0.5.0 in /usr/local/lib/python3.7/dist-packages (from msrest>=0.6.21->azure-ai-formrecognizer==3.2.0b2->farm-haystack[colab]) (1.3.1)\n",
            "Requirement already satisfied: isodate>=0.6.0 in /usr/local/lib/python3.7/dist-packages (from msrest>=0.6.21->azure-ai-formrecognizer==3.2.0b2->farm-haystack[colab]) (0.6.1)\n",
            "Requirement already satisfied: pyparsing!=3.0.5,>=2.0.2 in /usr/local/lib/python3.7/dist-packages (from packaging>=20.0->transformers==4.13.0->farm-haystack[colab]) (3.0.7)\n",
            "Requirement already satisfied: greenlet!=0.4.17 in /usr/local/lib/python3.7/dist-packages (from sqlalchemy->mlflow<=1.13.1->farm-haystack[colab]) (1.1.2)\n",
            "Requirement already satisfied: Werkzeug<2.0,>=0.15 in /usr/local/lib/python3.7/dist-packages (from Flask->mlflow<=1.13.1->farm-haystack[colab]) (1.0.1)\n",
            "Requirement already satisfied: itsdangerous<2.0,>=0.24 in /usr/local/lib/python3.7/dist-packages (from Flask->mlflow<=1.13.1->farm-haystack[colab]) (1.1.0)\n",
            "Requirement already satisfied: Jinja2<3.0,>=2.10.1 in /usr/local/lib/python3.7/dist-packages (from Flask->mlflow<=1.13.1->farm-haystack[colab]) (2.11.3)\n",
            "Requirement already satisfied: docopt>=0.6.2 in /usr/local/lib/python3.7/dist-packages (from num2words->quantulum3->farm-haystack[colab]) (0.6.2)\n",
            "Requirement already satisfied: prometheus-client in /usr/local/lib/python3.7/dist-packages (from prometheus-flask-exporter->mlflow<=1.13.1->farm-haystack[colab]) (0.13.1)\n",
            "Requirement already satisfied: pillow!=8.3.0,>=5.3.0 in /usr/local/lib/python3.7/dist-packages (from torchvision->sentence-transformers>=0.4.0->farm-haystack[colab]) (7.1.2)\n",
            "Requirement already satisfied: cffi>=1.12 in /usr/local/lib/python3.7/dist-packages (from cryptography>=2.1.4->azure-storage-blob>=12.0.0->mlflow<=1.13.1->farm-haystack[colab]) (1.15.0)\n",
            "Requirement already satisfied: smmap<6,>=3.0.1 in /usr/local/lib/python3.7/dist-packages (from gitdb<5,>=4.0.1->gitpython>=2.1.0->mlflow<=1.13.1->farm-haystack[colab]) (5.0.0)\n",
            "Requirement already satisfied: MarkupSafe>=0.23 in /usr/local/lib/python3.7/dist-packages (from Jinja2<3.0,>=2.10.1->Flask->mlflow<=1.13.1->farm-haystack[colab]) (2.0.1)\n",
            "Requirement already satisfied: oauthlib>=3.0.0 in /usr/local/lib/python3.7/dist-packages (from requests-oauthlib>=0.5.0->msrest>=0.6.21->azure-ai-formrecognizer==3.2.0b2->farm-haystack[colab]) (3.2.0)\n",
            "Requirement already satisfied: pycparser in /usr/local/lib/python3.7/dist-packages (from cffi>=1.12->cryptography>=2.1.4->azure-storage-blob>=12.0.0->mlflow<=1.13.1->farm-haystack[colab]) (2.21)\n",
            "\u001b[33mWARNING: Running pip as the 'root' user can result in broken permissions and conflicting behaviour with the system package manager. It is recommended to use a virtual environment instead: https://pip.pypa.io/warnings/venv\u001b[0m\u001b[33m\n",
            "\u001b[0m"
          ]
        }
      ]
    },
    {
      "cell_type": "code",
      "source": [
        "from haystack.utils import (clean_wiki_text, convert_files_to_dicts,\n",
        "                            fetch_archive_from_http, print_answers)\n",
        "from haystack.nodes import FARMReader, TransformersReader"
      ],
      "metadata": {
        "id": "PHiDU9b6Y_Zs"
      },
      "execution_count": null,
      "outputs": []
    },
    {
      "cell_type": "markdown",
      "source": [
        "## Document Store"
      ],
      "metadata": {
        "id": "EckqWE16ZPWa"
      }
    },
    {
      "cell_type": "code",
      "source": [
        "# In-Memory Document Store\n",
        "from haystack.document_stores import InMemoryDocumentStore\n",
        "\n",
        "document_store = InMemoryDocumentStore()"
      ],
      "metadata": {
        "colab": {
          "base_uri": "https://localhost:8080/"
        },
        "id": "BUYRceD1ZOol",
        "outputId": "47a04bd5-9ff9-40c4-8f2e-f48174f2be50"
      },
      "execution_count": null,
      "outputs": [
        {
          "output_type": "stream",
          "name": "stderr",
          "text": [
            "INFO - haystack.modeling.utils -  Using devices: CPU\n",
            "INFO - haystack.modeling.utils -  Number of GPUs: 0\n"
          ]
        }
      ]
    },
    {
      "cell_type": "code",
      "source": [
        "# SQLite Document Store\n",
        "# from haystack.document_stores import SQLDocumentStore\n",
        "# document_store = SQLDocumentStore(url=\"sqlit:///qa.db\")"
      ],
      "metadata": {
        "id": "Xs1SpCcNZa6W"
      },
      "execution_count": null,
      "outputs": []
    },
    {
      "cell_type": "markdown",
      "source": [
        "## Preprocessing of documents\n",
        "\n",
        "Haystack provides a customizable pipeline for:\n",
        " - converting files into texts\n",
        " - cleaning texts\n",
        " - splitting texts\n",
        " - writing them to a Document Store\n",
        "\n",
        "In this tutorial, we download Wikipedia articles on Game of Thrones, apply a basic cleaning function, and index them in Elasticsearch."
      ],
      "metadata": {
        "id": "LR-auypCZm8n"
      }
    },
    {
      "cell_type": "code",
      "source": [
        "# Let's first get some documents that we want to query\n",
        "# Here: 517 Wikipedia articles for Game of Thrones\n",
        "doc_dir = \"data/article_txt_got\"\n",
        "s3_url = \"https://s3.eu-central-1.amazonaws.com/deepset.ai-farm-qa/datasets/documents/wiki_gameofthrones_txt.zip\"\n",
        "fetch_archive_from_http(url=s3_url, output_dir=doc_dir)\n",
        "\n",
        "# convert files to dicts containing documents that can be indexed to our datastore\n",
        "# You can optionally supply a cleaning function that is applied to each doc (e.g. to remove footers)\n",
        "# It must take a str as input, and return a str.\n",
        "dicts = convert_files_to_dicts(dir_path=doc_dir, clean_func=clean_wiki_text, split_paragraphs=True)\n",
        "\n",
        "# We now have a list of dictionaries that we can write to our document store.\n",
        "# If your texts come from a different source (e.g. a DB), you can of course skip convert_files_to_dicts() and create the dictionaries yourself.\n",
        "# The default format here is: {\"name\": \"<some-document-name>, \"text\": \"<the-actual-text>\"}\n",
        "\n",
        "# Let's have a look at the first 3 entries:\n",
        "print(dicts[:3])\n",
        "# Now, let's write the docs to our DB.\n",
        "document_store.write_documents(dicts)"
      ],
      "metadata": {
        "colab": {
          "base_uri": "https://localhost:8080/"
        },
        "id": "M0AeygRnZk16",
        "outputId": "47a48434-b692-46b7-9244-e3957f57c410"
      },
      "execution_count": null,
      "outputs": [
        {
          "output_type": "stream",
          "name": "stderr",
          "text": [
            "INFO - haystack.utils.import_utils -  Found data stored in `data/article_txt_got`. Delete this first if you really want to fetch new data.\n",
            "INFO - haystack.utils.preprocessing -  Converting data/article_txt_got/7_The_Spoils_of_War__Game_of_Thrones_.txt\n",
            "INFO - haystack.utils.preprocessing -  Converting data/article_txt_got/485_Oathkeeper.txt\n",
            "INFO - haystack.utils.preprocessing -  Converting data/article_txt_got/460_Battle_of_the_Bastards.txt\n",
            "INFO - haystack.utils.preprocessing -  Converting data/article_txt_got/52_Catch_the_Throne.txt\n",
            "INFO - haystack.utils.preprocessing -  Converting data/article_txt_got/98_Black_Friday__South_Park_.txt\n",
            "INFO - haystack.utils.preprocessing -  Converting data/article_txt_got/121_The_Bear_and_the_Maiden_Fair.txt\n",
            "INFO - haystack.utils.preprocessing -  Converting data/article_txt_got/330_Oberyn_Martell.txt\n",
            "INFO - haystack.utils.preprocessing -  Converting data/article_txt_got/148_Game_of_Thrones__Winter_Is_Coming.txt\n",
            "INFO - haystack.utils.preprocessing -  Converting data/article_txt_got/54_Two_Swords__Game_of_Thrones_.txt\n",
            "INFO - haystack.utils.preprocessing -  Converting data/article_txt_got/118_Dark_Wings__Dark_Words.txt\n",
            "INFO - haystack.utils.preprocessing -  Converting data/article_txt_got/68_The_Gift__Game_of_Thrones_.txt\n",
            "INFO - haystack.utils.preprocessing -  Converting data/article_txt_got/26_Game_of_Thrones__Season_3__soundtrack_.txt\n",
            "INFO - haystack.utils.preprocessing -  Converting data/article_txt_got/394_Game_of_Thrones__2014_video_game_.txt\n",
            "INFO - haystack.utils.preprocessing -  Converting data/article_txt_got/454_Music_of_Game_of_Thrones.txt\n",
            "INFO - haystack.utils.preprocessing -  Converting data/article_txt_got/501_Khal_Drogo.txt\n",
            "INFO - haystack.utils.preprocessing -  Converting data/article_txt_got/21_The_Bear_and_the_Maiden_Fair__song_.txt\n",
            "INFO - haystack.utils.preprocessing -  Converting data/article_txt_got/273_High_Sparrow.txt\n",
            "INFO - haystack.utils.preprocessing -  Converting data/article_txt_got/446_A_Golden_Crown.txt\n",
            "INFO - haystack.utils.preprocessing -  Converting data/article_txt_got/10_Beyond_the_Wall__Game_of_Thrones_.txt\n",
            "INFO - haystack.utils.preprocessing -  Converting data/article_txt_got/450_Baelor.txt\n",
            "INFO - haystack.utils.preprocessing -  Converting data/article_txt_got/56_First_of_His_Name.txt\n",
            "INFO - haystack.utils.preprocessing -  Converting data/article_txt_got/102_The_Princess_and_the_Queen.txt\n",
            "INFO - haystack.utils.preprocessing -  Converting data/article_txt_got/76_Valar_Morghulis.txt\n",
            "INFO - haystack.utils.preprocessing -  Converting data/article_txt_got/146_The_Sons_of_the_Dragon.txt\n",
            "INFO - haystack.utils.preprocessing -  Converting data/article_txt_got/129_Second_Sons.txt\n",
            "INFO - haystack.utils.preprocessing -  Converting data/article_txt_got/400_Winterfell__Game_of_Thrones_episode_.txt\n",
            "INFO - haystack.utils.preprocessing -  Converting data/article_txt_got/359_Kill_the_Boy.txt\n",
            "INFO - haystack.utils.preprocessing -  Converting data/article_txt_got/209_Mockingbird__Game_of_Thrones_.txt\n",
            "INFO - haystack.utils.preprocessing -  Converting data/article_txt_got/97_Tyrion_Lannister.txt\n",
            "INFO - haystack.utils.preprocessing -  Converting data/article_txt_got/399_For_the_Throne__Music_Inspired_by_the_HBO_Series_Game_of_Thrones.txt\n",
            "INFO - haystack.utils.preprocessing -  Converting data/article_txt_got/407_The_Long_Night__Game_of_Thrones_.txt\n",
            "INFO - haystack.utils.preprocessing -  Converting data/article_txt_got/368_Jaime_Lannister.txt\n",
            "INFO - haystack.utils.preprocessing -  Converting data/article_txt_got/80_A_Song_of_Ice_and_Fire_fandom.txt\n",
            "INFO - haystack.utils.preprocessing -  Converting data/article_txt_got/84_List_of_awards_and_nominations_received_by_Game_of_Thrones.txt\n",
            "INFO - haystack.utils.preprocessing -  Converting data/article_txt_got/488_Brienne_of_Tarth.txt\n",
            "INFO - haystack.utils.preprocessing -  Converting data/article_txt_got/208_Robb_Stark.txt\n",
            "INFO - haystack.utils.preprocessing -  Converting data/article_txt_got/445_The_Wolf_and_the_Lion.txt\n",
            "INFO - haystack.utils.preprocessing -  Converting data/article_txt_got/332_Sansa_Stark.txt\n",
            "INFO - haystack.utils.preprocessing -  Converting data/article_txt_got/506_Game_of_Thrones_Theme.txt\n",
            "INFO - haystack.utils.preprocessing -  Converting data/article_txt_got/232_Tommen_Baratheon.txt\n",
            "INFO - haystack.utils.preprocessing -  Converting data/article_txt_got/77_Game_of_Thrones_Ascent.txt\n",
            "INFO - haystack.utils.preprocessing -  Converting data/article_txt_got/331_Bran_Stark.txt\n",
            "INFO - haystack.utils.preprocessing -  Converting data/article_txt_got/342_Theon_Greyjoy.txt\n",
            "INFO - haystack.utils.preprocessing -  Converting data/article_txt_got/482_Petyr_Baelish.txt\n",
            "INFO - haystack.utils.preprocessing -  Converting data/article_txt_got/160_Viserys_Targaryen.txt\n",
            "INFO - haystack.utils.preprocessing -  Converting data/article_txt_got/475_A_Game_of_Thrones__role-playing_game_.txt\n",
            "INFO - haystack.utils.preprocessing -  Converting data/article_txt_got/39_Renly_Baratheon.txt\n",
            "INFO - haystack.utils.preprocessing -  Converting data/article_txt_got/306_The_Dance_of_Dragons.txt\n",
            "INFO - haystack.utils.preprocessing -  Converting data/article_txt_got/402_A_Knight_of_the_Seven_Kingdoms__Game_of_Thrones_.txt\n",
            "INFO - haystack.utils.preprocessing -  Converting data/article_txt_got/299_Rani_Mahal__TV_series_.txt\n",
            "INFO - haystack.utils.preprocessing -  Converting data/article_txt_got/228_Souad_Faress.txt\n",
            "INFO - haystack.utils.preprocessing -  Converting data/article_txt_got/508_A_Game_of_Thrones__Second_Edition__card_game_.txt\n",
            "INFO - haystack.utils.preprocessing -  Converting data/article_txt_got/0_Game_of_Thrones__season_8_.txt\n",
            "INFO - haystack.utils.preprocessing -  Converting data/article_txt_got/135_Game_of_Thrones__Season_7__soundtrack_.txt\n",
            "INFO - haystack.utils.preprocessing -  Converting data/article_txt_got/8_Eastwatch.txt\n",
            "INFO - haystack.utils.preprocessing -  Converting data/article_txt_got/444_Cripples__Bastards__and_Broken_Things.txt\n",
            "INFO - haystack.utils.preprocessing -  Converting data/article_txt_got/304_Hardhome.txt\n",
            "INFO - haystack.utils.preprocessing -  Converting data/article_txt_got/201_A_Game_of_Thrones__card_game_.txt\n",
            "INFO - haystack.utils.preprocessing -  Converting data/article_txt_got/233_Myrcella_Baratheon.txt\n",
            "INFO - haystack.utils.preprocessing -  Converting data/article_txt_got/194_A_Song_of_Ice_and_Fire.txt\n",
            "INFO - haystack.utils.preprocessing -  Converting data/article_txt_got/469_Outline_of_A_Song_of_Ice_and_Fire_franchise.txt\n",
            "INFO - haystack.utils.preprocessing -  Converting data/article_txt_got/224_The_Night_Lands.txt\n",
            "INFO - haystack.utils.preprocessing -  Converting data/article_txt_got/120_And_Now_His_Watch_Is_Ended.txt\n",
            "INFO - haystack.utils.preprocessing -  Converting data/article_txt_got/9_Game_of_Thrones_Tapestry.txt\n",
            "INFO - haystack.utils.preprocessing -  Converting data/article_txt_got/86_Game_of_Thrones__season_4_.txt\n",
            "INFO - haystack.utils.preprocessing -  Converting data/article_txt_got/515_The_Door__Game_of_Thrones_.txt\n",
            "INFO - haystack.utils.preprocessing -  Converting data/article_txt_got/410_The_Bells__Game_of_Thrones_.txt\n",
            "INFO - haystack.utils.preprocessing -  Converting data/article_txt_got/443_The_Kingsroad.txt\n",
            "INFO - haystack.utils.preprocessing -  Converting data/article_txt_got/495_Hodor.txt\n",
            "INFO - haystack.utils.preprocessing -  Converting data/article_txt_got/379_Davos_Seaworth.txt\n",
            "INFO - haystack.utils.preprocessing -  Converting data/article_txt_got/396_Game_of_Thrones__season_6_.txt\n",
            "INFO - haystack.utils.preprocessing -  Converting data/article_txt_got/78_The_Rains_of_Castamere.txt\n",
            "INFO - haystack.utils.preprocessing -  Converting data/article_txt_got/218_Olenna_Tyrell.txt\n",
            "INFO - haystack.utils.preprocessing -  Converting data/article_txt_got/211_The_Watchers_on_the_Wall.txt\n",
            "INFO - haystack.utils.preprocessing -  Converting data/article_txt_got/55_Breaker_of_Chains.txt\n",
            "INFO - haystack.utils.preprocessing -  Converting data/article_txt_got/329_Robert_Baratheon.txt\n",
            "INFO - haystack.utils.preprocessing -  Converting data/article_txt_got/347_Game_of_Thrones__season_2_.txt\n",
            "INFO - haystack.utils.preprocessing -  Converting data/article_txt_got/28_Jorah_Mormont.txt\n",
            "INFO - haystack.utils.preprocessing -  Converting data/article_txt_got/367_Gregor_Clegane.txt\n",
            "INFO - haystack.utils.preprocessing -  Converting data/article_txt_got/191_Gendry.txt\n",
            "INFO - haystack.utils.preprocessing -  Converting data/article_txt_got/33_David_Benioff.txt\n",
            "INFO - haystack.utils.preprocessing -  Converting data/article_txt_got/513_Oathbreaker__Game_of_Thrones_.txt\n",
            "INFO - haystack.utils.preprocessing -  Converting data/article_txt_got/127_The_Climb__Game_of_Thrones_.txt\n",
            "INFO - haystack.utils.preprocessing -  Converting data/article_txt_got/151_Ellaria_Sand.txt\n",
            "INFO - haystack.utils.preprocessing -  Converting data/article_txt_got/134_Game_of_Thrones__Season_6__soundtrack_.txt\n",
            "INFO - haystack.utils.preprocessing -  Converting data/article_txt_got/74_The_Prince_of_Winterfell.txt\n",
            "INFO - haystack.utils.preprocessing -  Converting data/article_txt_got/73_A_Man_Without_Honor.txt\n",
            "INFO - haystack.utils.preprocessing -  Converting data/article_txt_got/23_Game_of_Thrones_Live_Concert_Experience.txt\n",
            "INFO - haystack.utils.preprocessing -  Converting data/article_txt_got/411_The_Iron_Throne__Game_of_Thrones_.txt\n",
            "INFO - haystack.utils.preprocessing -  Converting data/article_txt_got/27_Game_of_Thrones__Season_4__soundtrack_.txt\n",
            "INFO - haystack.utils.preprocessing -  Converting data/article_txt_got/214_Dothraki_language.txt\n",
            "INFO - haystack.utils.preprocessing -  Converting data/article_txt_got/229_Game_of_Thrones.txt\n",
            "INFO - haystack.utils.preprocessing -  Converting data/article_txt_got/371_Cersei_Lannister.txt\n",
            "INFO - haystack.utils.preprocessing -  Converting data/article_txt_got/340_Roose_Bolton.txt\n",
            "INFO - haystack.utils.preprocessing -  Converting data/article_txt_got/126_Kissed_by_Fire.txt\n",
            "INFO - haystack.utils.preprocessing -  Converting data/article_txt_got/362_Winter_Is_Coming.txt\n",
            "INFO - haystack.utils.preprocessing -  Converting data/article_txt_got/119_Walk_of_Punishment.txt\n",
            "INFO - haystack.utils.preprocessing -  Converting data/article_txt_got/20_Light_of_the_Seven.txt\n",
            "INFO - haystack.utils.preprocessing -  Converting data/article_txt_got/311_Game_of_Thrones__season_7_.txt\n",
            "INFO - haystack.utils.preprocessing -  Converting data/article_txt_got/424_Night_King.txt\n",
            "INFO - haystack.utils.preprocessing -  Converting data/article_txt_got/358_A_Game_of_Thrones__Genesis.txt\n",
            "INFO - haystack.utils.preprocessing -  Converting data/article_txt_got/44_Daenerys_Targaryen.txt\n",
            "INFO - haystack.utils.preprocessing -  Converting data/article_txt_got/30_List_of_A_Song_of_Ice_and_Fire_characters.txt\n",
            "INFO - haystack.utils.preprocessing -  Converting data/article_txt_got/365_A_Song_of_Ice_and_Fire_Roleplaying.txt\n",
            "INFO - haystack.utils.preprocessing -  Converting data/article_txt_got/11_The_Dragon_and_the_Wolf.txt\n",
            "INFO - haystack.utils.preprocessing -  Converting data/article_txt_got/262_Gilly__character_.txt\n",
            "INFO - haystack.utils.preprocessing -  Converting data/article_txt_got/356_Tales_of_Dunk_and_Egg.txt\n",
            "INFO - haystack.utils.preprocessing -  Converting data/article_txt_got/3_The_Queen_s_Justice.txt\n",
            "INFO - haystack.utils.preprocessing -  Converting data/article_txt_got/12_Fire.txt\n",
            "INFO - haystack.utils.preprocessing -  Converting data/article_txt_got/461_The_Winds_of_Winter__Game_of_Thrones_.txt\n",
            "INFO - haystack.utils.preprocessing -  Converting data/article_txt_got/25_Game_of_Thrones__Season_2__soundtrack_.txt\n",
            "INFO - haystack.utils.preprocessing -  Converting data/article_txt_got/2_Stormborn.txt\n",
            "INFO - haystack.utils.preprocessing -  Converting data/article_txt_got/69_The_Red_Woman.txt\n",
            "INFO - haystack.utils.preprocessing -  Converting data/article_txt_got/474_Bronn__character_.txt\n",
            "INFO - haystack.utils.preprocessing -  Converting data/article_txt_got/217_The_Rogue_Prince.txt\n",
            "INFO - haystack.utils.preprocessing -  Converting data/article_txt_got/40_Stannis_Baratheon.txt\n",
            "INFO - haystack.utils.preprocessing -  Converting data/article_txt_got/511_After_the_Thrones.txt\n",
            "INFO - haystack.utils.preprocessing -  Converting data/article_txt_got/202_A_Feast_for_Crows.txt\n",
            "INFO - haystack.utils.preprocessing -  Converting data/article_txt_got/207_Jon_Snow__character_.txt\n",
            "INFO - haystack.utils.preprocessing -  Converting data/article_txt_got/53_The_Lion_and_the_Rose.txt\n",
            "INFO - haystack.utils.preprocessing -  Converting data/article_txt_got/263_Tormund_Giantsbane.txt\n",
            "INFO - haystack.utils.preprocessing -  Converting data/article_txt_got/334_Rickon_Stark.txt\n",
            "INFO - haystack.utils.preprocessing -  Converting data/article_txt_got/401_Power_Is_Power.txt\n",
            "INFO - haystack.utils.preprocessing -  Converting data/article_txt_got/403_Jenny_of_Oldstones.txt\n",
            "INFO - haystack.utils.preprocessing -  Converting data/article_txt_got/154_Margaery_Tyrell.txt\n",
            "INFO - haystack.utils.preprocessing -  Converting data/article_txt_got/199_A_Storm_of_Swords.txt\n",
            "INFO - haystack.utils.preprocessing -  Converting data/article_txt_got/408_The_Last_of_the_Starks.txt\n",
            "INFO - haystack.utils.preprocessing -  Converting data/article_txt_got/425_No_One__Game_of_Thrones_.txt\n",
            "INFO - haystack.utils.preprocessing -  Converting data/article_txt_got/67_Unbowed__Unbent__Unbroken.txt\n",
            "INFO - haystack.utils.preprocessing -  Converting data/article_txt_got/439_Melisandre.txt\n",
            "INFO - haystack.utils.preprocessing -  Converting data/article_txt_got/449_The_Pointy_End.txt\n",
            "INFO - haystack.utils.preprocessing -  Converting data/article_txt_got/349_List_of_Game_of_Thrones_characters.txt\n",
            "INFO - haystack.utils.preprocessing -  Converting data/article_txt_got/447_You_Win_or_You_Die.txt\n",
            "INFO - haystack.utils.preprocessing -  Converting data/article_txt_got/145_Elio_M._García_Jr._and_Linda_Antonsson.txt\n",
            "INFO - haystack.utils.preprocessing -  Converting data/article_txt_got/477_A_Dance_with_Dragons.txt\n",
            "INFO - haystack.utils.preprocessing -  Converting data/article_txt_got/480_Varys.txt\n",
            "INFO - haystack.utils.preprocessing -  Converting data/article_txt_got/75_Blackwater__Game_of_Thrones_.txt\n",
            "INFO - haystack.utils.preprocessing -  Converting data/article_txt_got/101_Titties_and_Dragons.txt\n",
            "INFO - haystack.utils.preprocessing -  Converting data/article_txt_got/514_Book_of_the_Stranger.txt\n",
            "INFO - haystack.utils.preprocessing -  Converting data/article_txt_got/512_Home__Game_of_Thrones_.txt\n",
            "INFO - haystack.utils.preprocessing -  Converting data/article_txt_got/373_Tywin_Lannister.txt\n",
            "INFO - haystack.utils.preprocessing -  Converting data/article_txt_got/57_The_Laws_of_Gods_and_Men.txt\n",
            "INFO - haystack.utils.preprocessing -  Converting data/article_txt_got/442_Game_of_Thrones__season_1_.txt\n",
            "INFO - haystack.utils.preprocessing -  Converting data/article_txt_got/343_Catelyn_Stark.txt\n",
            "INFO - haystack.utils.preprocessing -  Converting data/article_txt_got/435_White_Walker.txt\n",
            "INFO - haystack.utils.preprocessing -  Converting data/article_txt_got/317_The_Broken_Man.txt\n",
            "INFO - haystack.utils.preprocessing -  Converting data/article_txt_got/87_Valar_Dohaeris.txt\n",
            "INFO - haystack.utils.preprocessing -  Converting data/article_txt_got/22_The_Rains_of_Castamere__song_.txt\n",
            "INFO - haystack.utils.preprocessing -  Converting data/article_txt_got/378_A_Game_of_Thrones__board_game_.txt\n",
            "INFO - haystack.utils.preprocessing -  Converting data/article_txt_got/193_Lord_Snow.txt\n",
            "INFO - haystack.utils.preprocessing -  Converting data/article_txt_got/198_A_Clash_of_Kings.txt\n",
            "INFO - haystack.utils.preprocessing -  Converting data/article_txt_got/85_Game_of_Thrones__Seven_Kingdoms.txt\n",
            "INFO - haystack.utils.preprocessing -  Converting data/article_txt_got/456_Works_based_on_A_Song_of_Ice_and_Fire.txt\n",
            "INFO - haystack.utils.preprocessing -  Converting data/article_txt_got/195_World_of_A_Song_of_Ice_and_Fire.txt\n",
            "INFO - haystack.utils.preprocessing -  Converting data/article_txt_got/43_Arya_Stark.txt\n",
            "INFO - haystack.utils.preprocessing -  Converting data/article_txt_got/210_The_Mountain_and_the_Viper.txt\n",
            "INFO - haystack.utils.preprocessing -  Converting data/article_txt_got/452_Fire_and_Blood__Game_of_Thrones_.txt\n",
            "INFO - haystack.utils.preprocessing -  Converting data/article_txt_got/24_Game_of_Thrones__Season_1__soundtrack_.txt\n",
            "INFO - haystack.utils.preprocessing -  Converting data/article_txt_got/79_Thronecast.txt\n",
            "INFO - haystack.utils.preprocessing -  Converting data/article_txt_got/1_Dragonstone__Game_of_Thrones_episode_.txt\n",
            "INFO - haystack.utils.preprocessing -  Converting data/article_txt_got/131_Mhysa.txt\n",
            "INFO - haystack.utils.preprocessing -  Converting data/article_txt_got/212_The_Children__Game_of_Thrones_.txt\n",
            "INFO - haystack.utils.preprocessing -  Converting data/article_txt_got/346_Ygritte.txt\n",
            "INFO - haystack.utils.preprocessing -  Converting data/article_txt_got/197_A_Game_of_Thrones.txt\n",
            "INFO - haystack.utils.preprocessing -  Converting data/article_txt_got/395_Game_of_Thrones__season_5_.txt\n",
            "INFO - haystack.utils.preprocessing -  Converting data/article_txt_got/51_Iron_Throne__A_Song_of_Ice_and_Fire_.txt\n",
            "INFO - haystack.utils.preprocessing -  Converting data/article_txt_got/310_Mother_s_Mercy.txt\n",
            "INFO - haystack.utils.preprocessing -  Converting data/article_txt_got/487_Ramsay_Bolton.txt\n",
            "INFO - haystack.utils.preprocessing -  Converting data/article_txt_got/213_Valyrian_languages.txt\n",
            "INFO - haystack.utils.preprocessing -  Converting data/article_txt_got/360_List_of_Game_of_Thrones_episodes.txt\n",
            "INFO - haystack.utils.preprocessing -  Converting data/article_txt_got/341_Ned_Stark.txt\n",
            "INFO - haystack.utils.preprocessing -  Converting data/article_txt_got/453_Game_of_Thrones__2012_video_game_.txt\n",
            "INFO - haystack.utils.preprocessing -  Converting data/article_txt_got/345_A_Game_of_Thrones__comics_.txt\n",
            "INFO - haystack.utils.preprocessing -  Converting data/article_txt_got/133_Game_of_Thrones__Season_5__soundtrack_.txt\n",
            "INFO - haystack.utils.preprocessing -  Converting data/article_txt_got/369_Samwell_Tarly.txt\n",
            "INFO - haystack.utils.preprocessing -  Converting data/article_txt_got/481_Sandor_Clegane.txt\n",
            "INFO - haystack.utils.preprocessing -  Converting data/article_txt_got/130_Game_of_Thrones_title_sequence.txt\n",
            "INFO - haystack.utils.preprocessing -  Converting data/article_txt_got/504_List_of_A_Song_of_Ice_and_Fire_video_games.txt\n",
            "INFO - haystack.utils.preprocessing -  Converting data/article_txt_got/348_The_Winds_of_Winter.txt\n",
            "INFO - haystack.utils.preprocessing -  Converting data/article_txt_got/420_Blood_of_My_Blood.txt\n",
            "INFO - haystack.utils.preprocessing -  Converting data/article_txt_got/37_Joffrey_Baratheon.txt\n",
            "INFO - haystack.utils.preprocessing -  Converting data/article_txt_got/99_A_Song_of_Ass_and_Fire.txt\n",
            "INFO - haystack.utils.preprocessing -  Converting data/article_txt_got/136_Game_of_Thrones__Season_8__soundtrack_.txt\n",
            "INFO - haystack.document_stores.base -  Duplicate Documents: Document with id '9e9a3181b6bc168b4a25429b641e8c86' already exists in index 'document'\n",
            "INFO - haystack.document_stores.base -  Duplicate Documents: Document with id '7ed12f389f7f085bb30c7d00abd26f81' already exists in index 'document'\n",
            "INFO - haystack.document_stores.base -  Duplicate Documents: Document with id '9e9a3181b6bc168b4a25429b641e8c86' already exists in index 'document'\n",
            "INFO - haystack.document_stores.base -  Duplicate Documents: Document with id '7ed12f389f7f085bb30c7d00abd26f81' already exists in index 'document'\n",
            "INFO - haystack.document_stores.base -  Duplicate Documents: Document with id '7ed12f389f7f085bb30c7d00abd26f81' already exists in index 'document'\n",
            "INFO - haystack.document_stores.base -  Duplicate Documents: Document with id '7ed12f389f7f085bb30c7d00abd26f81' already exists in index 'document'\n",
            "INFO - haystack.document_stores.base -  Duplicate Documents: Document with id '7ed12f389f7f085bb30c7d00abd26f81' already exists in index 'document'\n",
            "INFO - haystack.document_stores.base -  Duplicate Documents: Document with id '1906b2acc6c764b69e619e5eb2fa646f' already exists in index 'document'\n",
            "INFO - haystack.document_stores.base -  Duplicate Documents: Document with id '9e9a3181b6bc168b4a25429b641e8c86' already exists in index 'document'\n",
            "INFO - haystack.document_stores.base -  Duplicate Documents: Document with id '9e9a3181b6bc168b4a25429b641e8c86' already exists in index 'document'\n",
            "INFO - haystack.document_stores.base -  Duplicate Documents: Document with id '7ed12f389f7f085bb30c7d00abd26f81' already exists in index 'document'\n",
            "INFO - haystack.document_stores.base -  Duplicate Documents: Document with id '7ed12f389f7f085bb30c7d00abd26f81' already exists in index 'document'\n",
            "INFO - haystack.document_stores.base -  Duplicate Documents: Document with id '9e9a3181b6bc168b4a25429b641e8c86' already exists in index 'document'\n",
            "INFO - haystack.document_stores.base -  Duplicate Documents: Document with id '9e9a3181b6bc168b4a25429b641e8c86' already exists in index 'document'\n",
            "INFO - haystack.document_stores.base -  Duplicate Documents: Document with id '9e9a3181b6bc168b4a25429b641e8c86' already exists in index 'document'\n",
            "INFO - haystack.document_stores.base -  Duplicate Documents: Document with id '1906b2acc6c764b69e619e5eb2fa646f' already exists in index 'document'\n",
            "INFO - haystack.document_stores.base -  Duplicate Documents: Document with id '9e9a3181b6bc168b4a25429b641e8c86' already exists in index 'document'\n",
            "INFO - haystack.document_stores.base -  Duplicate Documents: Document with id '7ed12f389f7f085bb30c7d00abd26f81' already exists in index 'document'\n",
            "INFO - haystack.document_stores.base -  Duplicate Documents: Document with id '1906b2acc6c764b69e619e5eb2fa646f' already exists in index 'document'\n",
            "INFO - haystack.document_stores.base -  Duplicate Documents: Document with id 'd3488ca3ea1ce433c8bce82b4b06909a' already exists in index 'document'\n",
            "INFO - haystack.document_stores.base -  Duplicate Documents: Document with id '7ed12f389f7f085bb30c7d00abd26f81' already exists in index 'document'\n",
            "INFO - haystack.document_stores.base -  Duplicate Documents: Document with id '7ed12f389f7f085bb30c7d00abd26f81' already exists in index 'document'\n",
            "INFO - haystack.document_stores.base -  Duplicate Documents: Document with id '9e9a3181b6bc168b4a25429b641e8c86' already exists in index 'document'\n",
            "INFO - haystack.document_stores.base -  Duplicate Documents: Document with id '7ed12f389f7f085bb30c7d00abd26f81' already exists in index 'document'\n",
            "INFO - haystack.document_stores.base -  Duplicate Documents: Document with id 'c8b51f62e0fccac8361c4464cc2c8f70' already exists in index 'document'\n",
            "INFO - haystack.document_stores.base -  Duplicate Documents: Document with id '9e9a3181b6bc168b4a25429b641e8c86' already exists in index 'document'\n",
            "INFO - haystack.document_stores.base -  Duplicate Documents: Document with id '7ed12f389f7f085bb30c7d00abd26f81' already exists in index 'document'\n",
            "INFO - haystack.document_stores.base -  Duplicate Documents: Document with id '9e9a3181b6bc168b4a25429b641e8c86' already exists in index 'document'\n",
            "INFO - haystack.document_stores.base -  Duplicate Documents: Document with id 'c8b51f62e0fccac8361c4464cc2c8f70' already exists in index 'document'\n",
            "INFO - haystack.document_stores.base -  Duplicate Documents: Document with id 'c8b51f62e0fccac8361c4464cc2c8f70' already exists in index 'document'\n",
            "INFO - haystack.document_stores.base -  Duplicate Documents: Document with id '7ed12f389f7f085bb30c7d00abd26f81' already exists in index 'document'\n",
            "INFO - haystack.document_stores.base -  Duplicate Documents: Document with id 'c8b51f62e0fccac8361c4464cc2c8f70' already exists in index 'document'\n",
            "INFO - haystack.document_stores.base -  Duplicate Documents: Document with id '9e9a3181b6bc168b4a25429b641e8c86' already exists in index 'document'\n",
            "INFO - haystack.document_stores.base -  Duplicate Documents: Document with id 'c8b51f62e0fccac8361c4464cc2c8f70' already exists in index 'document'\n",
            "INFO - haystack.document_stores.base -  Duplicate Documents: Document with id '9e9a3181b6bc168b4a25429b641e8c86' already exists in index 'document'\n",
            "INFO - haystack.document_stores.base -  Duplicate Documents: Document with id '9e9a3181b6bc168b4a25429b641e8c86' already exists in index 'document'\n",
            "INFO - haystack.document_stores.base -  Duplicate Documents: Document with id '1906b2acc6c764b69e619e5eb2fa646f' already exists in index 'document'\n",
            "INFO - haystack.document_stores.base -  Duplicate Documents: Document with id '356a0eb6f7957594eb516e6122a5cbe7' already exists in index 'document'\n",
            "INFO - haystack.document_stores.base -  Duplicate Documents: Document with id '7ed12f389f7f085bb30c7d00abd26f81' already exists in index 'document'\n",
            "INFO - haystack.document_stores.base -  Duplicate Documents: Document with id '9e9a3181b6bc168b4a25429b641e8c86' already exists in index 'document'\n",
            "INFO - haystack.document_stores.base -  Duplicate Documents: Document with id '9e9a3181b6bc168b4a25429b641e8c86' already exists in index 'document'\n",
            "INFO - haystack.document_stores.base -  Duplicate Documents: Document with id '9e9a3181b6bc168b4a25429b641e8c86' already exists in index 'document'\n",
            "INFO - haystack.document_stores.base -  Duplicate Documents: Document with id '9e9a3181b6bc168b4a25429b641e8c86' already exists in index 'document'\n",
            "INFO - haystack.document_stores.base -  Duplicate Documents: Document with id '994b9df41876668d9a5cae9510915a24' already exists in index 'document'\n",
            "INFO - haystack.document_stores.base -  Duplicate Documents: Document with id '1906b2acc6c764b69e619e5eb2fa646f' already exists in index 'document'\n",
            "INFO - haystack.document_stores.base -  Duplicate Documents: Document with id '1906b2acc6c764b69e619e5eb2fa646f' already exists in index 'document'\n",
            "INFO - haystack.document_stores.base -  Duplicate Documents: Document with id '7ed12f389f7f085bb30c7d00abd26f81' already exists in index 'document'\n",
            "INFO - haystack.document_stores.base -  Duplicate Documents: Document with id 'c8b51f62e0fccac8361c4464cc2c8f70' already exists in index 'document'\n",
            "INFO - haystack.document_stores.base -  Duplicate Documents: Document with id '5d79fbf801011475553a09ab068f02e2' already exists in index 'document'\n",
            "INFO - haystack.document_stores.base -  Duplicate Documents: Document with id '7ed12f389f7f085bb30c7d00abd26f81' already exists in index 'document'\n",
            "INFO - haystack.document_stores.base -  Duplicate Documents: Document with id '9e9a3181b6bc168b4a25429b641e8c86' already exists in index 'document'\n",
            "INFO - haystack.document_stores.base -  Duplicate Documents: Document with id '9e9a3181b6bc168b4a25429b641e8c86' already exists in index 'document'\n",
            "INFO - haystack.document_stores.base -  Duplicate Documents: Document with id 'c8b51f62e0fccac8361c4464cc2c8f70' already exists in index 'document'\n",
            "INFO - haystack.document_stores.base -  Duplicate Documents: Document with id '7ed12f389f7f085bb30c7d00abd26f81' already exists in index 'document'\n",
            "INFO - haystack.document_stores.base -  Duplicate Documents: Document with id 'c8b51f62e0fccac8361c4464cc2c8f70' already exists in index 'document'\n",
            "INFO - haystack.document_stores.base -  Duplicate Documents: Document with id '9e9a3181b6bc168b4a25429b641e8c86' already exists in index 'document'\n",
            "INFO - haystack.document_stores.base -  Duplicate Documents: Document with id '9e9a3181b6bc168b4a25429b641e8c86' already exists in index 'document'\n",
            "INFO - haystack.document_stores.base -  Duplicate Documents: Document with id '1906b2acc6c764b69e619e5eb2fa646f' already exists in index 'document'\n",
            "INFO - haystack.document_stores.base -  Duplicate Documents: Document with id '7ed12f389f7f085bb30c7d00abd26f81' already exists in index 'document'\n",
            "INFO - haystack.document_stores.base -  Duplicate Documents: Document with id '817c9fdc70cdd9a74075ff1a32503409' already exists in index 'document'\n",
            "INFO - haystack.document_stores.base -  Duplicate Documents: Document with id '356a0eb6f7957594eb516e6122a5cbe7' already exists in index 'document'\n",
            "INFO - haystack.document_stores.base -  Duplicate Documents: Document with id '7ed12f389f7f085bb30c7d00abd26f81' already exists in index 'document'\n",
            "INFO - haystack.document_stores.base -  Duplicate Documents: Document with id '1906b2acc6c764b69e619e5eb2fa646f' already exists in index 'document'\n",
            "INFO - haystack.document_stores.base -  Duplicate Documents: Document with id '7ed12f389f7f085bb30c7d00abd26f81' already exists in index 'document'\n",
            "INFO - haystack.document_stores.base -  Duplicate Documents: Document with id '9e9a3181b6bc168b4a25429b641e8c86' already exists in index 'document'\n",
            "INFO - haystack.document_stores.base -  Duplicate Documents: Document with id 'c8b51f62e0fccac8361c4464cc2c8f70' already exists in index 'document'\n",
            "INFO - haystack.document_stores.base -  Duplicate Documents: Document with id 'c8b51f62e0fccac8361c4464cc2c8f70' already exists in index 'document'\n",
            "INFO - haystack.document_stores.base -  Duplicate Documents: Document with id '1906b2acc6c764b69e619e5eb2fa646f' already exists in index 'document'\n",
            "INFO - haystack.document_stores.base -  Duplicate Documents: Document with id '9e9a3181b6bc168b4a25429b641e8c86' already exists in index 'document'\n",
            "INFO - haystack.document_stores.base -  Duplicate Documents: Document with id '356a0eb6f7957594eb516e6122a5cbe7' already exists in index 'document'\n",
            "INFO - haystack.document_stores.base -  Duplicate Documents: Document with id '7ed12f389f7f085bb30c7d00abd26f81' already exists in index 'document'\n",
            "INFO - haystack.document_stores.base -  Duplicate Documents: Document with id '5d79fbf801011475553a09ab068f02e2' already exists in index 'document'\n",
            "INFO - haystack.document_stores.base -  Duplicate Documents: Document with id '9e9a3181b6bc168b4a25429b641e8c86' already exists in index 'document'\n",
            "INFO - haystack.document_stores.base -  Duplicate Documents: Document with id '6b61a45485d568ee7607061f918379c2' already exists in index 'document'\n",
            "INFO - haystack.document_stores.base -  Duplicate Documents: Document with id '7ed12f389f7f085bb30c7d00abd26f81' already exists in index 'document'\n",
            "INFO - haystack.document_stores.base -  Duplicate Documents: Document with id 'c8b51f62e0fccac8361c4464cc2c8f70' already exists in index 'document'\n",
            "INFO - haystack.document_stores.base -  Duplicate Documents: Document with id '9e9a3181b6bc168b4a25429b641e8c86' already exists in index 'document'\n",
            "INFO - haystack.document_stores.base -  Duplicate Documents: Document with id '7ed12f389f7f085bb30c7d00abd26f81' already exists in index 'document'\n",
            "INFO - haystack.document_stores.base -  Duplicate Documents: Document with id '9e9a3181b6bc168b4a25429b641e8c86' already exists in index 'document'\n",
            "INFO - haystack.document_stores.base -  Duplicate Documents: Document with id '9e9a3181b6bc168b4a25429b641e8c86' already exists in index 'document'\n",
            "INFO - haystack.document_stores.base -  Duplicate Documents: Document with id 'c8b51f62e0fccac8361c4464cc2c8f70' already exists in index 'document'\n",
            "INFO - haystack.document_stores.base -  Duplicate Documents: Document with id '619d203987121dd9c5c5e12e8e1fb153' already exists in index 'document'\n",
            "INFO - haystack.document_stores.base -  Duplicate Documents: Document with id '9e9a3181b6bc168b4a25429b641e8c86' already exists in index 'document'\n",
            "INFO - haystack.document_stores.base -  Duplicate Documents: Document with id 'b8566e1914164a36b30f649be0cde065' already exists in index 'document'\n",
            "INFO - haystack.document_stores.base -  Duplicate Documents: Document with id '9e9a3181b6bc168b4a25429b641e8c86' already exists in index 'document'\n",
            "INFO - haystack.document_stores.base -  Duplicate Documents: Document with id 'c8b51f62e0fccac8361c4464cc2c8f70' already exists in index 'document'\n",
            "INFO - haystack.document_stores.base -  Duplicate Documents: Document with id '9e9a3181b6bc168b4a25429b641e8c86' already exists in index 'document'\n",
            "INFO - haystack.document_stores.base -  Duplicate Documents: Document with id '7ed12f389f7f085bb30c7d00abd26f81' already exists in index 'document'\n",
            "INFO - haystack.document_stores.base -  Duplicate Documents: Document with id 'c8b51f62e0fccac8361c4464cc2c8f70' already exists in index 'document'\n",
            "INFO - haystack.document_stores.base -  Duplicate Documents: Document with id '9e9a3181b6bc168b4a25429b641e8c86' already exists in index 'document'\n",
            "INFO - haystack.document_stores.base -  Duplicate Documents: Document with id '9e9a3181b6bc168b4a25429b641e8c86' already exists in index 'document'\n",
            "INFO - haystack.document_stores.base -  Duplicate Documents: Document with id '7ed12f389f7f085bb30c7d00abd26f81' already exists in index 'document'\n",
            "INFO - haystack.document_stores.base -  Duplicate Documents: Document with id '994b9df41876668d9a5cae9510915a24' already exists in index 'document'\n",
            "INFO - haystack.document_stores.base -  Duplicate Documents: Document with id '9e9a3181b6bc168b4a25429b641e8c86' already exists in index 'document'\n",
            "INFO - haystack.document_stores.base -  Duplicate Documents: Document with id '6c707fba969f19cd663ffd942f0fd20a' already exists in index 'document'\n",
            "INFO - haystack.document_stores.base -  Duplicate Documents: Document with id 'c8b51f62e0fccac8361c4464cc2c8f70' already exists in index 'document'\n",
            "INFO - haystack.document_stores.base -  Duplicate Documents: Document with id '9e9a3181b6bc168b4a25429b641e8c86' already exists in index 'document'\n",
            "INFO - haystack.document_stores.base -  Duplicate Documents: Document with id '9e9a3181b6bc168b4a25429b641e8c86' already exists in index 'document'\n",
            "INFO - haystack.document_stores.base -  Duplicate Documents: Document with id '1906b2acc6c764b69e619e5eb2fa646f' already exists in index 'document'\n",
            "INFO - haystack.document_stores.base -  Duplicate Documents: Document with id '7ed12f389f7f085bb30c7d00abd26f81' already exists in index 'document'\n",
            "INFO - haystack.document_stores.base -  Duplicate Documents: Document with id '9e9a3181b6bc168b4a25429b641e8c86' already exists in index 'document'\n",
            "INFO - haystack.document_stores.base -  Duplicate Documents: Document with id '9e9a3181b6bc168b4a25429b641e8c86' already exists in index 'document'\n",
            "INFO - haystack.document_stores.base -  Duplicate Documents: Document with id 'c8b51f62e0fccac8361c4464cc2c8f70' already exists in index 'document'\n",
            "INFO - haystack.document_stores.base -  Duplicate Documents: Document with id '9e9a3181b6bc168b4a25429b641e8c86' already exists in index 'document'\n",
            "INFO - haystack.document_stores.base -  Duplicate Documents: Document with id '5d79fbf801011475553a09ab068f02e2' already exists in index 'document'\n",
            "INFO - haystack.document_stores.base -  Duplicate Documents: Document with id 'c8b51f62e0fccac8361c4464cc2c8f70' already exists in index 'document'\n",
            "INFO - haystack.document_stores.base -  Duplicate Documents: Document with id '9e9a3181b6bc168b4a25429b641e8c86' already exists in index 'document'\n",
            "INFO - haystack.document_stores.base -  Duplicate Documents: Document with id '1906b2acc6c764b69e619e5eb2fa646f' already exists in index 'document'\n",
            "INFO - haystack.document_stores.base -  Duplicate Documents: Document with id '7ed12f389f7f085bb30c7d00abd26f81' already exists in index 'document'\n",
            "INFO - haystack.document_stores.base -  Duplicate Documents: Document with id '9e9a3181b6bc168b4a25429b641e8c86' already exists in index 'document'\n",
            "INFO - haystack.document_stores.base -  Duplicate Documents: Document with id '9e9a3181b6bc168b4a25429b641e8c86' already exists in index 'document'\n",
            "INFO - haystack.document_stores.base -  Duplicate Documents: Document with id '9e9a3181b6bc168b4a25429b641e8c86' already exists in index 'document'\n",
            "INFO - haystack.document_stores.base -  Duplicate Documents: Document with id '9e9a3181b6bc168b4a25429b641e8c86' already exists in index 'document'\n",
            "INFO - haystack.document_stores.base -  Duplicate Documents: Document with id '7ed12f389f7f085bb30c7d00abd26f81' already exists in index 'document'\n",
            "INFO - haystack.document_stores.base -  Duplicate Documents: Document with id 'c8b51f62e0fccac8361c4464cc2c8f70' already exists in index 'document'\n",
            "INFO - haystack.document_stores.base -  Duplicate Documents: Document with id '9e9a3181b6bc168b4a25429b641e8c86' already exists in index 'document'\n",
            "INFO - haystack.document_stores.base -  Duplicate Documents: Document with id '1906b2acc6c764b69e619e5eb2fa646f' already exists in index 'document'\n",
            "INFO - haystack.document_stores.base -  Duplicate Documents: Document with id '4fe5d3396a52edff7367d6137a7ea654' already exists in index 'document'\n",
            "INFO - haystack.document_stores.base -  Duplicate Documents: Document with id '7ed12f389f7f085bb30c7d00abd26f81' already exists in index 'document'\n",
            "INFO - haystack.document_stores.base -  Duplicate Documents: Document with id '9e9a3181b6bc168b4a25429b641e8c86' already exists in index 'document'\n",
            "INFO - haystack.document_stores.base -  Duplicate Documents: Document with id '9e9a3181b6bc168b4a25429b641e8c86' already exists in index 'document'\n",
            "INFO - haystack.document_stores.base -  Duplicate Documents: Document with id '9e9a3181b6bc168b4a25429b641e8c86' already exists in index 'document'\n",
            "INFO - haystack.document_stores.base -  Duplicate Documents: Document with id 'c8b51f62e0fccac8361c4464cc2c8f70' already exists in index 'document'\n"
          ]
        },
        {
          "output_type": "stream",
          "name": "stdout",
          "text": [
            "[{'content': '\"\\'\\'\\'The Spoils of War\\'\\'\\'\" is the fourth episode of the seventh season of HBO\\'s fantasy television series \\'\\'Game of Thrones\\'\\', and the 64th overall. It was written by series co-creators David Benioff and D. B. Weiss, and directed by Matt Shakman.\\nAt Dragonstone, Daenerys Targaryen and Jon Snow observe cave drawings left by the Children of the Forest, indicating that the First Men and the Children fought together against the White Walkers. In King\\'s Landing, Cersei Lannister seeks further investment from the Iron Bank, after reassuring them that their debt will soon be paid. In the North, Arya Stark returns to Winterfell, reunites with her siblings, Sansa and Bran Stark, and spars with Brienne of Tarth. On the road to King\\'s Landing, Jaime Lannister, Bronn, and the Lannister and Tarly armies are caught in an attack led by Daenerys, her dragon Drogon, and the Dothraki army.\\nThe title of the episode refers to the Tyrell gold and other resources in possession of the Lannisters after taking Highgarden. \"The Spoils of War\" received praise from critics with one critic defining it as a \"masterpiece\", who listed the concluding battle sequence between Daenerys and Jaime, Arya\\'s return to Winterfell and interaction with Brienne, and Daenerys and Jon\\'s conversation at Dragonstone as highlights of the episode. It received a nomination at the 70th Primetime Emmy Awards for Outstanding Editing, and was also Nikolaj Coster-Waldau\\'s pick to support his nomination for Outstanding Supporting Actor, his first ever for this series.\\nThe episode set an industry record for the most stuntmen set on fire, with 73 \"fire burns\", in addition to 20 people being set on fire for a single shot. In the United States, the episode achieved a viewership of 10.17 million in its initial broadcast, the 3rd highest in the series. \"The Spoils of War\" also received multiple awards and nominations, including \"Best TV Episode\" and \"2017 People\\'s Choice Award\" from IGN\\n\"The Spoils of War\" marked the final appearance of Ellie Kendrick (Meera Reed).', 'meta': {'name': '7_The_Spoils_of_War__Game_of_Thrones_.txt'}}, {'content': \"\\n===In King's Landing===\\nCersei assures Tycho that the Crown's debts to the Iron Bank will be fully repaid. They discuss the possibility of a new loan that would enable Qyburn to engage the mercenary Golden Company of Essos.\", 'meta': {'name': '7_The_Spoils_of_War__Game_of_Thrones_.txt'}}, {'content': '\\n===At Winterfell===\\nLittlefinger gives Bran the Valyrian steel dagger that was used in the attempt on Bran\\'s life. Littlefinger tries to get Bran to tell him of his experiences after fleeing Winterfell, and is disconcerted when Bran repeats to him Littlefinger\\'s earlier remark to Varys that \"chaos is a ladder.\" Meera visits Bran to say farewell, as she wants to be with her family when the White Walkers attack. Bran is indifferent to her departure, and a dismayed Meera remarks figuratively that Bran died in the Three-Eyed Raven\\'s cave.\\nArya arrives at Winterfell, and evades the guards to visit Ned\\'s tomb in the crypts, where Sansa finds her. Sansa takes Arya to see Bran in the godswood. Arya is taken aback to find that Bran knows of her kill list, and Bran gives her the Valyrian steel dagger. Podrick reassures Brienne that she has fulfilled her oath to Catelyn; Brienne insists she did almost nothing. Later, Brienne and Podrick spar and Arya asks to train with Brienne. They fight to a draw as Sansa and Littlefinger watch.', 'meta': {'name': '7_The_Spoils_of_War__Game_of_Thrones_.txt'}}]\n"
          ]
        },
        {
          "output_type": "stream",
          "name": "stderr",
          "text": [
            "INFO - haystack.document_stores.base -  Duplicate Documents: Document with id '9e9a3181b6bc168b4a25429b641e8c86' already exists in index 'document'\n",
            "INFO - haystack.document_stores.base -  Duplicate Documents: Document with id '5d79fbf801011475553a09ab068f02e2' already exists in index 'document'\n",
            "INFO - haystack.document_stores.base -  Duplicate Documents: Document with id '7ed12f389f7f085bb30c7d00abd26f81' already exists in index 'document'\n",
            "INFO - haystack.document_stores.base -  Duplicate Documents: Document with id '9e9a3181b6bc168b4a25429b641e8c86' already exists in index 'document'\n",
            "INFO - haystack.document_stores.base -  Duplicate Documents: Document with id 'bbcb394a991cab6a7f8c18e5a294452f' already exists in index 'document'\n",
            "INFO - haystack.document_stores.base -  Duplicate Documents: Document with id 'c8b51f62e0fccac8361c4464cc2c8f70' already exists in index 'document'\n",
            "INFO - haystack.document_stores.base -  Duplicate Documents: Document with id '9e9a3181b6bc168b4a25429b641e8c86' already exists in index 'document'\n",
            "INFO - haystack.document_stores.base -  Duplicate Documents: Document with id '817c9fdc70cdd9a74075ff1a32503409' already exists in index 'document'\n",
            "INFO - haystack.document_stores.base -  Duplicate Documents: Document with id '7ed12f389f7f085bb30c7d00abd26f81' already exists in index 'document'\n",
            "INFO - haystack.document_stores.base -  Duplicate Documents: Document with id 'c8b51f62e0fccac8361c4464cc2c8f70' already exists in index 'document'\n",
            "INFO - haystack.document_stores.base -  Duplicate Documents: Document with id 'c8b51f62e0fccac8361c4464cc2c8f70' already exists in index 'document'\n",
            "INFO - haystack.document_stores.base -  Duplicate Documents: Document with id '7ed12f389f7f085bb30c7d00abd26f81' already exists in index 'document'\n",
            "INFO - haystack.document_stores.base -  Duplicate Documents: Document with id '3df21acc4c6427e99cc71a01f56667a6' already exists in index 'document'\n",
            "INFO - haystack.document_stores.base -  Duplicate Documents: Document with id 'e089ba67cf8dba3efa466028c05de19f' already exists in index 'document'\n",
            "INFO - haystack.document_stores.base -  Duplicate Documents: Document with id '7ed12f389f7f085bb30c7d00abd26f81' already exists in index 'document'\n",
            "INFO - haystack.document_stores.base -  Duplicate Documents: Document with id 'b53667a464df31878e75c82ca2c9268f' already exists in index 'document'\n",
            "INFO - haystack.document_stores.base -  Duplicate Documents: Document with id '7ed12f389f7f085bb30c7d00abd26f81' already exists in index 'document'\n"
          ]
        }
      ]
    },
    {
      "cell_type": "markdown",
      "source": [
        "## Initalize Retriever, Reader & Pipeline\n",
        "\n",
        "### Retriever\n",
        "\n",
        "Retrievers help narrowing down the scope for the Reader to smaller units of text where a given question could be answered. \n",
        "\n",
        "With InMemoryDocumentStore or SQLDocumentStore, you can use the TfidfRetriever. For more retrievers, please refer to the tutorial-1."
      ],
      "metadata": {
        "id": "mhUmAAYOZzyV"
      }
    },
    {
      "cell_type": "code",
      "source": [
        "# An in-memory TfidfRetriever based on Pandas dataframes\n",
        "\n",
        "from haystack.nodes import TfidfRetriever\n",
        "\n",
        "retriever = TfidfRetriever(document_store=document_store)"
      ],
      "metadata": {
        "colab": {
          "base_uri": "https://localhost:8080/"
        },
        "id": "UvcH1KCZZyZ9",
        "outputId": "e2413e69-095a-42dc-c1c2-01cffb660103"
      },
      "execution_count": null,
      "outputs": [
        {
          "output_type": "stream",
          "name": "stderr",
          "text": [
            "INFO - haystack.nodes.retriever.sparse -  Found 2357 candidate paragraphs from 2357 docs in DB\n"
          ]
        }
      ]
    },
    {
      "cell_type": "markdown",
      "source": [
        "### Reader\n",
        "\n",
        "A Reader scans the texts returned by retrievers in detail and extracts the k best answers. They are based\n",
        "on powerful, but slower deep learning models.\n",
        "\n",
        "Haystack currently supports Readers based on the frameworks FARM and Transformers.\n",
        "With both you can either load a local model or one from Hugging Face's model hub (https://huggingface.co/models).\n",
        "\n",
        "**Here:** a medium sized RoBERTa QA model using a Reader based on FARM (https://huggingface.co/deepset/roberta-base-squad2)\n",
        "\n",
        "**Alternatives (Reader):** TransformersReader (leveraging the `pipeline` of the Transformers package)\n",
        "\n",
        "**Alternatives (Models):** e.g. \"distilbert-base-uncased-distilled-squad\" (fast) or \"deepset/bert-large-uncased-whole-word-masking-squad2\" (good accuracy)\n",
        "\n",
        "**Hint:** You can adjust the model to return \"no answer possible\" with the no_ans_boost. Higher values mean the model prefers \"no answer possible\"\n",
        "\n",
        "#### FARMReader"
      ],
      "metadata": {
        "id": "H3bM1bZ-aDms"
      }
    },
    {
      "cell_type": "code",
      "source": [
        "# Load a local model or any of the QA models on \n",
        "# HuggingFace's model hub (https://huggingface.co/models)\n",
        "\n",
        "reader = FARMReader(model_name_or_path=\"deepset/roberta-base-squad2\",\n",
        "                    use_gpu=True)"
      ],
      "metadata": {
        "colab": {
          "base_uri": "https://localhost:8080/"
        },
        "id": "uU22AhL7aBuF",
        "outputId": "041fff51-df0f-4445-b42c-bc3ddfb5e5cf"
      },
      "execution_count": null,
      "outputs": [
        {
          "output_type": "stream",
          "name": "stderr",
          "text": [
            "INFO - haystack.modeling.utils -  Using devices: CPU\n",
            "INFO - haystack.modeling.utils -  Number of GPUs: 0\n",
            "INFO - haystack.modeling.model.language_model -  LOADING MODEL\n",
            "INFO - haystack.modeling.model.language_model -  =============\n",
            "INFO - haystack.modeling.model.language_model -  Could not find deepset/roberta-base-squad2 locally.\n",
            "INFO - haystack.modeling.model.language_model -  Looking on Transformers Model Hub (in local cache and online)...\n",
            "INFO - haystack.modeling.model.language_model -  Loaded deepset/roberta-base-squad2\n",
            "INFO - haystack.modeling.logger -  ML Logging is turned off. No parameters, metrics or artifacts will be logged to MLFlow.\n",
            "INFO - haystack.modeling.utils -  Using devices: CPU\n",
            "INFO - haystack.modeling.utils -  Number of GPUs: 0\n",
            "INFO - haystack.modeling.infer -  Got ya 2 parallel workers to do inference ...\n",
            "INFO - haystack.modeling.infer -   0    0 \n",
            "INFO - haystack.modeling.infer -  /w\\  /w\\\n",
            "INFO - haystack.modeling.infer -  /'\\  / \\\n"
          ]
        }
      ]
    },
    {
      "cell_type": "code",
      "source": [
        "# TransformersReader\n",
        "# Alternative:\n",
        "# reader = TransformersReader(model_name_or_path=\"distilbert-base-uncased-distilled-squad\",\n",
        "# tokenizer=\"distilbert-base-uncased\", use_gpu=-1)"
      ],
      "metadata": {
        "id": "z5zQVehLaTK8"
      },
      "execution_count": null,
      "outputs": []
    },
    {
      "cell_type": "markdown",
      "source": [
        "### Pipeline\n",
        "\n",
        "With a Haystack `Pipeline` you can stick together your building blocks to a search pipeline.\n",
        "Under the hood, `Pipelines` are Directed Acyclic Graphs (DAGs) that you can easily customize for your own use cases.\n",
        "To speed things up, Haystack also comes with a few predefined Pipelines. One of them is the `ExtractiveQAPipeline` that combines a retriever and a reader to answer our questions.\n",
        "You can learn more about `Pipelines` in the [docs](https://haystack.deepset.ai/docs/latest/pipelinesmd)."
      ],
      "metadata": {
        "id": "setj6Te5ahil"
      }
    },
    {
      "cell_type": "code",
      "source": [
        "from haystack.pipelines import ExtractiveQAPipeline\n",
        "\n",
        "pipe = ExtractiveQAPipeline(reader, retriever)"
      ],
      "metadata": {
        "id": "QtdWU8ZiadzE"
      },
      "execution_count": null,
      "outputs": []
    },
    {
      "cell_type": "code",
      "source": [
        "## Voilà! Ask a question!\n",
        "\n",
        "# You can configure how many candidates the reader and retriever shall return\n",
        "# The higher top_k for retriever, the better (but also the slower) your answers.\n",
        "prediction = pipe.run(\n",
        "    query=\"Who is the father of Arya Stark?\", params={\"Retriever\": {\"top_k\": 10}, \"Reader\": {\"top_k\": 5}}\n",
        ")"
      ],
      "metadata": {
        "colab": {
          "base_uri": "https://localhost:8080/"
        },
        "id": "X7jT4jmzakZJ",
        "outputId": "ea2f08b0-2af7-43de-ddc9-badd6ae18a26"
      },
      "execution_count": null,
      "outputs": [
        {
          "output_type": "stream",
          "name": "stderr",
          "text": [
            "Inferencing Samples:   0%|          | 0/1 [00:00<?, ? Batches/s]/usr/local/lib/python3.7/dist-packages/haystack/modeling/model/prediction_head.py:480: UserWarning: __floordiv__ is deprecated, and its behavior will change in a future version of pytorch. It currently rounds toward 0 (like the 'trunc' function NOT 'floor'). This results in incorrect rounding for negative values. To keep the current behavior, use torch.div(a, b, rounding_mode='trunc'), or for actual floor division, use torch.div(a, b, rounding_mode='floor').\n",
            "  start_indices = flat_sorted_indices // max_seq_len\n",
            "Inferencing Samples: 100%|██████████| 1/1 [00:01<00:00,  1.85s/ Batches]\n",
            "Inferencing Samples: 100%|██████████| 1/1 [00:04<00:00,  4.34s/ Batches]\n",
            "Inferencing Samples: 100%|██████████| 1/1 [00:01<00:00,  1.75s/ Batches]\n",
            "Inferencing Samples: 100%|██████████| 1/1 [00:02<00:00,  2.57s/ Batches]\n",
            "Inferencing Samples: 100%|██████████| 1/1 [00:01<00:00,  1.77s/ Batches]\n",
            "Inferencing Samples: 100%|██████████| 1/1 [00:01<00:00,  1.74s/ Batches]\n",
            "Inferencing Samples: 100%|██████████| 1/1 [00:01<00:00,  1.77s/ Batches]\n",
            "Inferencing Samples: 100%|██████████| 1/1 [00:02<00:00,  2.58s/ Batches]\n",
            "Inferencing Samples: 100%|██████████| 1/1 [00:00<00:00,  1.00 Batches/s]\n",
            "Inferencing Samples: 100%|██████████| 1/1 [00:00<00:00,  1.02 Batches/s]\n"
          ]
        }
      ]
    },
    {
      "cell_type": "code",
      "source": [
        "# Now you can either print the object directly...\n",
        "from pprint import pprint\n",
        "\n",
        "pprint(prediction)\n",
        "\n",
        "# Sample output:\n",
        "# {\n",
        "#     'answers': [ <Answer: answer='Eddard', type='extractive', score=0.9919578731060028, offsets_in_document=[{'start': 608, 'end': 615}], offsets_in_context=[{'start': 72, 'end': 79}], document_id='cc75f739897ecbf8c14657b13dda890e', meta={'name': '454_Music_of_Game_of_Thrones.txt'}}, context='...' >,\n",
        "#                  <Answer: answer='Ned', type='extractive', score=0.9767240881919861, offsets_in_document=[{'start': 3687, 'end': 3801}], offsets_in_context=[{'start': 18, 'end': 132}], document_id='9acf17ec9083c4022f69eb4a37187080', meta={'name': '454_Music_of_Game_of_Thrones.txt'}}, context='...' >,\n",
        "#                  ...\n",
        "#                ]\n",
        "#     'documents': [ <Document: content_type='text', score=0.8034909798951382, meta={'name': '332_Sansa_Stark.txt'}, embedding=None, id=d1f36ec7170e4c46cde65787fe125dfe', content='\\n===\\'\\'A Game of Thrones\\'\\'===\\nSansa Stark begins the novel by being betrothed to Crown ...'>,\n",
        "#                    <Document: content_type='text', score=0.8002150354529785, meta={'name': '191_Gendry.txt'}, embedding=None, id='dd4e070a22896afa81748d6510006d2', 'content='\\n===Season 2===\\nGendry travels North with Yoren and other Night's Watch recruits, including Arya ...'>,\n",
        "#                    ...\n",
        "#                  ],\n",
        "#     'no_ans_gap':  11.688868522644043,\n",
        "#     'node_id': 'Reader',\n",
        "#     'params': {'Reader': {'top_k': 5}, 'Retriever': {'top_k': 5}},\n",
        "#     'query': 'Who is the father of Arya Stark?',\n",
        "#     'root_node': 'Query'\n",
        "# }"
      ],
      "metadata": {
        "colab": {
          "base_uri": "https://localhost:8080/"
        },
        "id": "5DGorM-7aqeM",
        "outputId": "1ef3e5e1-281d-43b8-ab47-60a6cf97b327"
      },
      "execution_count": null,
      "outputs": [
        {
          "output_type": "stream",
          "name": "stdout",
          "text": [
            "{'answers': [<Answer {'answer': 'Eddard', 'type': 'extractive', 'score': 0.9919578731060028, 'context': \"s Nymeria after a legendary warrior queen. She travels with her father, Eddard, to King's Landing when he is made Hand of the King. Before she leaves,\", 'offsets_in_document': [{'start': 147, 'end': 153}], 'offsets_in_context': [{'start': 72, 'end': 78}], 'document_id': 'ba2a8e87ddd95e380bec55983ee7d55f', 'meta': {'name': '43_Arya_Stark.txt'}}>,\n",
            "             <Answer {'answer': 'Ned', 'type': 'extractive', 'score': 0.9767240881919861, 'context': \"\\n====Season 1====\\nArya accompanies her father Ned and her sister Sansa to King's Landing. Before their departure, Arya's half-brother Jon Snow gifts A\", 'offsets_in_document': [{'start': 46, 'end': 49}], 'offsets_in_context': [{'start': 46, 'end': 49}], 'document_id': '180c2a6b36369712b361a80842e79356', 'meta': {'name': '43_Arya_Stark.txt'}}>,\n",
            "             <Answer {'answer': 'Robert Baratheon', 'type': 'extractive', 'score': 0.9408852159976959, 'context': 'hen Gendry gives it to Arya, he tells her he is the bastard son of Robert Baratheon. Aware of their chances of dying in the upcoming battle and Arya w', 'offsets_in_document': [{'start': 358, 'end': 374}], 'offsets_in_context': [{'start': 67, 'end': 83}], 'document_id': '7170114dfceb7ede0002a57d1df96505', 'meta': {'name': '43_Arya_Stark.txt'}}>,\n",
            "             <Answer {'answer': 'Eddard and Catelyn Stark', 'type': 'extractive', 'score': 0.9058835804462433, 'context': \"tark ===\\nArya Stark is the third child and younger daughter of Eddard and Catelyn Stark. She serves as a POV character for 33 chapters throughout ''A \", 'offsets_in_document': [{'start': 74, 'end': 98}], 'offsets_in_context': [{'start': 63, 'end': 87}], 'document_id': '965789c741c68963042e85b6e7b89757', 'meta': {'name': '30_List_of_A_Song_of_Ice_and_Fire_characters.txt'}}>,\n",
            "             <Answer {'answer': 'Lord Eddard Stark', 'type': 'extractive', 'score': 0.8930400013923645, 'context': 'ark daughters.\\nDuring the Tourney of the Hand to honour her father Lord Eddard Stark, Sansa Stark is enchanted by the knights performing in the event.', 'offsets_in_document': [{'start': 659, 'end': 676}], 'offsets_in_context': [{'start': 67, 'end': 84}], 'document_id': 'd1f36ec7170e4c46cde65787fe125dfe', 'meta': {'name': '332_Sansa_Stark.txt'}}>],\n",
            " 'documents': [<Document: {'content': \"\\n===Arya Stark===\\n'''Arya Stark''' portrayed by Maisie Williams. Arya Stark of House Stark is the younger daughter and third child of Lord Eddard and Catelyn Stark of Winterfell. Ever the tomboy, Arya would rather be training to use weapons than sewing with a needle. She names her direwolf Nymeria, after a legendary warrior queen.\", 'content_type': 'text', 'score': None, 'meta': {'name': '349_List_of_Game_of_Thrones_characters.txt'}, 'embedding': None, 'id': '623e446a1b048d81130a29e262152cd5'}>,\n",
            "               <Document: {'content': \"\\n====Season 8====\\nArya reunites with Jon, Gendry, and the Hound, who have all journeyed to Winterfell with Daenerys Targaryen's forces to make a stand against the approaching White Walkers. Arya asks Gendry, who is forging dragonglass into weapons, to make her a special dragonglass staff. When Gendry gives it to Arya, he tells her he is the bastard son of Robert Baratheon. Aware of their chances of dying in the upcoming battle and Arya wanting to experience sex, Arya and Gendry sleep together. Later that night, Arya hears the signal alerting her that the White Walkers' army has arrived.\\nArya fights in the battle against the dead with Sandor Clegane and Beric Dondarrion. Beric sacrifices himself to allow Arya and the Hound to escape the wights. A battered Arya sprints through the corridors of Winterfell and encounters Melisandre, who suggests to Arya that she is meant to kill the Night King. In the Godswood, just as the Night King is about to kill Bran, Arya sneaks up and stabs the Night King with the Valyrian steel dagger Bran gave her. Upon killing the Night King, the White Walkers and wights are all destroyed. \\nIn the aftermath of the battle, Arya is proposed to by Gendry, who had just been legitimised as a Baratheon by Daenerys. Arya declines, as she does not want the life of a lady. Sansa and Arya tell Jon they don't trust Daenerys, but Jon defends her. Arya learns that Jon is the son of her aunt, Lyanna Stark, and Rhaegar Targaryen after Jon swears her and Sansa to secrecy about his true parentage.\\nArya journeys south to King's Landing with the Hound to kill Cersei. The two infiltrate the Red Keep with the civilians Cersei is using to deter Daenerys' attack. Despite the city's surrender to Daenerys, she begins laying waste to the populace atop of Drogon. In his mission for revenge against his brother, the Mountain, the Hound seeks out the Mountain but urges Arya to leave and give up her quest for revenge to avoid a life consumed by it. Arya thanks the Hound, calling him by his name for the first time. She tries and fails to save the smallfolk, narrowly avoiding being incinerated in Daenerys' attack on the city, but survives. In the aftermath, Arya is reunited with Jon and warns him that he and the Starks are not safe from Daenerys. Jon tries but is unable to dissuade Daenerys from further destruction and ultimately assassinates her. He is imprisoned. Weeks later, Arya joins the other lords and ladies of Westeros in a council to decide who shall lead the Seven Kingdoms. Bran is chosen as king, though Arya abstains from voting as Sansa declares the North's independence. Arya, Sansa, and Bran bid Jon farewell as he is exiled. \\nArya reveals that she is leaving Westeros to see what lies west of the continent. She embarks on her voyage aboard a Stark ship.\", 'content_type': 'text', 'score': None, 'meta': {'name': '43_Arya_Stark.txt'}, 'embedding': None, 'id': '7170114dfceb7ede0002a57d1df96505'}>,\n",
            "               <Document: {'content': '\\n====Season 1====\\nArya accompanies her father Ned and her sister Sansa to King\\'s Landing. Before their departure, Arya\\'s half-brother Jon Snow gifts Arya a sword which she dubs \"Needle\". On the Kingsroad, Arya is sparring with a butcher\\'s boy, Mycah, when Sansa\\'s betrothed Prince Joffrey Baratheon attacks Mycah, prompting Arya\\'s direwolf Nymeria to bite Joffrey. Arya shoos Nymeria away so she is not killed, but is furious when Sansa later refuses to support her version of events. Mycah is later killed by Joffrey\\'s bodyguard Sandor \"The Hound\" Clegane, earning him Arya\\'s hatred. Ned arranges for Arya to have sword lessons with the Braavosi Syrio Forel, who later defends her from Ser Meryn Trant after Joffrey ascends to the throne and kills the Stark household. Arya flees the Red Keep, accidentally killing a stable boy in her escape, hiding out as a beggar in the streets of King\\'s Landing. Ned is eventually taken to the Great Sept of Baelor to face judgment; he spots Arya in the crowd, and alerts the Night\\'s Watch recruiter Yoren to her presence. Yoren prevents Arya from witnessing Ned\\'s execution and has her pose as a boy, \"Arry\", to avoid detection as she joins Yoren\\'s recruits traveling north to Castle Black.', 'content_type': 'text', 'score': None, 'meta': {'name': '43_Arya_Stark.txt'}, 'embedding': None, 'id': '180c2a6b36369712b361a80842e79356'}>,\n",
            "               <Document: {'content': '\\n===\\'\\'A Game of Thrones\\'\\'===\\nSansa Stark begins the novel by being betrothed to Crown Prince Joffrey Baratheon, believing Joffrey to be a gallant prince. While Joffrey and Sansa are walking through the woods, Joffrey notices Arya sparring with the butcher\\'s boy, Mycah. A fight breaks out and Joffrey is attacked by Nymeria (Arya\\'s direwolf) after Joffrey threatens to hurt Arya. Sansa lies to King Robert about the circumstances of the fight in order to protect both Joffrey and her sister Arya.  Since Arya ran off with her wolf to save it, Sansa\\'s wolf is killed instead, estranging the Stark daughters.\\nDuring the Tourney of the Hand to honour her father Lord Eddard Stark, Sansa Stark is enchanted by the knights performing in the event.  At the request of his mother, Queen Cersei Lannister, Joffrey spends a portion of the tourney with Sansa, but near the end he commands his guard Sandor Clegane, better known as The Hound, to take her back to her quarters. Sandor explains how his older brother, Gregor, aka \"Mountain that Rides\" pushed his face into a brazier of hot coals, for playing with one of his wooden toys.\\nAfter Eddard discovers the truth of Joffrey\\'s paternity, he tells Sansa that they will be heading back to Winterfell. Sansa is devastated and wishes to stay in King\\'s Landing, so she runs off to inform Queen Cersei of her father\\'s plans, unwittingly providing Cersei with the information needed to arrest her father. After Robert dies, Sansa begs Joffrey to show mercy on her father and he agrees, if Ned will swear an oath of loyalty, but executes him anyway, in front of Sansa.  Sansa is now effectively a hostage in King\\'s Landing and finally sees Joffrey\\'s true nature, after he forces her to look at the tarred head of her now-deceased father.', 'content_type': 'text', 'score': None, 'meta': {'name': '332_Sansa_Stark.txt'}, 'embedding': None, 'id': 'd1f36ec7170e4c46cde65787fe125dfe'}>,\n",
            "               <Document: {'content': '\\n===In Braavos===\\nLady Crane returns to her chambers to find a wounded Arya hiding inside, and helps stitch her wounds. She tells Arya that, thanks to her warning, she mutilated her would-be killer Bianca\\'s face before kicking her out of the acting company. She then offers to have Arya join them, but she refuses, saying that she intends to travel west of Westeros to see the edge of the world. As Arya recovers, the Waif arrives and kills Lady Crane, intending to kill Arya as well. Arya flees through the streets of Braavos, but during the chase, Arya\\'s wounds reopen and she limps back to her hideout with the Waif in pursuit. As the Waif closes in, Arya extinguishes the candle lighting the room; having trained while blinded for several weeks, Arya has the upper hand.\\nAt the House of Black and White, Jaqen follows a bloodtrail to the Hall of Faces, where he finds the Waif\\'s face before being held at sword-point by Arya. Jaqen congratulates Arya for finally becoming No One. However, she rejects the title, asserting her identity as Arya Stark before turning and leaving, announcing that she is \"going home.\" Jaqen proudly watches on as she leaves.', 'content_type': 'text', 'score': None, 'meta': {'name': '425_No_One__Game_of_Thrones_.txt'}, 'embedding': None, 'id': '4544f93ec64313e603729e14d0f75f47'}>,\n",
            "               <Document: {'content': \"\\n== Characters ==\\nThe tale is told through the eyes of 9 recurring POV characters plus one prologue POV character:\\n* Prologue: Maester Cressen, maester at Dragonstone\\n* Tyrion Lannister, youngest son of Lord Tywin Lannister, a dwarf and a brother to Queen Cersei, and the acting Hand of the King\\n* Lady Catelyn Stark, of House Tully, widow of Eddard Stark, Lord of Winterfell\\n* Ser Davos Seaworth, a smuggler turned knight in the service of King Stannis Baratheon, often called the Onion Knight\\n* Sansa Stark, eldest daughter of Eddard Stark and Catelyn Stark, held captive by Queen Cersei at King's Landing\\n* Arya Stark, youngest daughter of Eddard Stark and Catelyn Stark, missing and presumed dead\\n* Bran Stark, second son of Eddard Stark and Catelyn Stark and heir to Winterfell and the King in the North\\n* Jon Snow, bastard son of Eddard Stark, and a man of the Night's Watch\\n* Theon Greyjoy, heir to the Seastone Chair and former ward of Lord Eddard Stark\\n* Queen Daenerys Targaryen, the Unburnt and Mother of Dragons, of the Targaryen dynasty\", 'content_type': 'text', 'score': None, 'meta': {'name': '198_A_Clash_of_Kings.txt'}, 'embedding': None, 'id': '7d99e8285308088d31ce4fda71e01942'}>,\n",
            "               <Document: {'content': '\\n==== \\'\\'A Game of Thrones\\'\\' ====\\nArya adopts a direwolf cub, which she names Nymeria after a legendary warrior queen. She travels with her father, Eddard, to King\\'s Landing when he is made Hand of the King. Before she leaves, her half-brother Jon Snow has a smallsword made for her as a parting gift, which she names \"Needle\" after her least favorite ladylike activity.\\nWhile taking a walk together, Prince Joffrey and her sister Sansa happen upon Arya and her friend, the low-born butcher apprentice Mycah, sparring in the woods with broomsticks.  Arya defends Mycah from Joffrey\\'s torments and her direwolf Nymeria helps Arya fight off Joffrey, wounding his arm in the process.  Knowing that Nymeria will likely be killed in retribution, Arya chases her wolf away; but Sansa\\'s direwolf Lady is killed in Nymeria\\'s stead and Mycah is hunted down and killed by Sandor Clegane, Joffrey\\'s bodyguard.\\nIn King\\'s Landing, her father discovers Arya\\'s possession of Needle, but instead of confiscating it he arranges for fencing lessons under the Braavosi swordmaster Syrio Forel, who teaches her the style of fighting known as \"water dancing\".  After her father\\'s arrest, Syrio is killed protecting her and Arya narrowly escapes capture.  She later witnesses the public execution of her father before falling under the protection of the Night\\'s Watch recruiter Yoren.', 'content_type': 'text', 'score': None, 'meta': {'name': '43_Arya_Stark.txt'}, 'embedding': None, 'id': 'ba2a8e87ddd95e380bec55983ee7d55f'}>,\n",
            "               <Document: {'content': \"\\n====Season 7====\\nTaking the face of Walder Frey, Arya gathers the men of House Frey for a feast before killing them all with poisoned wine. Arya then journeys south, intending to travel to King's Landing to assassinate Cersei (now Queen of the Seven Kingdoms following the extinction of House Baratheon). However, Arya changes her mind after learning from Hot Pie that Jon has ousted House Bolton from Winterfell and has been crowned King in the North, and decides to return to her ancestral home. Along the way she encounters a wolf pack led by her long-lost direwolf Nymeria. Nymeria recognizes Arya, but she has grown feral and ignores Arya when she asks her to come North with her.\\nArriving at Winterfell, Arya finds that Jon has traveled to Dragonstone but is reunited with Sansa and Bran. Bran reveals his knowledge of Arya's kill list through greenseeing and presents her with a Valyrian steel dagger, which had been given to him by Littlefinger. Arya is also reunited with Brienne, who continues to serve the Starks, and manages to equal the female warrior during sparring despite her smaller size.\\nLittlefinger seeks to increase his influence on Sansa by driving a wedge between the Stark sisters. To this end, he allows Arya to witness him receiving a confidential message obtained from Maester Luwin's records. Arya breaks into Littlefinger's quarters to steal the message, which is a plea sent by Sansa following Ned's imprisonment to Robb imploring him to bend the knee to Joffrey. Outraged, Arya confronts Sansa and is unconvinced by her explanation that she did so to try and save Ned's life. Later, Arya catches Sansa looking at her collection of faces and threatens Sansa before leaving. Some time later, Sansa summons Arya to the great hall and begins an accusation of treason and murder; however, the accusation is directed towards Littlefinger, whose crimes have been discovered by Bran's greenseeing. Despite Littlefinger's pleas for mercy, Sansa sentences Littlefinger to death and Arya cuts his throat with the Valyrian steel dagger. The Stark sisters later resolve their differences, and acknowledge that the Starks must stay together to survive winter.\", 'content_type': 'text', 'score': None, 'meta': {'name': '43_Arya_Stark.txt'}, 'embedding': None, 'id': '258fc5f9015663050b4c78d5b47d14fa'}>,\n",
            "               <Document: {'content': \"\\n=== Arya Stark ===\\nArya Stark is the third child and younger daughter of Eddard and Catelyn Stark. She serves as a POV character for 33 chapters throughout ''A Game of Thrones'', ''A Clash of Kings'', ''A Storm of Swords'', ''A Feast for Crows'', and ''A Dance with Dragons''. So far she is the only character to appear in all 5 books as a POV character.\\nIn the HBO television adaptation, she is portrayed by Maisie Williams.\", 'content_type': 'text', 'score': None, 'meta': {'name': '30_List_of_A_Song_of_Ice_and_Fire_characters.txt'}, 'embedding': None, 'id': '965789c741c68963042e85b6e7b89757'}>,\n",
            "               <Document: {'content': '\\n===On the Kingsroad===\\nCity Watchmen search the caravan for Gendry but are turned away by Yoren. Gendry tells Arya Stark that he knows she is a girl, and she reveals she is actually Arya Stark after learning that her father met Gendry before he was executed.', 'content_type': 'text', 'score': None, 'meta': {'name': '224_The_Night_Lands.txt'}, 'embedding': None, 'id': 'a4d2cc51d351b785c6effddd3345bb39'}>],\n",
            " 'no_ans_gap': 11.688869953155518,\n",
            " 'node_id': 'Reader',\n",
            " 'params': {'Reader': {'top_k': 5}, 'Retriever': {'top_k': 10}},\n",
            " 'query': 'Who is the father of Arya Stark?',\n",
            " 'root_node': 'Query'}\n"
          ]
        }
      ]
    },
    {
      "cell_type": "code",
      "source": [
        "# ...or use a util to simplify the output\n",
        "# Change `minimum` to `medium` or `all` to raise the level of detail\n",
        "print_answers(prediction, details=\"minimum\")"
      ],
      "metadata": {
        "colab": {
          "base_uri": "https://localhost:8080/"
        },
        "id": "tAkGe9Ewar-H",
        "outputId": "1a4a12a1-5d8a-4e08-82f5-df70a6cf3e00"
      },
      "execution_count": null,
      "outputs": [
        {
          "output_type": "stream",
          "name": "stdout",
          "text": [
            "\n",
            "Query: Who is the father of Arya Stark?\n",
            "Answers:\n",
            "[   {   'answer': 'Eddard',\n",
            "        'context': 's Nymeria after a legendary warrior queen. She travels '\n",
            "                   \"with her father, Eddard, to King's Landing when he is made \"\n",
            "                   'Hand of the King. Before she leaves,'},\n",
            "    {   'answer': 'Ned',\n",
            "        'context': '\\n'\n",
            "                   '====Season 1====\\n'\n",
            "                   'Arya accompanies her father Ned and her sister Sansa to '\n",
            "                   \"King's Landing. Before their departure, Arya's \"\n",
            "                   'half-brother Jon Snow gifts A'},\n",
            "    {   'answer': 'Robert Baratheon',\n",
            "        'context': 'hen Gendry gives it to Arya, he tells her he is the '\n",
            "                   'bastard son of Robert Baratheon. Aware of their chances of '\n",
            "                   'dying in the upcoming battle and Arya w'},\n",
            "    {   'answer': 'Eddard and Catelyn Stark',\n",
            "        'context': 'tark ===\\n'\n",
            "                   'Arya Stark is the third child and younger daughter of '\n",
            "                   'Eddard and Catelyn Stark. She serves as a POV character '\n",
            "                   \"for 33 chapters throughout ''A \"},\n",
            "    {   'answer': 'Lord Eddard Stark',\n",
            "        'context': 'ark daughters.\\n'\n",
            "                   'During the Tourney of the Hand to honour her father Lord '\n",
            "                   'Eddard Stark, Sansa Stark is enchanted by the knights '\n",
            "                   'performing in the event.'}]\n"
          ]
        }
      ]
    }
  ]
}