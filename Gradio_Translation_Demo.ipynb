{
  "nbformat": 4,
  "nbformat_minor": 0,
  "metadata": {
    "colab": {
      "provenance": [],
      "authorship_tag": "ABX9TyMDhGfWKarxYYRQfrf6G9CQ",
      "include_colab_link": true
    },
    "kernelspec": {
      "name": "python3",
      "display_name": "Python 3"
    },
    "language_info": {
      "name": "python"
    }
  },
  "cells": [
    {
      "cell_type": "markdown",
      "metadata": {
        "id": "view-in-github",
        "colab_type": "text"
      },
      "source": [
        "<a href=\"https://colab.research.google.com/github/martindevoto/machine-learning-notebooks-personal/blob/main/Gradio_Translation_Demo.ipynb\" target=\"_parent\"><img src=\"https://colab.research.google.com/assets/colab-badge.svg\" alt=\"Open In Colab\"/></a>"
      ]
    },
    {
      "cell_type": "code",
      "execution_count": 1,
      "metadata": {
        "colab": {
          "base_uri": "https://localhost:8080/"
        },
        "id": "VAF068EzzaIv",
        "outputId": "3a2f9549-30c2-49de-c0b6-907d4aa7749e"
      },
      "outputs": [
        {
          "output_type": "stream",
          "name": "stdout",
          "text": [
            "  Installing build dependencies ... \u001b[?25l\u001b[?25hdone\n",
            "  Getting requirements to build wheel ... \u001b[?25l\u001b[?25hdone\n",
            "  Preparing metadata (pyproject.toml) ... \u001b[?25l\u001b[?25hdone\n"
          ]
        }
      ],
      "source": [
        "!pip install -q gradio git+https://github.com/huggingface/transformers gradio torch"
      ]
    },
    {
      "cell_type": "code",
      "source": [
        "import gradio as gr\n",
        "import torch\n",
        "\n",
        "from transformers import AutoTokenizer, AutoModelForSeq2SeqLM, pipeline"
      ],
      "metadata": {
        "id": "3LwGRgDjznmM"
      },
      "execution_count": 2,
      "outputs": []
    },
    {
      "cell_type": "code",
      "source": [
        "tokenizer = AutoTokenizer.from_pretrained('facebook/nllb-200-distilled-600M')\n",
        "\n",
        "model = \\\n",
        "    AutoModelForSeq2SeqLM.from_pretrained('facebook/nllb-200-distilled-600M')"
      ],
      "metadata": {
        "id": "AYqHmTb5z44d"
      },
      "execution_count": 3,
      "outputs": []
    },
    {
      "cell_type": "code",
      "source": [
        "device = 0 if torch.cuda.is_available() else -1"
      ],
      "metadata": {
        "id": "DBYtuMZj0Vhr"
      },
      "execution_count": 4,
      "outputs": []
    },
    {
      "cell_type": "code",
      "source": [
        "LANGS = [\"ace_Arab\", \"eng_Latn\", \"fra_Latn\", \"spa_Latn\"]\n",
        "LANGS_DISPLAY_NAME = ['Arab', 'English', 'French', 'Spanish']"
      ],
      "metadata": {
        "id": "f7vh4vXB0i1s"
      },
      "execution_count": 5,
      "outputs": []
    },
    {
      "cell_type": "code",
      "source": [
        "langs_mapper = dict(zip(LANGS_DISPLAY_NAME, LANGS))\n",
        "langs_mapper"
      ],
      "metadata": {
        "colab": {
          "base_uri": "https://localhost:8080/"
        },
        "id": "xw1hJdA64oLY",
        "outputId": "ecd55c26-7eed-4169-9604-7e00f459fdc3"
      },
      "execution_count": 6,
      "outputs": [
        {
          "output_type": "execute_result",
          "data": {
            "text/plain": [
              "{'Arab': 'ace_Arab',\n",
              " 'English': 'eng_Latn',\n",
              " 'French': 'fra_Latn',\n",
              " 'Spanish': 'spa_Latn'}"
            ]
          },
          "metadata": {},
          "execution_count": 6
        }
      ]
    },
    {
      "cell_type": "code",
      "source": [
        "def translate(text, src_lang=\"spa_Latn\", tgt_lang=\"eng_Latn\"):\n",
        "    \"\"\"Translate the text from source language to target language.\"\"\"\n",
        "    translation_pipeline = pipeline('translation',\n",
        "                                    tokenizer=tokenizer,\n",
        "                                    model=model,\n",
        "                                    src_lang=src_lang,\n",
        "                                    tgt_lang=tgt_lang,\n",
        "                                    max_length=400, \n",
        "                                    device=device)\n",
        "    result = translation_pipeline(text)\n",
        "    return result[0]['translation_text']"
      ],
      "metadata": {
        "id": "XZPzuxSU0tyi"
      },
      "execution_count": 7,
      "outputs": []
    },
    {
      "cell_type": "code",
      "source": [
        "demo = gr.Interface(\n",
        "    fn=translate,\n",
        "    inputs=[\n",
        "        gr.components.Textbox(label='Text'),\n",
        "        gr.components.Dropdown(label='Source Language', choices=LANGS),\n",
        "        gr.components.Dropdown(label='Target Language', choices=LANGS),\n",
        "    ],\n",
        "    outputs=['text'],\n",
        "    examples=[[\"Building a translation demo with Gradio is so easy!\", \"eng_Latn\", \"spa_Latn\"]],\n",
        "    # examples=[[\"Building a translation demo with Gradio is so easy!\", \"English\", \"Spanish\"]],\n",
        "    cache_examples=False,\n",
        "    title='Translation Demo Page',\n",
        "    # description=\"This demo is a simplified version of the original [NLLB-Translator](https://huggingface.co/spaces/Narrativaai/NLLB-Translator) space\"\n",
        "    description=\"This is a translation demo based on the [NLLB-Translator](https://huggingface.co/spaces/Narrativaai/NLLB-Translator) space\"\n",
        ")"
      ],
      "metadata": {
        "id": "kXUJUtLN1e-U"
      },
      "execution_count": 8,
      "outputs": []
    },
    {
      "cell_type": "code",
      "source": [
        "with gr.Blocks() as demo:\n",
        "    gr.Markdown(\n",
        "        \"\"\"\n",
        "        # Demo de servicio traducción de español a inglés\n",
        "        Escribí el texto que quieras traducir de español a inglés\n",
        "        \"\"\"\n",
        "    )\n",
        "    inp = gr.Textbox(label='Texto en español', placeholder='Escribí acá')\n",
        "    out = gr.Textbox(label='Texto traducido al inglés')\n",
        "    inp.change(translate, inp, out)\n"
      ],
      "metadata": {
        "id": "1rKq2cAWd-LW"
      },
      "execution_count": 9,
      "outputs": []
    },
    {
      "cell_type": "code",
      "source": [
        "demo.launch(share=True)"
      ],
      "metadata": {
        "colab": {
          "base_uri": "https://localhost:8080/",
          "height": 592
        },
        "id": "9jgQAyXJ2NzW",
        "outputId": "0a858578-289d-4a5c-ba92-ed9aae8ae580"
      },
      "execution_count": 10,
      "outputs": [
        {
          "output_type": "stream",
          "name": "stdout",
          "text": [
            "Colab notebook detected. To show errors in colab notebook, set debug=True in launch()\n",
            "Running on public URL: https://75c04bfa1147d7c9cb.gradio.live\n",
            "\n",
            "This share link expires in 72 hours. For free permanent hosting and GPU upgrades (NEW!), check out Spaces: https://huggingface.co/spaces\n"
          ]
        },
        {
          "output_type": "display_data",
          "data": {
            "text/plain": [
              "<IPython.core.display.HTML object>"
            ],
            "text/html": [
              "<div><iframe src=\"https://75c04bfa1147d7c9cb.gradio.live\" width=\"100%\" height=\"500\" allow=\"autoplay; camera; microphone; clipboard-read; clipboard-write;\" frameborder=\"0\" allowfullscreen></iframe></div>"
            ]
          },
          "metadata": {}
        },
        {
          "output_type": "execute_result",
          "data": {
            "text/plain": []
          },
          "metadata": {},
          "execution_count": 10
        }
      ]
    },
    {
      "cell_type": "code",
      "source": [],
      "metadata": {
        "id": "KdHhJBW22Px1"
      },
      "execution_count": 10,
      "outputs": []
    }
  ]
}