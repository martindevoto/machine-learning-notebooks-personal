{
  "nbformat": 4,
  "nbformat_minor": 0,
  "metadata": {
    "colab": {
      "provenance": [],
      "authorship_tag": "ABX9TyPrRVNB6DK+5RmXm5dn6c4v",
      "include_colab_link": true
    },
    "kernelspec": {
      "name": "python3",
      "display_name": "Python 3"
    },
    "language_info": {
      "name": "python"
    }
  },
  "cells": [
    {
      "cell_type": "markdown",
      "metadata": {
        "id": "view-in-github",
        "colab_type": "text"
      },
      "source": [
        "<a href=\"https://colab.research.google.com/github/martindevoto/machine-learning-notebooks-personal/blob/main/Gradio_Translation_Demo_v2.ipynb\" target=\"_parent\"><img src=\"https://colab.research.google.com/assets/colab-badge.svg\" alt=\"Open In Colab\"/></a>"
      ]
    },
    {
      "cell_type": "code",
      "execution_count": 1,
      "metadata": {
        "colab": {
          "base_uri": "https://localhost:8080/"
        },
        "id": "VAF068EzzaIv",
        "outputId": "42fb0c5d-62c3-4717-8271-dbe8bacb9551"
      },
      "outputs": [
        {
          "output_type": "stream",
          "name": "stdout",
          "text": [
            "  Installing build dependencies ... \u001b[?25l\u001b[?25hdone\n",
            "  Getting requirements to build wheel ... \u001b[?25l\u001b[?25hdone\n",
            "  Preparing metadata (pyproject.toml) ... \u001b[?25l\u001b[?25hdone\n"
          ]
        }
      ],
      "source": [
        "!pip install -q gradio git+https://github.com/huggingface/transformers gradio torch"
      ]
    },
    {
      "cell_type": "code",
      "source": [
        "import gradio as gr\n",
        "import torch\n",
        "\n",
        "from transformers import AutoTokenizer, AutoModelForSeq2SeqLM, pipeline"
      ],
      "metadata": {
        "id": "3LwGRgDjznmM"
      },
      "execution_count": 2,
      "outputs": []
    },
    {
      "cell_type": "code",
      "source": [
        "tokenizer = AutoTokenizer.from_pretrained('facebook/nllb-200-distilled-600M')\n",
        "\n",
        "model = \\\n",
        "    AutoModelForSeq2SeqLM.from_pretrained('facebook/nllb-200-distilled-600M')"
      ],
      "metadata": {
        "id": "AYqHmTb5z44d"
      },
      "execution_count": 3,
      "outputs": []
    },
    {
      "cell_type": "code",
      "source": [
        "device = 0 if torch.cuda.is_available() else -1"
      ],
      "metadata": {
        "id": "DBYtuMZj0Vhr"
      },
      "execution_count": 4,
      "outputs": []
    },
    {
      "cell_type": "code",
      "source": [
        "LANGS = [\"ace_Arab\", \"eng_Latn\", \"fra_Latn\", \"spa_Latn\"]\n",
        "LANGS_DISPLAY_NAME = ['Arab', 'English', 'French', 'Spanish']"
      ],
      "metadata": {
        "id": "f7vh4vXB0i1s"
      },
      "execution_count": 5,
      "outputs": []
    },
    {
      "cell_type": "code",
      "source": [
        "langs_mapper = dict(zip(LANGS_DISPLAY_NAME, LANGS))\n",
        "langs_mapper"
      ],
      "metadata": {
        "id": "xw1hJdA64oLY",
        "colab": {
          "base_uri": "https://localhost:8080/"
        },
        "outputId": "8a166205-536f-4f9a-9ce5-8054920075d6"
      },
      "execution_count": 6,
      "outputs": [
        {
          "output_type": "execute_result",
          "data": {
            "text/plain": [
              "{'Arab': 'ace_Arab',\n",
              " 'English': 'eng_Latn',\n",
              " 'French': 'fra_Latn',\n",
              " 'Spanish': 'spa_Latn'}"
            ]
          },
          "metadata": {},
          "execution_count": 6
        }
      ]
    },
    {
      "cell_type": "code",
      "source": [
        "def translate(text, source_lang, target_lang):\n",
        "    \"\"\"Translate the text from source language to target language.\"\"\"\n",
        "    translation_pipeline = pipeline('translation',\n",
        "                                    tokenizer=tokenizer,\n",
        "                                    model=model,\n",
        "                                    src_lang=langs_mapper[source_lang],\n",
        "                                    tgt_lang=langs_mapper[target_lang],\n",
        "                                    max_length=400, \n",
        "                                    device=device)\n",
        "    result = translation_pipeline(text)\n",
        "    return result[0]['translation_text']"
      ],
      "metadata": {
        "id": "XZPzuxSU0tyi"
      },
      "execution_count": 7,
      "outputs": []
    },
    {
      "cell_type": "code",
      "source": [
        "demo = gr.Interface(\n",
        "    fn=translate,\n",
        "    inputs=[\n",
        "        gr.components.Textbox(label='Input Text'),\n",
        "        gr.components.Dropdown(label='Source Language', \n",
        "                               choices=LANGS_DISPLAY_NAME),\n",
        "        gr.components.Dropdown(label='Target Language', \n",
        "                               choices=LANGS_DISPLAY_NAME),\n",
        "    ],\n",
        "    outputs=[gr.components.Textbox(label='Output')],\n",
        "    title='Translation Service Demo',\n",
        "    description=\"This is a demo for a translation service based on the [NLLB-Translator](https://huggingface.co/spaces/Narrativaai/NLLB-Translator)\"\n",
        ")"
      ],
      "metadata": {
        "id": "kXUJUtLN1e-U"
      },
      "execution_count": 8,
      "outputs": []
    },
    {
      "cell_type": "code",
      "source": [
        "demo.launch()"
      ],
      "metadata": {
        "id": "9jgQAyXJ2NzW",
        "colab": {
          "base_uri": "https://localhost:8080/",
          "height": 618
        },
        "outputId": "bd8b5656-f59d-456e-c0af-82da17ba93bf"
      },
      "execution_count": 9,
      "outputs": [
        {
          "output_type": "stream",
          "name": "stdout",
          "text": [
            "Colab notebook detected. To show errors in colab notebook, set debug=True in launch()\n",
            "Note: opening Chrome Inspector may crash demo inside Colab notebooks.\n",
            "\n",
            "To create a public link, set `share=True` in `launch()`.\n"
          ]
        },
        {
          "output_type": "display_data",
          "data": {
            "text/plain": [
              "<IPython.core.display.Javascript object>"
            ],
            "application/javascript": [
              "(async (port, path, width, height, cache, element) => {\n",
              "                        if (!google.colab.kernel.accessAllowed && !cache) {\n",
              "                            return;\n",
              "                        }\n",
              "                        element.appendChild(document.createTextNode(''));\n",
              "                        const url = await google.colab.kernel.proxyPort(port, {cache});\n",
              "\n",
              "                        const external_link = document.createElement('div');\n",
              "                        external_link.innerHTML = `\n",
              "                            <div style=\"font-family: monospace; margin-bottom: 0.5rem\">\n",
              "                                Running on <a href=${new URL(path, url).toString()} target=\"_blank\">\n",
              "                                    https://localhost:${port}${path}\n",
              "                                </a>\n",
              "                            </div>\n",
              "                        `;\n",
              "                        element.appendChild(external_link);\n",
              "\n",
              "                        const iframe = document.createElement('iframe');\n",
              "                        iframe.src = new URL(path, url).toString();\n",
              "                        iframe.height = height;\n",
              "                        iframe.allow = \"autoplay; camera; microphone; clipboard-read; clipboard-write;\"\n",
              "                        iframe.width = width;\n",
              "                        iframe.style.border = 0;\n",
              "                        element.appendChild(iframe);\n",
              "                    })(7860, \"/\", \"100%\", 500, false, window.element)"
            ]
          },
          "metadata": {}
        },
        {
          "output_type": "execute_result",
          "data": {
            "text/plain": []
          },
          "metadata": {},
          "execution_count": 9
        }
      ]
    },
    {
      "cell_type": "code",
      "source": [],
      "metadata": {
        "id": "KdHhJBW22Px1"
      },
      "execution_count": 9,
      "outputs": []
    }
  ]
}