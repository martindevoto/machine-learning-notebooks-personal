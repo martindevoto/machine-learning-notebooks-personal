{
  "nbformat": 4,
  "nbformat_minor": 0,
  "metadata": {
    "colab": {
      "provenance": [],
      "authorship_tag": "ABX9TyOSFD2Hx7guFufisfdvmo82",
      "include_colab_link": true
    },
    "kernelspec": {
      "name": "python3",
      "display_name": "Python 3"
    }
  },
  "cells": [
    {
      "cell_type": "markdown",
      "metadata": {
        "id": "view-in-github",
        "colab_type": "text"
      },
      "source": [
        "<a href=\"https://colab.research.google.com/github/martindevoto/machine-learning-notebooks-personal/blob/main/Stemming_SpaCy.ipynb\" target=\"_parent\"><img src=\"https://colab.research.google.com/assets/colab-badge.svg\" alt=\"Open In Colab\"/></a>"
      ]
    },
    {
      "cell_type": "code",
      "metadata": {
        "id": "0LnW9S3CLKDR"
      },
      "source": [
        "# Stemmer es sacar caracteres hasta llegar a una palabra\n",
        "# Supuesto: estos caracteres componen un sufijo\n",
        "# En spacy prefieren lemmatization\n",
        "# Existen Porter Stemmer and Snowball Stemmer\n",
        "# Martin Porter, 1980\n",
        "# 5 pasos de reducción de palabras\n",
        "# 1er paso: simples reglas de sufijos\n",
        "# Se remueve el sufijo mas largo entre las posibles opciones:\n",
        "# SSES-->SS, IES-->I, SS-->SS , S -->\n",
        "# Existen más sofisticadas (m>0 (aunque parece que es m>1))\n",
        "# Ational --> Ate, eed--> ee\n",
        "# Snowball tambien es de Martin Porter, se le dice English Stemmer o\n",
        "# Porter2Stemmer"
      ],
      "execution_count": null,
      "outputs": []
    },
    {
      "cell_type": "code",
      "metadata": {
        "id": "cl1O6LUbN9gt"
      },
      "source": [
        "import nltk\n",
        "from nltk.stem.porter import PorterStemmer\n",
        "from nltk.stem.snowball import SnowballStemmer"
      ],
      "execution_count": null,
      "outputs": []
    },
    {
      "cell_type": "code",
      "metadata": {
        "id": "v2NesSh_OAAC"
      },
      "source": [
        "p_stemmer = PorterStemmer()"
      ],
      "execution_count": null,
      "outputs": []
    },
    {
      "cell_type": "code",
      "metadata": {
        "id": "whq9dm0sOGEw"
      },
      "source": [
        "words = ['run','runner','ran','runs','easily','fairly','fairness']"
      ],
      "execution_count": null,
      "outputs": []
    },
    {
      "cell_type": "code",
      "metadata": {
        "id": "TZk2xYliOJFk",
        "colab": {
          "base_uri": "https://localhost:8080/",
          "height": 134
        },
        "outputId": "f9ee4545-b4e8-45ba-d15e-421d94bdf641"
      },
      "source": [
        "for word in words:\n",
        "  print(word + '---->'+ p_stemmer.stem(word))"
      ],
      "execution_count": null,
      "outputs": [
        {
          "output_type": "stream",
          "text": [
            "run---->run\n",
            "runner---->runner\n",
            "ran---->ran\n",
            "runs---->run\n",
            "easily---->easili\n",
            "fairly---->fairli\n",
            "fairness---->fair\n"
          ],
          "name": "stdout"
        }
      ]
    },
    {
      "cell_type": "code",
      "metadata": {
        "id": "WwM1YorkOWh1"
      },
      "source": [
        "s_stemmer = SnowballStemmer(language='english')"
      ],
      "execution_count": null,
      "outputs": []
    },
    {
      "cell_type": "code",
      "metadata": {
        "id": "ny9l_zzuOrRK",
        "colab": {
          "base_uri": "https://localhost:8080/",
          "height": 134
        },
        "outputId": "4dbdb97b-e411-44c8-8dbc-9957f135feb7"
      },
      "source": [
        "for word in words:\n",
        "  print(word + '---->'+s_stemmer.stem(word))"
      ],
      "execution_count": null,
      "outputs": [
        {
          "output_type": "stream",
          "text": [
            "run---->run\n",
            "runner---->runner\n",
            "ran---->ran\n",
            "runs---->run\n",
            "easily---->easili\n",
            "fairly---->fair\n",
            "fairness---->fair\n"
          ],
          "name": "stdout"
        }
      ]
    },
    {
      "cell_type": "code",
      "metadata": {
        "id": "5NcGLPBOOxij"
      },
      "source": [
        " words = ['generous','generation','generously','generate']"
      ],
      "execution_count": null,
      "outputs": []
    },
    {
      "cell_type": "code",
      "metadata": {
        "id": "q7gOGOg0PGcb",
        "colab": {
          "base_uri": "https://localhost:8080/",
          "height": 84
        },
        "outputId": "2009ee19-7951-4561-efc6-190853eb5783"
      },
      "source": [
        "for word in words:\n",
        "  print(word + '---->' + s_stemmer.stem(word))"
      ],
      "execution_count": null,
      "outputs": [
        {
          "output_type": "stream",
          "text": [
            "generous---->generous\n",
            "generation---->generat\n",
            "generously---->generous\n",
            "generate---->generat\n"
          ],
          "name": "stdout"
        }
      ]
    },
    {
      "cell_type": "code",
      "metadata": {
        "id": "KjhpQuBbPNt9"
      },
      "source": [
        "\n"
      ],
      "execution_count": null,
      "outputs": []
    }
  ]
}