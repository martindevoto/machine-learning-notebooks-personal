{
  "nbformat": 4,
  "nbformat_minor": 0,
  "metadata": {
    "colab": {
      "provenance": [],
      "collapsed_sections": [
        "dFsyoSRRvzMb",
        "JmRLXE1Vj2PU",
        "6j09OLf4l4V0",
        "AVTjwke6mZc1"
      ],
      "include_colab_link": true
    },
    "kernelspec": {
      "name": "python3",
      "display_name": "Python 3"
    }
  },
  "cells": [
    {
      "cell_type": "markdown",
      "metadata": {
        "id": "view-in-github",
        "colab_type": "text"
      },
      "source": [
        "<a href=\"https://colab.research.google.com/github/martindevoto/machine-learning-notebooks-personal/blob/main/NLP04_Project_Text_Classification.ipynb\" target=\"_parent\"><img src=\"https://colab.research.google.com/assets/colab-badge.svg\" alt=\"Open In Colab\"/></a>"
      ]
    },
    {
      "cell_type": "markdown",
      "metadata": {
        "id": "QubdjQJ0usb0"
      },
      "source": [
        "# Text Classification"
      ]
    },
    {
      "cell_type": "markdown",
      "metadata": {
        "id": "_iWADa_svAFm"
      },
      "source": [
        "In this section, we will apply NLP techniques to perform a sentiment classification for movie reviews, determining if a review is rather positive or negative.\n",
        "\n",
        "Let's start!"
      ]
    },
    {
      "cell_type": "code",
      "metadata": {
        "id": "1901EUPHt1Ao",
        "colab": {
          "base_uri": "https://localhost:8080/"
        },
        "outputId": "6d6f2403-0ff7-43bd-ba16-13012228cdaa"
      },
      "source": [
        "from google.colab import drive\n",
        "drive.mount('/content/MyDrive')"
      ],
      "execution_count": 1,
      "outputs": [
        {
          "output_type": "stream",
          "name": "stdout",
          "text": [
            "Mounted at /content/MyDrive\n"
          ]
        }
      ]
    },
    {
      "cell_type": "code",
      "metadata": {
        "id": "DUV3w9S1oPFo"
      },
      "source": [
        "# In case you don't have these libraries installed, \n",
        "# you may install them by uncommenting the following lines:\n",
        "\n",
        "# !pip install pandas\n",
        "# !pip install numpy\n",
        "# !pip install seaborn\n",
        "# !pip install sklearn\n",
        "# !pip install -U spacy\n",
        "# import spacy.cli\n",
        "# spacy.cli.download(\"en_core_web_sm\")\n",
        "\n",
        "# After installation, you may run the imports cell below again!"
      ],
      "execution_count": 2,
      "outputs": []
    },
    {
      "cell_type": "code",
      "metadata": {
        "id": "N_Oq46kBt7u7",
        "colab": {
          "base_uri": "https://localhost:8080/"
        },
        "outputId": "2d618a4b-3c8e-41f6-ca22-d51780b8a76e"
      },
      "source": [
        "import pandas as pd\n",
        "import numpy as np\n",
        "import seaborn as sns\n",
        "from sklearn.model_selection import train_test_split\n",
        "from sklearn.pipeline import Pipeline\n",
        "from sklearn.feature_extraction.text import TfidfVectorizer\n",
        "from sklearn.svm import LinearSVC\n",
        "from sklearn.ensemble import RandomForestClassifier\n",
        "from sklearn.metrics import confusion_matrix, classification_report, accuracy_score\n",
        "import spacy\n",
        "sp = spacy.load('en_core_web_sm')\n",
        "all_stopwords = sp.Defaults.stop_words"
      ],
      "execution_count": 3,
      "outputs": [
        {
          "output_type": "stream",
          "name": "stderr",
          "text": [
            "/usr/local/lib/python3.8/dist-packages/torch/cuda/__init__.py:497: UserWarning: Can't initialize NVML\n",
            "  warnings.warn(\"Can't initialize NVML\")\n"
          ]
        }
      ]
    },
    {
      "cell_type": "markdown",
      "metadata": {
        "id": "gL25riwLuncq"
      },
      "source": [
        "# Loading and exploring the Dataset"
      ]
    },
    {
      "cell_type": "code",
      "metadata": {
        "id": "09ZoKf5Ku6bA"
      },
      "source": [
        "df = pd.read_csv('/content/MyDrive/My Drive/smsspamcollection.tsv',sep='\\t')"
      ],
      "execution_count": 4,
      "outputs": []
    },
    {
      "cell_type": "code",
      "metadata": {
        "id": "ox2RQjiRvdR3",
        "colab": {
          "base_uri": "https://localhost:8080/",
          "height": 206
        },
        "outputId": "80f78975-9186-4cf9-a97e-0b7d7300fb9b"
      },
      "source": [
        "df.head()"
      ],
      "execution_count": 5,
      "outputs": [
        {
          "output_type": "execute_result",
          "data": {
            "text/plain": [
              "  label                                            message  length  punct\n",
              "0   ham  Go until jurong point, crazy.. Available only ...     111      9\n",
              "1   ham                      Ok lar... Joking wif u oni...      29      6\n",
              "2  spam  Free entry in 2 a wkly comp to win FA Cup fina...     155      6\n",
              "3   ham  U dun say so early hor... U c already then say...      49      6\n",
              "4   ham  Nah I don't think he goes to usf, he lives aro...      61      2"
            ],
            "text/html": [
              "\n",
              "  <div id=\"df-57ee9488-3e81-407a-aa8b-56b828880057\">\n",
              "    <div class=\"colab-df-container\">\n",
              "      <div>\n",
              "<style scoped>\n",
              "    .dataframe tbody tr th:only-of-type {\n",
              "        vertical-align: middle;\n",
              "    }\n",
              "\n",
              "    .dataframe tbody tr th {\n",
              "        vertical-align: top;\n",
              "    }\n",
              "\n",
              "    .dataframe thead th {\n",
              "        text-align: right;\n",
              "    }\n",
              "</style>\n",
              "<table border=\"1\" class=\"dataframe\">\n",
              "  <thead>\n",
              "    <tr style=\"text-align: right;\">\n",
              "      <th></th>\n",
              "      <th>label</th>\n",
              "      <th>message</th>\n",
              "      <th>length</th>\n",
              "      <th>punct</th>\n",
              "    </tr>\n",
              "  </thead>\n",
              "  <tbody>\n",
              "    <tr>\n",
              "      <th>0</th>\n",
              "      <td>ham</td>\n",
              "      <td>Go until jurong point, crazy.. Available only ...</td>\n",
              "      <td>111</td>\n",
              "      <td>9</td>\n",
              "    </tr>\n",
              "    <tr>\n",
              "      <th>1</th>\n",
              "      <td>ham</td>\n",
              "      <td>Ok lar... Joking wif u oni...</td>\n",
              "      <td>29</td>\n",
              "      <td>6</td>\n",
              "    </tr>\n",
              "    <tr>\n",
              "      <th>2</th>\n",
              "      <td>spam</td>\n",
              "      <td>Free entry in 2 a wkly comp to win FA Cup fina...</td>\n",
              "      <td>155</td>\n",
              "      <td>6</td>\n",
              "    </tr>\n",
              "    <tr>\n",
              "      <th>3</th>\n",
              "      <td>ham</td>\n",
              "      <td>U dun say so early hor... U c already then say...</td>\n",
              "      <td>49</td>\n",
              "      <td>6</td>\n",
              "    </tr>\n",
              "    <tr>\n",
              "      <th>4</th>\n",
              "      <td>ham</td>\n",
              "      <td>Nah I don't think he goes to usf, he lives aro...</td>\n",
              "      <td>61</td>\n",
              "      <td>2</td>\n",
              "    </tr>\n",
              "  </tbody>\n",
              "</table>\n",
              "</div>\n",
              "      <button class=\"colab-df-convert\" onclick=\"convertToInteractive('df-57ee9488-3e81-407a-aa8b-56b828880057')\"\n",
              "              title=\"Convert this dataframe to an interactive table.\"\n",
              "              style=\"display:none;\">\n",
              "        \n",
              "  <svg xmlns=\"http://www.w3.org/2000/svg\" height=\"24px\"viewBox=\"0 0 24 24\"\n",
              "       width=\"24px\">\n",
              "    <path d=\"M0 0h24v24H0V0z\" fill=\"none\"/>\n",
              "    <path d=\"M18.56 5.44l.94 2.06.94-2.06 2.06-.94-2.06-.94-.94-2.06-.94 2.06-2.06.94zm-11 1L8.5 8.5l.94-2.06 2.06-.94-2.06-.94L8.5 2.5l-.94 2.06-2.06.94zm10 10l.94 2.06.94-2.06 2.06-.94-2.06-.94-.94-2.06-.94 2.06-2.06.94z\"/><path d=\"M17.41 7.96l-1.37-1.37c-.4-.4-.92-.59-1.43-.59-.52 0-1.04.2-1.43.59L10.3 9.45l-7.72 7.72c-.78.78-.78 2.05 0 2.83L4 21.41c.39.39.9.59 1.41.59.51 0 1.02-.2 1.41-.59l7.78-7.78 2.81-2.81c.8-.78.8-2.07 0-2.86zM5.41 20L4 18.59l7.72-7.72 1.47 1.35L5.41 20z\"/>\n",
              "  </svg>\n",
              "      </button>\n",
              "      \n",
              "  <style>\n",
              "    .colab-df-container {\n",
              "      display:flex;\n",
              "      flex-wrap:wrap;\n",
              "      gap: 12px;\n",
              "    }\n",
              "\n",
              "    .colab-df-convert {\n",
              "      background-color: #E8F0FE;\n",
              "      border: none;\n",
              "      border-radius: 50%;\n",
              "      cursor: pointer;\n",
              "      display: none;\n",
              "      fill: #1967D2;\n",
              "      height: 32px;\n",
              "      padding: 0 0 0 0;\n",
              "      width: 32px;\n",
              "    }\n",
              "\n",
              "    .colab-df-convert:hover {\n",
              "      background-color: #E2EBFA;\n",
              "      box-shadow: 0px 1px 2px rgba(60, 64, 67, 0.3), 0px 1px 3px 1px rgba(60, 64, 67, 0.15);\n",
              "      fill: #174EA6;\n",
              "    }\n",
              "\n",
              "    [theme=dark] .colab-df-convert {\n",
              "      background-color: #3B4455;\n",
              "      fill: #D2E3FC;\n",
              "    }\n",
              "\n",
              "    [theme=dark] .colab-df-convert:hover {\n",
              "      background-color: #434B5C;\n",
              "      box-shadow: 0px 1px 3px 1px rgba(0, 0, 0, 0.15);\n",
              "      filter: drop-shadow(0px 1px 2px rgba(0, 0, 0, 0.3));\n",
              "      fill: #FFFFFF;\n",
              "    }\n",
              "  </style>\n",
              "\n",
              "      <script>\n",
              "        const buttonEl =\n",
              "          document.querySelector('#df-57ee9488-3e81-407a-aa8b-56b828880057 button.colab-df-convert');\n",
              "        buttonEl.style.display =\n",
              "          google.colab.kernel.accessAllowed ? 'block' : 'none';\n",
              "\n",
              "        async function convertToInteractive(key) {\n",
              "          const element = document.querySelector('#df-57ee9488-3e81-407a-aa8b-56b828880057');\n",
              "          const dataTable =\n",
              "            await google.colab.kernel.invokeFunction('convertToInteractive',\n",
              "                                                     [key], {});\n",
              "          if (!dataTable) return;\n",
              "\n",
              "          const docLinkHtml = 'Like what you see? Visit the ' +\n",
              "            '<a target=\"_blank\" href=https://colab.research.google.com/notebooks/data_table.ipynb>data table notebook</a>'\n",
              "            + ' to learn more about interactive tables.';\n",
              "          element.innerHTML = '';\n",
              "          dataTable['output_type'] = 'display_data';\n",
              "          await google.colab.output.renderOutput(dataTable, element);\n",
              "          const docLink = document.createElement('div');\n",
              "          docLink.innerHTML = docLinkHtml;\n",
              "          element.appendChild(docLink);\n",
              "        }\n",
              "      </script>\n",
              "    </div>\n",
              "  </div>\n",
              "  "
            ]
          },
          "metadata": {},
          "execution_count": 5
        }
      ]
    },
    {
      "cell_type": "code",
      "metadata": {
        "id": "BHIc02c-voJ4",
        "colab": {
          "base_uri": "https://localhost:8080/"
        },
        "outputId": "5b66a45f-3782-465a-d877-5349613d428b"
      },
      "source": [
        "len(df)"
      ],
      "execution_count": 6,
      "outputs": [
        {
          "output_type": "execute_result",
          "data": {
            "text/plain": [
              "5572"
            ]
          },
          "metadata": {},
          "execution_count": 6
        }
      ]
    },
    {
      "cell_type": "markdown",
      "metadata": {
        "id": "sXUgt7yQeMJk"
      },
      "source": [
        "## Let's show the attribute .shape of the dataset"
      ]
    },
    {
      "cell_type": "code",
      "metadata": {
        "id": "8Bo9vlM3XznY"
      },
      "source": [
        "# Try it here!"
      ],
      "execution_count": 7,
      "outputs": []
    },
    {
      "cell_type": "markdown",
      "metadata": {
        "id": "PQ7BQYK0i2RV"
      },
      "source": [
        "## Check a random row from the dataset\n",
        "#### use a random index on the dataset"
      ]
    },
    {
      "cell_type": "code",
      "metadata": {
        "id": "s_siZokSvt1d"
      },
      "source": [
        "# Print a random row from the Dataset\n",
        "\n",
        "# print(df['message'][8])"
      ],
      "execution_count": 8,
      "outputs": []
    },
    {
      "cell_type": "markdown",
      "metadata": {
        "id": "m1mPjF9dvr5O"
      },
      "source": [
        "#Looking for (and cleaning) null reviews"
      ]
    },
    {
      "cell_type": "code",
      "metadata": {
        "id": "9rGZyNnUvxNn",
        "colab": {
          "base_uri": "https://localhost:8080/"
        },
        "outputId": "33540be9-2a21-4711-e96b-7d8c13c8c9e9"
      },
      "source": [
        "df.isnull().sum()"
      ],
      "execution_count": 9,
      "outputs": [
        {
          "output_type": "execute_result",
          "data": {
            "text/plain": [
              "label      0\n",
              "message    0\n",
              "length     0\n",
              "punct      0\n",
              "dtype: int64"
            ]
          },
          "metadata": {},
          "execution_count": 9
        }
      ]
    },
    {
      "cell_type": "code",
      "metadata": {
        "id": "-i4AJkW_v8Vy"
      },
      "source": [
        "df.dropna(inplace=True)"
      ],
      "execution_count": 10,
      "outputs": []
    },
    {
      "cell_type": "code",
      "metadata": {
        "id": "ysGSIttYwCLv",
        "colab": {
          "base_uri": "https://localhost:8080/"
        },
        "outputId": "7f1bd76b-d3ee-42f2-96ba-2a49f90a87a0"
      },
      "source": [
        "df.isnull().sum()"
      ],
      "execution_count": 11,
      "outputs": [
        {
          "output_type": "execute_result",
          "data": {
            "text/plain": [
              "label      0\n",
              "message    0\n",
              "length     0\n",
              "punct      0\n",
              "dtype: int64"
            ]
          },
          "metadata": {},
          "execution_count": 11
        }
      ]
    },
    {
      "cell_type": "code",
      "metadata": {
        "id": "WeqDwEIbxRKO",
        "colab": {
          "base_uri": "https://localhost:8080/"
        },
        "outputId": "79edc49c-756a-49b9-e939-451d4bb35731"
      },
      "source": [
        "len(df)"
      ],
      "execution_count": 12,
      "outputs": [
        {
          "output_type": "execute_result",
          "data": {
            "text/plain": [
              "5572"
            ]
          },
          "metadata": {},
          "execution_count": 12
        }
      ]
    },
    {
      "cell_type": "code",
      "metadata": {
        "id": "7B2-AoZBe4dU",
        "colab": {
          "base_uri": "https://localhost:8080/"
        },
        "outputId": "23b76181-864a-474d-ac73-9a7137bc44eb"
      },
      "source": [
        "df['label'].value_counts()"
      ],
      "execution_count": 13,
      "outputs": [
        {
          "output_type": "execute_result",
          "data": {
            "text/plain": [
              "ham     4825\n",
              "spam     747\n",
              "Name: label, dtype: int64"
            ]
          },
          "metadata": {},
          "execution_count": 13
        }
      ]
    },
    {
      "cell_type": "markdown",
      "metadata": {
        "id": "dFsyoSRRvzMb"
      },
      "source": [
        "#Checking the class balance"
      ]
    },
    {
      "cell_type": "code",
      "metadata": {
        "id": "wAKX0i5FpufZ",
        "colab": {
          "base_uri": "https://localhost:8080/",
          "height": 0
        },
        "outputId": "d7050da0-5eff-42d0-db0f-38c9f84cb326"
      },
      "source": [
        "sns.countplot(df['label'])"
      ],
      "execution_count": 14,
      "outputs": [
        {
          "output_type": "stream",
          "name": "stderr",
          "text": [
            "/usr/local/lib/python3.8/dist-packages/seaborn/_decorators.py:36: FutureWarning: Pass the following variable as a keyword arg: x. From version 0.12, the only valid positional argument will be `data`, and passing other arguments without an explicit keyword will result in an error or misinterpretation.\n",
            "  warnings.warn(\n"
          ]
        },
        {
          "output_type": "execute_result",
          "data": {
            "text/plain": [
              "<matplotlib.axes._subplots.AxesSubplot at 0x7f5d02cfcbe0>"
            ]
          },
          "metadata": {},
          "execution_count": 14
        },
        {
          "output_type": "display_data",
          "data": {
            "text/plain": [
              "<Figure size 432x288 with 1 Axes>"
            ],
            "image/png": "[encoded data removed]"
          },
          "metadata": {
            "needs_background": "light"
          }
        }
      ]
    },
    {
      "cell_type": "markdown",
      "metadata": {
        "id": "AU_33HsEuhAW"
      },
      "source": [
        "# Separating the dataset into Train and Test"
      ]
    },
    {
      "cell_type": "code",
      "metadata": {
        "id": "CsDP7DFKxSl-"
      },
      "source": [
        "X = df['message']"
      ],
      "execution_count": 15,
      "outputs": []
    },
    {
      "cell_type": "code",
      "metadata": {
        "id": "X6exgWFDxdPw"
      },
      "source": [
        "y = df['label']"
      ],
      "execution_count": 16,
      "outputs": []
    },
    {
      "cell_type": "code",
      "metadata": {
        "id": "xqyJ-HGkxf05"
      },
      "source": [
        "X_train, X_test, y_train, y_test = train_test_split( X, y, test_size=0.15, random_state=42) "
      ],
      "execution_count": 17,
      "outputs": []
    },
    {
      "cell_type": "markdown",
      "metadata": {
        "id": "dWWx8l9dv8bS"
      },
      "source": [
        "# Reviewing the Vectorizer"
      ]
    },
    {
      "cell_type": "markdown",
      "metadata": {
        "id": "JmRLXE1Vj2PU"
      },
      "source": [
        "## Let's create a separate Vectorizer\n",
        "Run the comands below to create a new TF-IDF Vectorizer"
      ]
    },
    {
      "cell_type": "code",
      "metadata": {
        "id": "umQ0Hyr9kC_I"
      },
      "source": [
        "# tfidf = TfidfVectorizer(stop_words=all_stopwords, max_df=0.7, min_df=2)"
      ],
      "execution_count": 18,
      "outputs": []
    },
    {
      "cell_type": "markdown",
      "metadata": {
        "id": "6j09OLf4l4V0"
      },
      "source": [
        "##Preparing the Vectorizer\n",
        "The line below 'trains' the vectorizer with all the words from the dataset, and then it TRANSFORMS the data into numeric values"
      ]
    },
    {
      "cell_type": "code",
      "metadata": {
        "id": "adhwk13BkLRX"
      },
      "source": [
        "# vectorized_data = tfidf.fit_transform(df['message'])"
      ],
      "execution_count": 19,
      "outputs": []
    },
    {
      "cell_type": "markdown",
      "metadata": {
        "id": "AVTjwke6mZc1"
      },
      "source": [
        "## Checking the output\n",
        "\n",
        "The resulting data has the following structure: \n",
        "`(document_id, token_id) -------- numeric_weight`\n",
        "\n",
        "This means that the data is now numeric, and we can use it to train ML Models"
      ]
    },
    {
      "cell_type": "code",
      "metadata": {
        "id": "55wF4LozkZCJ"
      },
      "source": [
        "# print(vectorized_data.shape[0])\n",
        "# print(vectorized_data)"
      ],
      "execution_count": 20,
      "outputs": []
    },
    {
      "cell_type": "markdown",
      "metadata": {
        "id": "rgL4CKtonoaE"
      },
      "source": [
        "If we want to know which token corresponds to the above ids, we need to run the `get_feature_names()` method, which will return a LIST of all the words in the corpus (dataset). Find the word you want by using the token_ids as indexes on the resulting list. Try it below!"
      ]
    },
    {
      "cell_type": "code",
      "metadata": {
        "id": "AUOtusLOlcFt"
      },
      "source": [
        "# tfidf.get_feature_names() #will return the whole list of existing words within the dataset (WITH WEIGHT > 0). Try out some ids on it"
      ],
      "execution_count": 21,
      "outputs": []
    },
    {
      "cell_type": "markdown",
      "metadata": {
        "id": "i0H7YQHxo0vn"
      },
      "source": [
        "# Creating a NLP Classification Model"
      ]
    },
    {
      "cell_type": "code",
      "metadata": {
        "id": "RCHsvh0AxnuR"
      },
      "source": [
        "text_clf = Pipeline([('tfidf',TfidfVectorizer(stop_words=all_stopwords, max_df=0.7, min_df=2)),('clf',LinearSVC())])"
      ],
      "execution_count": 22,
      "outputs": []
    },
    {
      "cell_type": "code",
      "metadata": {
        "id": "jUHljezbyF0g",
        "colab": {
          "base_uri": "https://localhost:8080/"
        },
        "outputId": "8cf4b5ed-d536-4217-c449-8b164d4ce54c"
      },
      "source": [
        "text_clf.fit(X_train,y_train)"
      ],
      "execution_count": 23,
      "outputs": [
        {
          "output_type": "stream",
          "name": "stderr",
          "text": [
            "/usr/local/lib/python3.8/dist-packages/sklearn/feature_extraction/text.py:396: UserWarning: Your stop_words may be inconsistent with your preprocessing. Tokenizing the stop words generated tokens ['ll', 've'] not in stop_words.\n",
            "  warnings.warn(\n"
          ]
        },
        {
          "output_type": "execute_result",
          "data": {
            "text/plain": [
              "Pipeline(steps=[('tfidf',\n",
              "                 TfidfVectorizer(max_df=0.7, min_df=2,\n",
              "                                 stop_words={\"'d\", \"'ll\", \"'m\", \"'re\", \"'s\",\n",
              "                                             \"'ve\", 'a', 'about', 'above',\n",
              "                                             'across', 'after', 'afterwards',\n",
              "                                             'again', 'against', 'all',\n",
              "                                             'almost', 'alone', 'along',\n",
              "                                             'already', 'also', 'although',\n",
              "                                             'always', 'am', 'among', 'amongst',\n",
              "                                             'amount', 'an', 'and', 'another',\n",
              "                                             'any', ...})),\n",
              "                ('clf', LinearSVC())])"
            ]
          },
          "metadata": {},
          "execution_count": 23
        }
      ]
    },
    {
      "cell_type": "markdown",
      "metadata": {
        "id": "nZPn_yZawBA6"
      },
      "source": [
        "#Evaluation Metrics"
      ]
    },
    {
      "cell_type": "code",
      "metadata": {
        "id": "IOHlS3LcyIzm"
      },
      "source": [
        "predictions = text_clf.predict(X_test)"
      ],
      "execution_count": 24,
      "outputs": []
    },
    {
      "cell_type": "code",
      "metadata": {
        "id": "0hGFovdbyQy9",
        "colab": {
          "base_uri": "https://localhost:8080/"
        },
        "outputId": "0564e849-11e4-41ee-b48e-4ddc5333f029"
      },
      "source": [
        "print(confusion_matrix(y_test,predictions))"
      ],
      "execution_count": 25,
      "outputs": [
        {
          "output_type": "stream",
          "name": "stdout",
          "text": [
            "[[728   1]\n",
            " [ 10  97]]\n"
          ]
        }
      ]
    },
    {
      "cell_type": "code",
      "metadata": {
        "id": "M3n4EsuKydAH",
        "colab": {
          "base_uri": "https://localhost:8080/"
        },
        "outputId": "9f142644-710d-469c-9dbb-f2214d0180b8"
      },
      "source": [
        "print(classification_report(y_test,predictions))"
      ],
      "execution_count": 26,
      "outputs": [
        {
          "output_type": "stream",
          "name": "stdout",
          "text": [
            "              precision    recall  f1-score   support\n",
            "\n",
            "         ham       0.99      1.00      0.99       729\n",
            "        spam       0.99      0.91      0.95       107\n",
            "\n",
            "    accuracy                           0.99       836\n",
            "   macro avg       0.99      0.95      0.97       836\n",
            "weighted avg       0.99      0.99      0.99       836\n",
            "\n"
          ]
        }
      ]
    },
    {
      "cell_type": "code",
      "metadata": {
        "id": "QQwlAxFey1VA",
        "colab": {
          "base_uri": "https://localhost:8080/"
        },
        "outputId": "9e18fba3-69f2-479e-f6e3-807c9f5729d0"
      },
      "source": [
        "print(accuracy_score(y_test,predictions))"
      ],
      "execution_count": 27,
      "outputs": [
        {
          "output_type": "stream",
          "name": "stdout",
          "text": [
            "0.9868421052631579\n"
          ]
        }
      ]
    },
    {
      "cell_type": "markdown",
      "metadata": {
        "id": "_ZpkKFWJwGvL"
      },
      "source": [
        "#Predicting sentiment associated with a movie review"
      ]
    },
    {
      "cell_type": "code",
      "metadata": {
        "id": "qxh18ej4wOYi"
      },
      "source": [
        "new_ham = [u\"For fear of fainting with the of all that housework you just did? Quick have a cuppa\"]"
      ],
      "execution_count": 28,
      "outputs": []
    },
    {
      "cell_type": "code",
      "metadata": {
        "id": "Bnh89ItTZCbi"
      },
      "source": [
        "new_ham = pd.Series(new_ham)"
      ],
      "execution_count": 29,
      "outputs": []
    },
    {
      "cell_type": "code",
      "metadata": {
        "id": "t3HN2qr5YLqI",
        "colab": {
          "base_uri": "https://localhost:8080/"
        },
        "outputId": "95c68547-5bfe-48b7-fb5a-c6a8de281a5d"
      },
      "source": [
        "text_clf.predict(new_ham)"
      ],
      "execution_count": 30,
      "outputs": [
        {
          "output_type": "execute_result",
          "data": {
            "text/plain": [
              "array(['ham'], dtype=object)"
            ]
          },
          "metadata": {},
          "execution_count": 30
        }
      ]
    },
    {
      "cell_type": "code",
      "metadata": {
        "id": "T5drj364aTbq"
      },
      "source": [
        "new_spam = [u\"URGENT! You have won a 1 week FREE membership in our £100,000 Prize Jackpot! Txt the word: CLAIM to No: 81010 T&C www.dbuk.net LCCLTD POBOX 4403LDNW1A7RW18\"]"
      ],
      "execution_count": 31,
      "outputs": []
    },
    {
      "cell_type": "code",
      "metadata": {
        "id": "zbQeb3jBdZs7"
      },
      "source": [
        "new_spam = pd.Series(new_spam)"
      ],
      "execution_count": 32,
      "outputs": []
    },
    {
      "cell_type": "code",
      "metadata": {
        "id": "FhsD9JDCdiFh",
        "colab": {
          "base_uri": "https://localhost:8080/"
        },
        "outputId": "ecb8c724-eb9f-4435-e990-3a0363ca767e"
      },
      "source": [
        "text_clf.predict(new_spam)"
      ],
      "execution_count": 33,
      "outputs": [
        {
          "output_type": "execute_result",
          "data": {
            "text/plain": [
              "array(['spam'], dtype=object)"
            ]
          },
          "metadata": {},
          "execution_count": 33
        }
      ]
    },
    {
      "cell_type": "code",
      "metadata": {
        "id": "hEZA2unkd5Vp"
      },
      "source": [
        "spam_group = df[df['label']=='spam'].iloc[2:30,:].index"
      ],
      "execution_count": 34,
      "outputs": []
    },
    {
      "cell_type": "code",
      "metadata": {
        "id": "_TpbddUNdZJY",
        "colab": {
          "base_uri": "https://localhost:8080/"
        },
        "outputId": "a48d35b7-24da-48a1-807e-0933e97e8b66"
      },
      "source": [
        "print(spam_group)"
      ],
      "execution_count": 35,
      "outputs": [
        {
          "output_type": "stream",
          "name": "stdout",
          "text": [
            "Int64Index([  8,   9,  11,  12,  15,  19,  34,  42,  54,  56,  65,  67,  68,\n",
            "             93,  95, 114, 117, 120, 121, 123, 134, 135, 139, 147, 159, 160,\n",
            "            164, 165],\n",
            "           dtype='int64')\n"
          ]
        }
      ]
    },
    {
      "cell_type": "code",
      "metadata": {
        "id": "Hz2iQgz6j-da"
      },
      "source": [
        "spam_test_group = X_test[X_test.index.isin(spam_group)]"
      ],
      "execution_count": 36,
      "outputs": []
    },
    {
      "cell_type": "code",
      "metadata": {
        "id": "VbajFQzhljfz",
        "colab": {
          "base_uri": "https://localhost:8080/"
        },
        "outputId": "538b4ed9-db71-4384-c919-5b84391c839b"
      },
      "source": [
        "spam_test_group.head()"
      ],
      "execution_count": 37,
      "outputs": [
        {
          "output_type": "execute_result",
          "data": {
            "text/plain": [
              "8      WINNER!! As a valued network customer you have...\n",
              "15     XXXMobileMovieClub: To use your credit, click ...\n",
              "135    Want 2 get laid tonight? Want real Dogging loc...\n",
              "121    URGENT! Your Mobile No. was awarded £2000 Bonu...\n",
              "65     As a valued customer, I am pleased to advise y...\n",
              "Name: message, dtype: object"
            ]
          },
          "metadata": {},
          "execution_count": 37
        }
      ]
    },
    {
      "cell_type": "code",
      "metadata": {
        "id": "mLdUvbVclnYx"
      },
      "source": [],
      "execution_count": 37,
      "outputs": []
    }
  ]
}