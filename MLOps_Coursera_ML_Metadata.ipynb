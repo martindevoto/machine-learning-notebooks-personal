{
  "nbformat": 4,
  "nbformat_minor": 0,
  "metadata": {
    "colab": {
      "provenance": [],
      "authorship_tag": "ABX9TyO99l5oobLoZ2XLUevDZaiJ",
      "include_colab_link": true
    },
    "kernelspec": {
      "name": "python3",
      "display_name": "Python 3"
    },
    "language_info": {
      "name": "python"
    }
  },
  "cells": [
    {
      "cell_type": "markdown",
      "metadata": {
        "id": "view-in-github",
        "colab_type": "text"
      },
      "source": [
        "<a href=\"https://colab.research.google.com/github/martindevoto/machine-learning-notebooks-personal/blob/main/MLOps_Coursera_ML_Metadata.ipynb\" target=\"_parent\"><img src=\"https://colab.research.google.com/assets/colab-badge.svg\" alt=\"Open In Colab\"/></a>"
      ]
    },
    {
      "cell_type": "markdown",
      "source": [
        "# Ungraded Lab: Walkthrough of ML Metadata\n",
        "\n",
        "Keeping records at each stage of the project is an important aspect of machine learning pipelines. Especially in production models which involve many iterations of datasets and re-training, having these records will help in maintaining or debugging the deployed system. [ML Metadata](https://www.tensorflow.org/tfx/guide/mlmd) addresses this need by having an API suited specifically for keeping track of any progress made in ML projects.\n",
        "\n",
        "As mentioned in earlier labs, you have already used ML Metadata when you ran your TFX pipelines. Each component automatically records information to a metadata store as you go through each stage. It allowed you to retrieve information such as the name of the training splits or the location of an inferred schema. \n",
        "\n",
        "In this notebook, you will look more closely at how ML Metadata can be used directly for recording and retrieving metadata independent from a TFX pipeline (i.e. without using TFX components). You will use TFDV to infer a schema and record all information about this process. These will show how the different components are related to each other so you can better interact with the database when you go back to using TFX in the next labs. Moreover, knowing the inner workings of the library will help you adapt it for other platforms if needed.\n",
        "\n",
        "Let's get to it!"
      ],
      "metadata": {
        "id": "RPC9Jzpy0rAd"
      }
    },
    {
      "cell_type": "code",
      "source": [
        "!pip install -q ml-metadata tensorflow-data-validation"
      ],
      "metadata": {
        "id": "aSVT98H52h1K"
      },
      "execution_count": null,
      "outputs": []
    },
    {
      "cell_type": "markdown",
      "source": [
        "## Imports"
      ],
      "metadata": {
        "id": "3xRcLsvd1Ttq"
      }
    },
    {
      "cell_type": "code",
      "execution_count": null,
      "metadata": {
        "colab": {
          "base_uri": "https://localhost:8080/"
        },
        "id": "un9zzEnU0lh1",
        "outputId": "0746a9b3-a9cb-4210-f0f4-e4142e85ec68"
      },
      "outputs": [
        {
          "output_type": "stream",
          "name": "stdout",
          "text": [
            "TF version: 2.9.2\n",
            "TFDV version: 1.10.0\n"
          ]
        }
      ],
      "source": [
        "from ml_metadata.metadata_store import metadata_store\n",
        "from ml_metadata.proto import metadata_store_pb2\n",
        "\n",
        "import tensorflow as tf\n",
        "print('TF version: {}'.format(tf.__version__))\n",
        "\n",
        "import tensorflow_data_validation as tfdv\n",
        "print('TFDV version: {}'.format(tfdv.version.__version__))\n",
        "\n",
        "import urllib\n",
        "import zipfile"
      ]
    },
    {
      "cell_type": "markdown",
      "source": [
        "## Download dataset\n",
        "\n",
        "You will be using the [Chicago Taxi](https://data.cityofchicago.org/Transportation/Taxi-Trips/wrvz-psew) dataset for this lab. Let's download the CSVs into your workspace."
      ],
      "metadata": {
        "id": "ORBNxrCV19fx"
      }
    },
    {
      "cell_type": "code",
      "source": [
        "# Download the zip file from GCP and unzip it \n",
        "url = 'https://storage.googleapis.com/artifacts.tfx-oss-public.appspot.com/datasets/chicago_data.zip'\n",
        "\n",
        "zip, headers = urllib.request.urlretrieve(url)\n",
        "zipfile.ZipFile(zip).extractall()\n",
        "zipfile.ZipFile(zip).close()\n",
        "\n",
        "print(\"Here's what we downloaded\")\n",
        "!ls -R data"
      ],
      "metadata": {
        "colab": {
          "base_uri": "https://localhost:8080/"
        },
        "id": "ri7py2bA0rXK",
        "outputId": "d6f4e00a-ddd9-4a88-e8b9-eda1ae16d9ae"
      },
      "execution_count": null,
      "outputs": [
        {
          "output_type": "stream",
          "name": "stdout",
          "text": [
            "Here's what we downloaded\n",
            "data:\n",
            "eval  serving  train\n",
            "\n",
            "data/eval:\n",
            "data.csv\n",
            "\n",
            "data/serving:\n",
            "data.csv\n",
            "\n",
            "data/train:\n",
            "data.csv\n"
          ]
        }
      ]
    },
    {
      "cell_type": "markdown",
      "source": [
        "## Process Outline\n",
        "\n",
        "Here is the figure shown in class that describes the different components in an ML Metadata store:\n",
        "\n",
        "<img src='img/mlmd_overview.png' alt='image of mlmd overview'>\n",
        "\n",
        "The green box in the middle shows the data model followed by ML Metadata. The [official documentation](https://www.tensorflow.org/tfx/guide/mlmd#data_model) describe each of these and we'll show it here as well for easy reference:\n",
        "\n",
        "* `ArtifactType` describes an artifact's type and its properties that are stored in the metadata store. You can register these types on-the-fly with the metadata store in code, or you can load them in the store from a serialized format. Once you register a type, its definition is available throughout the lifetime of the store.\n",
        "* An `Artifact` describes a specific instance of an ArtifactType, and its properties that are written to the metadata store.\n",
        "* An `ExecutionType` describes a type of component or step in a workflow, and its runtime parameters.\n",
        "* An `Execution` is a record of a component run or a step in an ML workflow and the runtime parameters. An execution can be thought of as an instance of an ExecutionType. Executions are recorded when you run an ML pipeline or step.\n",
        "* An `Event` is a record of the relationship between artifacts and executions. When an execution happens, events record every artifact that was used by the execution, and every artifact that was produced. These records allow for lineage tracking throughout a workflow. By looking at all events, MLMD knows what executions happened and what artifacts were created as a result. MLMD can then recurse back from any artifact to all of its upstream inputs.\n",
        "* A `ContextType` describes a type of conceptual group of artifacts and executions in a workflow, and its structural properties. For example: projects, pipeline runs, experiments, owners etc.\n",
        "* A `Context` is an instance of a ContextType. It captures the shared information within the group. For example: project name, changelist commit id, experiment annotations etc. It has a user-defined unique name within its ContextType.\n",
        "* An `Attribution` is a record of the relationship between artifacts and contexts.\n",
        "* An `Association` is a record of the relationship between executions and contexts.\n",
        "\n",
        "As mentioned earlier, you will use TFDV to generate a schema and record this process in the ML Metadata store. You will be starting from scratch so you will be defining each component of the data model. The outline of steps involve:\n",
        "\n",
        "1. Defining the ML Metadata's storage database\n",
        "1. Setting up the necessary artifact types\n",
        "1. Setting up the execution types\n",
        "1. Generating an input artifact unit\n",
        "1. Generating an execution unit\n",
        "1. Registering an input event\n",
        "1. Running the TFDV component\n",
        "1. Generating an output artifact unit\n",
        "1. Registering an output event\n",
        "1. Updating the execution unit\n",
        "1. Seting up and generating a context unit\n",
        "1. Generating attributions and associations\n",
        "\n",
        "You can then retrieve information from the database to investigate aspects of your project. For example, you can find which dataset was used to generate a particular schema. You will also do that in this exercise.\n",
        "\n",
        "For each of these steps, you may want to have the [MetadataStore API documentation](https://www.tensorflow.org/tfx/ml_metadata/api_docs/python/mlmd/MetadataStore) open so you can lookup any of the methods you will be using to interact with the metadata store. You can also look at the `metadata_store` protocol buffer [here](https://github.com/google/ml-metadata/blob/r0.24.0/ml_metadata/proto/metadata_store.proto) to see descriptions of each data type covered in this tutorial."
      ],
      "metadata": {
        "id": "tF3Mv7AK2ely"
      }
    },
    {
      "cell_type": "markdown",
      "source": [
        "## Define ML Metadata's Storage Database\n",
        "\n",
        "The first step would be to instantiate your storage backend. As mentioned in class, there are several types supported such as fake (temporary) database, SQLite, MySQL, and even cloud-based storage. For this demo, you will just be using a fake database for quick experimentation."
      ],
      "metadata": {
        "id": "9hu-7NnZ8j7L"
      }
    },
    {
      "cell_type": "code",
      "source": [
        "# Instantiate a connection config\n",
        "connection_config = metadata_store_pb2.ConnectionConfig()\n",
        "\n",
        "# Set an empty fake database proto\n",
        "connection_config.fake_database.SetInParent()\n",
        "\n",
        "# Setup the metadata store\n",
        "store = metadata_store.MetadataStore(connection_config)"
      ],
      "metadata": {
        "id": "Ys4Dfs7q2ezk"
      },
      "execution_count": null,
      "outputs": []
    },
    {
      "cell_type": "markdown",
      "source": [
        "## Register ArtifactTypes\n",
        "\n",
        "Next, you will create the artifact types needed and register them to the store. Since our simple exercise will just involve generating a schema using TFDV, you will only create two artifact types: one for the **input dataset** and another for the **output schema**. The main steps will be to:\n",
        "\n",
        "* Declare an `ArtifactType()`\n",
        "* Define the name of the artifact type\n",
        "* Define the necessary properties within these artifact types. For example, it is important to know the data split name so you may want to have a `split` property for the artifact type that holds datasets.\n",
        "* Use `put_artifact_type()` to register them to the metadata store. This generates an `id` that you can use later to refer to a particular artifact type.\n",
        "\n",
        "*Bonus: For practice, you can also extend the code below to create an artifact type for the statistics.*"
      ],
      "metadata": {
        "id": "an6PWjhM88ja"
      }
    },
    {
      "cell_type": "code",
      "source": [
        "# Create ArtifactType for the input dataset\n",
        "data_artifact_type = metadata_store_pb2.ArtifactType()\n",
        "data_artifact_type.name = 'Dataset'\n",
        "data_artifact_type.properties['name'] = metadata_store_pb2.STRING\n",
        "data_artifact_type.properties['split'] = metadata_store_pb2.STRING\n",
        "data_artifact_type.properties['version'] = metadata_store_pb2.INT\n",
        "\n",
        "# Register artifact type to the Metadata Store\n",
        "data_artifact_type_id = store.put_artifact_type(data_artifact_type)\n",
        "\n",
        "# Create ArtifactType for Schema\n",
        "schema_artifact_type = metadata_store_pb2.ArtifactType()\n",
        "schema_artifact_type.name = 'Schema'\n",
        "schema_artifact_type.properties['name'] = metadata_store_pb2.STRING\n",
        "schema_artifact_type.properties['version'] = metadata_store_pb2.INT\n",
        "\n",
        "# Register artifact type to the Metadata Store\n",
        "schema_artifact_type_id = store.put_artifact_type(schema_artifact_type)\n",
        "\n",
        "print('Data artifact type:\\n', data_artifact_type)\n",
        "print('Schema artifact type:\\n', schema_artifact_type)\n",
        "print('Data artifact type ID:', data_artifact_type_id)\n",
        "print('Schema artifact type ID:', schema_artifact_type_id)"
      ],
      "metadata": {
        "colab": {
          "base_uri": "https://localhost:8080/"
        },
        "id": "xjsgHae085R1",
        "outputId": "2170bc77-cabe-499f-b044-c7d07734dcfb"
      },
      "execution_count": null,
      "outputs": [
        {
          "output_type": "stream",
          "name": "stdout",
          "text": [
            "Data artifact type:\n",
            " name: \"Dataset\"\n",
            "properties {\n",
            "  key: \"name\"\n",
            "  value: STRING\n",
            "}\n",
            "properties {\n",
            "  key: \"split\"\n",
            "  value: STRING\n",
            "}\n",
            "properties {\n",
            "  key: \"version\"\n",
            "  value: INT\n",
            "}\n",
            "\n",
            "Schema artifact type:\n",
            " name: \"Schema\"\n",
            "properties {\n",
            "  key: \"name\"\n",
            "  value: STRING\n",
            "}\n",
            "properties {\n",
            "  key: \"version\"\n",
            "  value: INT\n",
            "}\n",
            "\n",
            "Data artifact type ID: 10\n",
            "Schema artifact type ID: 11\n"
          ]
        }
      ]
    },
    {
      "cell_type": "markdown",
      "source": [
        "## Register ExecutionType\n",
        "\n",
        "You will then create the execution types needed. For the simple setup, you will just declare one for the data validation component with a `state` property so you can record if the process is running or already completed."
      ],
      "metadata": {
        "id": "uTkGT8zPDYmF"
      }
    },
    {
      "cell_type": "code",
      "source": [
        "# Create ExecutionType for Data Validation component\n",
        "dv_execution_type = metadata_store_pb2.ExecutionType()\n",
        "dv_execution_type.name = 'Data Validation'\n",
        "dv_execution_type.properties['state'] = metadata_store_pb2.STRING\n",
        "\n",
        "# Register execution type to the Metadata Store\n",
        "dv_execution_type_id = store.put_execution_type(dv_execution_type)\n",
        "\n",
        "print('Data validation execution type:\\n', dv_execution_type)\n",
        "print('Data validation execution type ID:', dv_execution_type_id)"
      ],
      "metadata": {
        "colab": {
          "base_uri": "https://localhost:8080/"
        },
        "id": "r885wNFJDNX7",
        "outputId": "5f2d2bee-9a37-4f4c-a382-0d56a9c9468e"
      },
      "execution_count": null,
      "outputs": [
        {
          "output_type": "stream",
          "name": "stdout",
          "text": [
            "Data validation execution type:\n",
            " name: \"Data Validation\"\n",
            "properties {\n",
            "  key: \"state\"\n",
            "  value: STRING\n",
            "}\n",
            "\n",
            "Data validation execution type ID: 12\n"
          ]
        }
      ]
    },
    {
      "cell_type": "markdown",
      "source": [
        "## Generate input artifact unit\n",
        "\n",
        "With the artifact types created, you can now create instances of those types. The cell below creates the artifact for the input dataset. This artifact is recorded in the metadata store through the `put_artifacts()` function. Again, it generates an `id` that can be used for reference."
      ],
      "metadata": {
        "id": "EMmZxFtvD91K"
      }
    },
    {
      "cell_type": "code",
      "source": [
        "# Declare input artifact of type DataSet\n",
        "data_artifact = metadata_store_pb2.Artifact()\n",
        "data_artifact_uri = './data/train/data.csv'\n",
        "data_artifact.type_id = data_artifact_type_id\n",
        "data_artifact.properties['name'].string_value = 'Chicago Taxi dataset'\n",
        "data_artifact.properties['split'].string_value = 'train'\n",
        "data_artifact.properties['version'].int_value = 1\n",
        "\n",
        "# Submit input artifact to the Metadata Store\n",
        "data_artifact_id = store.put_artifacts([data_artifact])[0]\n",
        "\n",
        "print('Data artifact:\\n', data_artifact)\n",
        "print('Data artifact ID:', data_artifact_id)"
      ],
      "metadata": {
        "colab": {
          "base_uri": "https://localhost:8080/"
        },
        "id": "Kj8b6TP3D7SR",
        "outputId": "bddbd038-5ce0-4d80-e58d-1e83240d347e"
      },
      "execution_count": null,
      "outputs": [
        {
          "output_type": "stream",
          "name": "stdout",
          "text": [
            "Data artifact:\n",
            " type_id: 10\n",
            "properties {\n",
            "  key: \"name\"\n",
            "  value {\n",
            "    string_value: \"Chicago Taxi dataset\"\n",
            "  }\n",
            "}\n",
            "properties {\n",
            "  key: \"split\"\n",
            "  value {\n",
            "    string_value: \"train\"\n",
            "  }\n",
            "}\n",
            "properties {\n",
            "  key: \"version\"\n",
            "  value {\n",
            "    int_value: 1\n",
            "  }\n",
            "}\n",
            "\n",
            "Data artifact ID: 1\n"
          ]
        }
      ]
    },
    {
      "cell_type": "markdown",
      "source": [
        "## Generate execution unit\n",
        "\n",
        "Next, you will create an instance of the `Data Validation` execution type you registered earlier. You will set the state to `RUNNING` to signify that you are about to run the TFDV function. This is recorded with the `put_executions()` function."
      ],
      "metadata": {
        "id": "3sO5sVWmFFXc"
      }
    },
    {
      "cell_type": "code",
      "source": [
        "# Register the Execution of a Data Validation run\n",
        "dv_execution = metadata_store_pb2.Execution()\n",
        "dv_execution.type_id = dv_execution_type_id\n",
        "dv_execution.properties['state'].string_value = 'RUNNING'\n",
        "\n",
        "# Submit execution unit to the Metadata Store\n",
        "dv_execution_id = store.put_executions([dv_execution])[0]\n",
        "\n",
        "print('Data validation execution:\\n', dv_execution)\n",
        "print('Data validation execution ID:', dv_execution_id)"
      ],
      "metadata": {
        "colab": {
          "base_uri": "https://localhost:8080/"
        },
        "id": "GXODVz1aE1V0",
        "outputId": "68242925-0847-4fe5-aad4-b05342a9b350"
      },
      "execution_count": null,
      "outputs": [
        {
          "output_type": "stream",
          "name": "stdout",
          "text": [
            "Data validation execution:\n",
            " type_id: 12\n",
            "properties {\n",
            "  key: \"state\"\n",
            "  value {\n",
            "    string_value: \"RUNNING\"\n",
            "  }\n",
            "}\n",
            "\n",
            "Data validation execution ID: 1\n"
          ]
        }
      ]
    },
    {
      "cell_type": "markdown",
      "source": [
        "## Register input event\n",
        "\n",
        "An event defines a relationship between artifacts and executions. You will generate the input event relationship for dataset artifact and data validation execution units. The list of event types are shown [here](https://github.com/google/ml-metadata/blob/master/ml_metadata/proto/metadata_store.proto#L187) and the event is recorded with the `put_events()` function."
      ],
      "metadata": {
        "id": "5SoE1Kx4FnEs"
      }
    },
    {
      "cell_type": "code",
      "source": [
        "# Declare the input event\n",
        "input_event = metadata_store_pb2.Event()\n",
        "input_event.artifact_id = data_artifact_id\n",
        "input_event.execution_id = dv_execution_id\n",
        "input_event.type = metadata_store_pb2.Event.DECLARED_INPUT\n",
        "\n",
        "# Submit input event to the Metadata Store\n",
        "store.put_events([input_event])\n",
        "\n",
        "print('Input event:\\n', input_event)"
      ],
      "metadata": {
        "colab": {
          "base_uri": "https://localhost:8080/"
        },
        "id": "uqL9TlzTFx7m",
        "outputId": "558a8877-e0d7-4f39-a455-77cf7232d995"
      },
      "execution_count": null,
      "outputs": [
        {
          "output_type": "stream",
          "name": "stdout",
          "text": [
            "Input event:\n",
            " artifact_id: 1\n",
            "execution_id: 1\n",
            "type: DECLARED_INPUT\n",
            "\n"
          ]
        }
      ]
    },
    {
      "cell_type": "markdown",
      "source": [
        "## Run the TFDV component\n",
        "\n",
        "You will now run the TFDV component to generate the schema of dataset. This should look familiar since you've done this already in Week 1."
      ],
      "metadata": {
        "id": "UAT0zfjDGfWc"
      }
    },
    {
      "cell_type": "code",
      "source": [
        "# Infer a schema by passing statistics to 'infer_schema()'\n",
        "train_data = './data/train/data.csv'\n",
        "train_stats = tfdv.generate_statistics_from_csv(data_location=train_data)\n",
        "schema = tfdv.infer_schema(statistics=train_stats)\n",
        "\n",
        "schema_file = './schema.pbtxt'\n",
        "tfdv.write_schema_text(schema, schema_file)\n",
        "\n",
        "print(\"Dataset's schema has been generated at:\", schema_file)"
      ],
      "metadata": {
        "colab": {
          "base_uri": "https://localhost:8080/",
          "height": 158
        },
        "id": "rEZsvezSGICi",
        "outputId": "9c1fee59-091f-44f4-a437-9553face546b"
      },
      "execution_count": null,
      "outputs": [
        {
          "output_type": "stream",
          "name": "stderr",
          "text": [
            "WARNING:apache_beam.runners.interactive.interactive_environment:Dependencies required for Interactive Beam PCollection visualization are not available, please use: `pip install apache-beam[interactive]` to install necessary dependencies to enable all data visualization features.\n"
          ]
        },
        {
          "output_type": "display_data",
          "data": {
            "application/javascript": [
              "\n",
              "        if (typeof window.interactive_beam_jquery == 'undefined') {\n",
              "          var jqueryScript = document.createElement('script');\n",
              "          jqueryScript.src = 'https://code.jquery.com/jquery-3.4.1.slim.min.js';\n",
              "          jqueryScript.type = 'text/javascript';\n",
              "          jqueryScript.onload = function() {\n",
              "            var datatableScript = document.createElement('script');\n",
              "            datatableScript.src = 'https://cdn.datatables.net/1.10.20/js/jquery.dataTables.min.js';\n",
              "            datatableScript.type = 'text/javascript';\n",
              "            datatableScript.onload = function() {\n",
              "              window.interactive_beam_jquery = jQuery.noConflict(true);\n",
              "              window.interactive_beam_jquery(document).ready(function($){\n",
              "                \n",
              "              });\n",
              "            }\n",
              "            document.head.appendChild(datatableScript);\n",
              "          };\n",
              "          document.head.appendChild(jqueryScript);\n",
              "        } else {\n",
              "          window.interactive_beam_jquery(document).ready(function($){\n",
              "            \n",
              "          });\n",
              "        }"
            ]
          },
          "metadata": {}
        },
        {
          "output_type": "stream",
          "name": "stderr",
          "text": [
            "WARNING:apache_beam.io.tfrecordio:Couldn't find python-snappy so the implementation of _TFRecordUtil._masked_crc32c is not as fast as it could be.\n",
            "WARNING:tensorflow:From /usr/local/lib/python3.7/dist-packages/tensorflow_data_validation/utils/statistics_io_impl.py:91: tf_record_iterator (from tensorflow.python.lib.io.tf_record) is deprecated and will be removed in a future version.\n",
            "Instructions for updating:\n",
            "Use eager execution and: \n",
            "`tf.data.TFRecordDataset(path)`\n"
          ]
        },
        {
          "output_type": "stream",
          "name": "stdout",
          "text": [
            "Dataset's schema has been generated at: ./schema.pbtxt\n"
          ]
        }
      ]
    },
    {
      "cell_type": "markdown",
      "source": [
        "## Generate output artifact unit\n",
        "\n",
        "Now that the TFDV component has finished running and schema has been generated, you can create the artifact for the generated schema."
      ],
      "metadata": {
        "id": "Xhe63FFcG-0-"
      }
    },
    {
      "cell_type": "code",
      "source": [
        "# Declare output artifact of type Schema_artifact\n",
        "schema_artifact = metadata_store_pb2.Artifact()\n",
        "schema_artifact.uri = schema_file\n",
        "schema_artifact.type_id = schema_artifact_type_id\n",
        "schema_artifact.properties['version'].int_value = 1\n",
        "schema_artifact.properties['name'].string_value = 'Chicago Taxi Schema'\n",
        "\n",
        "# Submit output artifact to the Metadata Store\n",
        "schema_artifact_id = store.put_artifacts([schema_artifact])[0]\n",
        "\n",
        "print('Schema artifact:\\n', schema_artifact)\n",
        "print('Schema artifact ID:', schema_artifact_id)"
      ],
      "metadata": {
        "colab": {
          "base_uri": "https://localhost:8080/"
        },
        "id": "BoK-iC09G5Gq",
        "outputId": "4c1c15d5-dbaf-4768-fbe5-fd6b2fb2daa0"
      },
      "execution_count": null,
      "outputs": [
        {
          "output_type": "stream",
          "name": "stdout",
          "text": [
            "Schema artifact:\n",
            " type_id: 11\n",
            "uri: \"./schema.pbtxt\"\n",
            "properties {\n",
            "  key: \"name\"\n",
            "  value {\n",
            "    string_value: \"Chicago Taxi Schema\"\n",
            "  }\n",
            "}\n",
            "properties {\n",
            "  key: \"version\"\n",
            "  value {\n",
            "    int_value: 1\n",
            "  }\n",
            "}\n",
            "\n",
            "Schema artifact ID: 2\n"
          ]
        }
      ]
    },
    {
      "cell_type": "markdown",
      "source": [
        "## Register output event\n",
        "\n",
        "Analogous to the input event earlier, you also want to define an output event to record the ouput artifact of a particular execution unit."
      ],
      "metadata": {
        "id": "hZWdrJAzHfm9"
      }
    },
    {
      "cell_type": "code",
      "source": [
        "# Declare the output event\n",
        "output_event = metadata_store_pb2.Event()\n",
        "output_event.artifact_id = schema_artifact_id\n",
        "output_event.execution_id = dv_execution_id \n",
        "output_event.type = metadata_store_pb2.Event.DECLARED_OUTPUT\n",
        "\n",
        "# Submit output event to the Metadata Store\n",
        "store.put_events([output_event])\n",
        "\n",
        "print('Output event:\\n', output_event)"
      ],
      "metadata": {
        "colab": {
          "base_uri": "https://localhost:8080/"
        },
        "id": "Fe8xtgcgHedS",
        "outputId": "688c7a9d-1e58-4ec7-a738-454bf73aeef5"
      },
      "execution_count": null,
      "outputs": [
        {
          "output_type": "stream",
          "name": "stdout",
          "text": [
            "Output event:\n",
            " artifact_id: 2\n",
            "execution_id: 1\n",
            "type: DECLARED_OUTPUT\n",
            "\n"
          ]
        }
      ]
    },
    {
      "cell_type": "markdown",
      "source": [
        "## Update the execution unit\n",
        "\n",
        "As the TFDV component has finished running successfully, you need to update the `state` of the execution unit and record it again to the store."
      ],
      "metadata": {
        "id": "mWOb5-TNH42d"
      }
    },
    {
      "cell_type": "code",
      "source": [
        "# Mark the 'state' as 'COMPLETED'\n",
        "dv_execution.id = dv_execution_id \n",
        "dv_execution.properties['state'].string_value = 'COMPLETED'\n",
        "\n",
        "# Update execution unit in the Metadata Store\n",
        "store.put_executions([dv_execution])\n",
        "\n",
        "print('Data validation execution:\\n', dv_execution)"
      ],
      "metadata": {
        "colab": {
          "base_uri": "https://localhost:8080/"
        },
        "id": "jke4cKlCH3BF",
        "outputId": "fb744b6d-98d7-4448-decc-f6a6b27e0131"
      },
      "execution_count": null,
      "outputs": [
        {
          "output_type": "stream",
          "name": "stdout",
          "text": [
            "Data validation execution:\n",
            " id: 1\n",
            "type_id: 12\n",
            "properties {\n",
            "  key: \"state\"\n",
            "  value {\n",
            "    string_value: \"COMPLETED\"\n",
            "  }\n",
            "}\n",
            "\n"
          ]
        }
      ]
    },
    {
      "cell_type": "markdown",
      "source": [
        "## Setting up Context Types and Generating a Context Unit\n",
        "\n",
        "You can group the artifacts and execution units into a `Context`. First, you need to define a `ContextType` which defines the required context. It follows a similar format as artifact and event types. You can register this with the `put_context_type()` function."
      ],
      "metadata": {
        "id": "MFOzAiGrIM6l"
      }
    },
    {
      "cell_type": "code",
      "source": [
        "# Create a ContextType\n",
        "expt_context_type = metadata_store_pb2.ContextType()\n",
        "expt_context_type.name = 'Experiment'\n",
        "expt_context_type.properties['note'] = metadata_store_pb2.STRING\n",
        "\n",
        "# Register context type to the Metadata Store\n",
        "expt_context_type_id = store.put_context_type(expt_context_type)"
      ],
      "metadata": {
        "id": "HheNWa1wIK6B"
      },
      "execution_count": null,
      "outputs": []
    },
    {
      "cell_type": "markdown",
      "source": [
        "Similarly, you can create an instance of this context type and use the `put_contexts()` method to register to the store."
      ],
      "metadata": {
        "id": "UI22sLatIlds"
      }
    },
    {
      "cell_type": "code",
      "source": [
        "# Generate the context \n",
        "expt_context = metadata_store_pb2.Context()\n",
        "expt_context.type_id = expt_context_type_id\n",
        "# Give the experiment a name\n",
        "expt_context.name = 'Demo'\n",
        "expt_context.properties['note'].string_value = 'Walkthrough of metadata'\n",
        "\n",
        "# Submit context to the Metadata Store\n",
        "expt_context_id = store.put_contexts([expt_context])[0]\n",
        "\n",
        "print('Experiment Context type: \\n', expt_context_type)\n",
        "print('Experiment Context type ID: ', expt_context_type_id)\n",
        "\n",
        "print('Experiment Context:\\n', expt_context)\n",
        "print('Experiment Context ID ', expt_context_id)"
      ],
      "metadata": {
        "colab": {
          "base_uri": "https://localhost:8080/"
        },
        "id": "LuFAgkBCIj8H",
        "outputId": "5fb8a42f-cc49-4156-84e8-1308df690a0c"
      },
      "execution_count": null,
      "outputs": [
        {
          "output_type": "stream",
          "name": "stdout",
          "text": [
            "Experiment Context type: \n",
            " name: \"Experiment\"\n",
            "properties {\n",
            "  key: \"note\"\n",
            "  value: STRING\n",
            "}\n",
            "\n",
            "Experiment Context type ID:  13\n",
            "Experiment Context:\n",
            " type_id: 13\n",
            "name: \"Demo\"\n",
            "properties {\n",
            "  key: \"note\"\n",
            "  value {\n",
            "    string_value: \"Walkthrough of metadata\"\n",
            "  }\n",
            "}\n",
            "\n",
            "Experiment Context ID  1\n"
          ]
        }
      ]
    },
    {
      "cell_type": "markdown",
      "source": [
        "## Generate attribution and association relationships\n",
        "\n",
        "With the `Context` defined, you can now create its relationship with the artifact and executions you previously used. You will create the relationship between schema artifact unit and experiment context unit to form an `Attribution`.\n",
        "Similarly, you will create the relationship between data validation execution unit and experiment context unit to form an `Association`. These are registered with the `put_attributions_and_associations()` method."
      ],
      "metadata": {
        "id": "RRE3GD0MJYGd"
      }
    },
    {
      "cell_type": "code",
      "source": [
        "# Generate the attribution\n",
        "expt_attribution = metadata_store_pb2.Attribution()\n",
        "expt_attribution.artifact_id = schema_artifact_id \n",
        "expt_attribution.context_id = expt_context_id\n",
        "\n",
        "# Generate the association\n",
        "expt_association = metadata_store_pb2.Association()\n",
        "expt_association.execution_id = dv_execution_id\n",
        "expt_association.context_id = expt_context_id\n",
        "\n",
        "# Submit attribution adn association to the Metadata Store\n",
        "store.put_attributions_and_associations([expt_attribution], [expt_association])\n",
        "\n",
        "print('Experiment Attribution:\\n', expt_attribution)\n",
        "print('Experiment Association:\\n', expt_association)"
      ],
      "metadata": {
        "colab": {
          "base_uri": "https://localhost:8080/"
        },
        "id": "GP7M8lMbJT7a",
        "outputId": "f2fe68c6-3dc2-4af7-eec0-0a7d53154b16"
      },
      "execution_count": null,
      "outputs": [
        {
          "output_type": "stream",
          "name": "stdout",
          "text": [
            "Experiment Attribution:\n",
            " artifact_id: 2\n",
            "context_id: 1\n",
            "\n",
            "Experiment Association:\n",
            " execution_id: 1\n",
            "context_id: 1\n",
            "\n"
          ]
        }
      ]
    },
    {
      "cell_type": "markdown",
      "source": [
        "\n",
        "## Retrieving Information from the Metadata Store\n",
        "\n",
        "You've now recorded the needed information to the metadata store. If we did this in a persistent database, you can track which artifacts and events are related to each other even without seeing the code used to generate it. See a sample run below where you investigate what dataset is used to generate the schema. (**It would be obvious which dataset is used in our simple demo because we only have two artifacts registered. Thus, assume that you have thousands of entries in the metadata store.*)"
      ],
      "metadata": {
        "id": "PNQvOFQVKIT2"
      }
    },
    {
      "cell_type": "code",
      "source": [
        "# Get artifact types\n",
        "store.get_artifact_types()"
      ],
      "metadata": {
        "colab": {
          "base_uri": "https://localhost:8080/"
        },
        "id": "8zFEtUXqKEVZ",
        "outputId": "d45a7df4-c32d-46bf-f413-21c5c8dbaf10"
      },
      "execution_count": null,
      "outputs": [
        {
          "output_type": "execute_result",
          "data": {
            "text/plain": [
              "[id: 10\n",
              " name: \"Dataset\"\n",
              " properties {\n",
              "   key: \"name\"\n",
              "   value: STRING\n",
              " }\n",
              " properties {\n",
              "   key: \"split\"\n",
              "   value: STRING\n",
              " }\n",
              " properties {\n",
              "   key: \"version\"\n",
              "   value: INT\n",
              " }, id: 11\n",
              " name: \"Schema\"\n",
              " properties {\n",
              "   key: \"name\"\n",
              "   value: STRING\n",
              " }\n",
              " properties {\n",
              "   key: \"version\"\n",
              "   value: INT\n",
              " }]"
            ]
          },
          "metadata": {},
          "execution_count": 17
        }
      ]
    },
    {
      "cell_type": "code",
      "source": [
        "# Get 1st element in the list of 'Schema' artifacts\n",
        "# You will investigate which dataset was used to generate it\n",
        "schema_to_inv = store.get_artifacts_by_type('Schema')[0]\n",
        "\n",
        "# print output\n",
        "print(schema_to_inv)"
      ],
      "metadata": {
        "colab": {
          "base_uri": "https://localhost:8080/"
        },
        "id": "s1KavTEoKNnL",
        "outputId": "cd4eed9c-545a-49f9-ce05-4a89e6ba8bef"
      },
      "execution_count": null,
      "outputs": [
        {
          "output_type": "stream",
          "name": "stdout",
          "text": [
            "id: 2\n",
            "type_id: 11\n",
            "uri: \"./schema.pbtxt\"\n",
            "properties {\n",
            "  key: \"name\"\n",
            "  value {\n",
            "    string_value: \"Chicago Taxi Schema\"\n",
            "  }\n",
            "}\n",
            "properties {\n",
            "  key: \"version\"\n",
            "  value {\n",
            "    int_value: 1\n",
            "  }\n",
            "}\n",
            "create_time_since_epoch: 1665919508971\n",
            "last_update_time_since_epoch: 1665919508971\n",
            "\n"
          ]
        }
      ]
    },
    {
      "cell_type": "code",
      "source": [
        "store.get_artifacts_by_type('Schema')[0]\n"
      ],
      "metadata": {
        "id": "H735_G72jMI5"
      },
      "execution_count": null,
      "outputs": []
    },
    {
      "cell_type": "code",
      "source": [
        "# Get events related to the schema id\n",
        "schema_events = store.get_events_by_artifact_ids([schema_to_inv.id])\n",
        "\n",
        "print(schema_events)"
      ],
      "metadata": {
        "colab": {
          "base_uri": "https://localhost:8080/"
        },
        "id": "SQoU8kSmKgmC",
        "outputId": "50f75cb2-b383-4dbe-fa3e-391c4ae44b7b"
      },
      "execution_count": null,
      "outputs": [
        {
          "output_type": "stream",
          "name": "stdout",
          "text": [
            "[artifact_id: 2\n",
            "execution_id: 1\n",
            "type: DECLARED_OUTPUT\n",
            "milliseconds_since_epoch: 1665919509015\n",
            "]\n"
          ]
        }
      ]
    },
    {
      "cell_type": "markdown",
      "source": [
        "You see that it is an output of an execution so you can look up the execution id to see related artifacts."
      ],
      "metadata": {
        "id": "ny53ek0HKyHV"
      }
    },
    {
      "cell_type": "code",
      "source": [
        "# Get events related to the schema id\n",
        "schema_events = store.get_events_by_artifact_ids([schema_to_inv.id])\n",
        "\n",
        "print(schema_events)"
      ],
      "metadata": {
        "colab": {
          "base_uri": "https://localhost:8080/"
        },
        "id": "ctI23bMuK0OA",
        "outputId": "ba10ff62-4fea-48e8-a57c-53f973fae749"
      },
      "execution_count": null,
      "outputs": [
        {
          "output_type": "stream",
          "name": "stdout",
          "text": [
            "[artifact_id: 2\n",
            "execution_id: 1\n",
            "type: DECLARED_OUTPUT\n",
            "milliseconds_since_epoch: 1665919509015\n",
            "]\n"
          ]
        }
      ]
    },
    {
      "cell_type": "markdown",
      "source": [
        "You see the declared input of this execution so you can select that from the list and lookup the details of the artifact."
      ],
      "metadata": {
        "id": "-2O3bgCRKsQI"
      }
    },
    {
      "cell_type": "code",
      "source": [
        "# Get events related to the output above\n",
        "execution_events = store.get_events_by_execution_ids([schema_events[0].execution_id])\n",
        "\n",
        "print(execution_events)"
      ],
      "metadata": {
        "colab": {
          "base_uri": "https://localhost:8080/"
        },
        "id": "l6LfKLIGKqfN",
        "outputId": "dad3f003-d4e4-423d-bc15-6a9fe2a03bde"
      },
      "execution_count": null,
      "outputs": [
        {
          "output_type": "stream",
          "name": "stdout",
          "text": [
            "[artifact_id: 1\n",
            "execution_id: 1\n",
            "type: DECLARED_INPUT\n",
            "milliseconds_since_epoch: 1665919503534\n",
            ", artifact_id: 2\n",
            "execution_id: 1\n",
            "type: DECLARED_OUTPUT\n",
            "milliseconds_since_epoch: 1665919509015\n",
            "]\n"
          ]
        }
      ]
    },
    {
      "cell_type": "markdown",
      "source": [
        "You see the declared input of this execution so you can select that from the list and lookup the details of the artifact."
      ],
      "metadata": {
        "id": "l_TGdKonLK-k"
      }
    },
    {
      "cell_type": "code",
      "source": [
        "# Look up the artifact that is a declared input\n",
        "artifact_input = execution_events[0]\n",
        "\n",
        "store.get_artifacts_by_id([artifact_input.artifact_id])"
      ],
      "metadata": {
        "colab": {
          "base_uri": "https://localhost:8080/"
        },
        "id": "ODTNASxnLJmA",
        "outputId": "07aa784b-b054-4c38-b142-aba6db5803b2"
      },
      "execution_count": null,
      "outputs": [
        {
          "output_type": "execute_result",
          "data": {
            "text/plain": [
              "[id: 1\n",
              " type_id: 10\n",
              " uri: \"\"\n",
              " properties {\n",
              "   key: \"name\"\n",
              "   value {\n",
              "     string_value: \"Chicago Taxi dataset\"\n",
              "   }\n",
              " }\n",
              " properties {\n",
              "   key: \"split\"\n",
              "   value {\n",
              "     string_value: \"train\"\n",
              "   }\n",
              " }\n",
              " properties {\n",
              "   key: \"version\"\n",
              "   value {\n",
              "     int_value: 1\n",
              "   }\n",
              " }\n",
              " create_time_since_epoch: 1665919503475\n",
              " last_update_time_since_epoch: 1665919503475]"
            ]
          },
          "metadata": {},
          "execution_count": 22
        }
      ]
    },
    {
      "cell_type": "markdown",
      "source": [
        "Great! Now you've fetched the dataset artifact that was used to generate the schema. You can approach this differently and we urge you to practice using the different methods of the [MetadataStore API](https://www.tensorflow.org/tfx/ml_metadata/api_docs/python/mlmd/MetadataStore) to get more familiar with interacting with the database."
      ],
      "metadata": {
        "id": "VzTOTD99LaV9"
      }
    },
    {
      "cell_type": "markdown",
      "source": [
        "### Wrap Up\n",
        "\n",
        "In this notebook, you got to practice using ML Metadata outside of TFX. This should help you understand its inner workings so you will know better how to query ML Metadata stores or even set it up for your own use cases. TFX leverages this library to keep records of pipeline runs and you will get to see more of that in the next labs. Next up, you will review how to work with schemas and in the next notebook, you will see how it can be implemented in a TFX pipeline."
      ],
      "metadata": {
        "id": "QLWgB7BRLbpM"
      }
    },
    {
      "cell_type": "code",
      "source": [],
      "metadata": {
        "id": "Qn2NMbftLZIM"
      },
      "execution_count": null,
      "outputs": []
    }
  ]
}