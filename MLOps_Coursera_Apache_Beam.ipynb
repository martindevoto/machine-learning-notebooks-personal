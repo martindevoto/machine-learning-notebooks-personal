{
  "nbformat": 4,
  "nbformat_minor": 0,
  "metadata": {
    "colab": {
      "provenance": [],
      "authorship_tag": "ABX9TyNYbCdP4JuCN5RxT76Pj0oa",
      "include_colab_link": true
    },
    "kernelspec": {
      "name": "python3",
      "display_name": "Python 3"
    },
    "language_info": {
      "name": "python"
    }
  },
  "cells": [
    {
      "cell_type": "markdown",
      "metadata": {
        "id": "view-in-github",
        "colab_type": "text"
      },
      "source": [
        "<a href=\"https://colab.research.google.com/github/martindevoto/machine-learning-notebooks-personal/blob/main/MLOps_Coursera_Apache_Beam.ipynb\" target=\"_parent\"><img src=\"https://colab.research.google.com/assets/colab-badge.svg\" alt=\"Open In Colab\"/></a>"
      ]
    },
    {
      "cell_type": "markdown",
      "source": [
        "# Try Apache Beam - Python\n",
        "\n",
        "In this notebook, we set up your development environment and work through a simple example using the [DirectRunner](https://beam.apache.org/documentation/runners/direct/). You can explore other runners with the [Beam Capatibility Matrix](https://beam.apache.org/documentation/runners/capability-matrix/).\n",
        "\n",
        "To navigate through different sections, use the table of contents. From **View**  drop-down list, select **Table of contents**.\n",
        "\n",
        "To run a code cell, you can click the **Run cell** button at the top left of the cell, or by select it and press **`Shift+Enter`**. Try modifying a code cell and re-running it to see what happens.\n",
        "\n",
        "To learn more about Colab, see [Welcome to Colaboratory!](https://colab.sandbox.google.com/notebooks/welcome.ipynb)."
      ],
      "metadata": {
        "id": "84XkbLsd2KlB"
      }
    },
    {
      "cell_type": "markdown",
      "source": [
        "# Setup\n",
        "\n",
        "First, you need to set up your environment, which includes installing `apache-beam` and downloading a text file from Cloud Storage to your local file system. We are using this file to test your pipeline."
      ],
      "metadata": {
        "id": "3KLh16kK2M7Q"
      }
    },
    {
      "cell_type": "code",
      "execution_count": null,
      "metadata": {
        "colab": {
          "base_uri": "https://localhost:8080/"
        },
        "id": "25qdj4sM2GSX",
        "outputId": "6f3525e2-9336-4232-f5d1-a3a0e76f8615"
      },
      "outputs": [
        {
          "output_type": "stream",
          "name": "stdout",
          "text": [
            " >> pip install --quiet apache-beam\n",
            "\u001b[K     |████████████████████████████████| 11.0 MB 32.8 MB/s \n",
            "\u001b[K     |████████████████████████████████| 151 kB 76.2 MB/s \n",
            "\u001b[K     |████████████████████████████████| 506 kB 62.1 MB/s \n",
            "\u001b[K     |████████████████████████████████| 2.5 MB 83.1 MB/s \n",
            "\u001b[K     |████████████████████████████████| 272 kB 14.5 MB/s \n",
            "\u001b[K     |████████████████████████████████| 47 kB 4.4 MB/s \n",
            "\u001b[K     |████████████████████████████████| 62 kB 1.4 MB/s \n",
            "\u001b[K     |████████████████████████████████| 2.4 MB 60.0 MB/s \n",
            "\u001b[K     |████████████████████████████████| 1.0 MB 69.4 MB/s \n",
            "\u001b[?25h  Building wheel for dill (setup.py) ... \u001b[?25l\u001b[?25hdone\n",
            "  Building wheel for docopt (setup.py) ... \u001b[?25l\u001b[?25hdone\n",
            "\u001b[31mERROR: pip's dependency resolver does not currently take into account all the packages that are installed. This behaviour is the source of the following dependency conflicts.\n",
            "tensorflow 2.9.2 requires protobuf<3.20,>=3.9.2, but you have protobuf 3.20.3 which is incompatible.\n",
            "tensorboard 2.9.1 requires protobuf<3.20,>=3.9.2, but you have protobuf 3.20.3 which is incompatible.\u001b[0m\n",
            "\n",
            " >> mkdir -p data\n",
            "\n",
            " >> gsutil cp gs://dataflow-samples/shakespeare/kinglear.txt data/\n",
            "Copying gs://dataflow-samples/shakespeare/kinglear.txt...\n",
            "/ [1 files][153.6 KiB/153.6 KiB]                                                \n",
            "Operation completed over 1 objects/153.6 KiB.                                    \n",
            "\n"
          ]
        }
      ],
      "source": [
        "# Run and print a shell command\n",
        "def run(cmd):\n",
        "    print(f\" >> {cmd}\")\n",
        "    !{cmd}\n",
        "    print('')\n",
        "\n",
        "# Install apache-beam\n",
        "run('pip install --quiet apache-beam')\n",
        "\n",
        "# Copy the input file into the local file system\n",
        "run('mkdir -p data')\n",
        "run('gsutil cp gs://dataflow-samples/shakespeare/kinglear.txt data/')"
      ]
    },
    {
      "cell_type": "markdown",
      "source": [
        "# Minimal word count\n",
        "\n",
        "The following example is the \"Hello, World!\" of data processing, a basic implementation of word count. We're creating a simple data processing pipeline that reads a text file and counts the number of occurrences of every word.\n",
        "\n",
        "There are many scenarios where all the data does not fit in memory. Notice that the outputs of the pipeline go to the file system, which allows for large processing jobs in distributed environments."
      ],
      "metadata": {
        "id": "ASGIfQx720Rx"
      }
    },
    {
      "cell_type": "code",
      "source": [
        "import apache_beam as beam\n",
        "import re\n",
        "\n",
        "inputs_pattern = 'data/*'\n",
        "outputs_prefix = 'outputs/part'\n",
        "\n",
        "# Running locally in the DirectRunner\n",
        "with beam.Pipeline() as pipeline:\n",
        "    (\n",
        "        pipeline\n",
        "        | 'Read lines' >> beam.io.ReadFromText(inputs_pattern)\n",
        "        | 'Find words' >> beam.FlatMap(lambda line: re.findall(r\"[a-zA-Z']+\", line))\n",
        "        | 'Pair words with 1' >> beam.Map(lambda word: (word, 1))\n",
        "        | 'Group and sum' >> beam.CombinePerKey(sum)\n",
        "        | 'Format results' >> beam.Map(lambda word_count: str(word_count))\n",
        "        | 'Write results' >> beam.io.WriteToText(outputs_prefix)\n",
        "    )\n",
        "\n",
        "# Sample the first 20 results, remember there are no ordering guarantees.\n",
        "run(f'head -n 20 {outputs_prefix}-00000-of-*')"
      ],
      "metadata": {
        "colab": {
          "base_uri": "https://localhost:8080/"
        },
        "id": "K_EksrjR2vg_",
        "outputId": "792c94d6-a81a-4c92-e2e8-fc50b1a31cfe"
      },
      "execution_count": null,
      "outputs": [
        {
          "output_type": "stream",
          "name": "stderr",
          "text": [
            "WARNING:apache_beam.io.filebasedsink:Deleting 1 existing files in target path matching: -*-of-%(num_shards)05d\n"
          ]
        },
        {
          "output_type": "stream",
          "name": "stdout",
          "text": [
            " >> head -n 20 outputs/part-00000-of-*\n",
            "('KING', 243)\n",
            "('LEAR', 236)\n",
            "('DRAMATIS', 1)\n",
            "('PERSONAE', 1)\n",
            "('king', 65)\n",
            "('of', 447)\n",
            "('Britain', 2)\n",
            "('OF', 15)\n",
            "('FRANCE', 10)\n",
            "('DUKE', 3)\n",
            "('BURGUNDY', 8)\n",
            "('CORNWALL', 63)\n",
            "('ALBANY', 67)\n",
            "('EARL', 2)\n",
            "('KENT', 156)\n",
            "('GLOUCESTER', 141)\n",
            "('EDGAR', 126)\n",
            "('son', 29)\n",
            "('to', 438)\n",
            "('Gloucester', 26)\n",
            "\n"
          ]
        }
      ]
    },
    {
      "cell_type": "markdown",
      "source": [
        "# Word count with comments\n",
        "\n",
        "Below is mostly the same code as above, but with comments explaining every line in more detail."
      ],
      "metadata": {
        "id": "BdMa0T4q5dJA"
      }
    },
    {
      "cell_type": "code",
      "source": [
        "import apache_beam as beam\n",
        "import re\n",
        "\n",
        "inputs_pattern = 'data/*'\n",
        "outputs_prefix = 'outputs/part'\n",
        "\n",
        "# Running locally in the DirectRunner.\n",
        "with beam.Pipeline() as pipeline:\n",
        "  # Store the word counts in a PCollection.\n",
        "  # Each element is a tuple of (word, count) of types (str, int).\n",
        "  word_counts = (\n",
        "      # The input PCollection is an empty pipeline.\n",
        "      pipeline\n",
        "\n",
        "      # Read lines from a text file.\n",
        "      | 'Read lines' >> beam.io.ReadFromText(inputs_pattern)\n",
        "      # Element type: str - text line\n",
        "\n",
        "      # Use a regular expression to iterate over all words in the line.\n",
        "      # FlatMap will yield an element for every element in an iterable.\n",
        "      | 'Find words' >> beam.FlatMap(lambda line: re.findall(r\"[a-zA-Z']+\", line))\n",
        "      # Element type: str - word\n",
        "\n",
        "      # Create key-value pairs where the value is 1, this way we can group by\n",
        "      # the same word while adding those 1s and get the counts for every word.\n",
        "      | 'Pair words with 1' >> beam.Map(lambda word: (word, 1))\n",
        "      # Element type: (str, int) - key: word, value: 1\n",
        "\n",
        "      # Group by key while combining the value using the sum() function.\n",
        "      | 'Group and sum' >> beam.CombinePerKey(sum)\n",
        "      # Element type: (str, int) - key: word, value: counts\n",
        "  )\n",
        "\n",
        "  # We can process a PCollection through other pipelines too.\n",
        "  (\n",
        "      # The input PCollection is the word_counts created from the previous step.\n",
        "      word_counts\n",
        "\n",
        "      # Format the results into a string so we can write them to a file.\n",
        "      | 'Format results' >> beam.Map(lambda word_count: str(word_count))\n",
        "      # Element type: str - text line\n",
        "\n",
        "      # Finally, write the results to a file.\n",
        "      | 'Write results' >> beam.io.WriteToText(outputs_prefix)\n",
        "  )\n",
        "\n",
        "# Sample the first 20 results, remember there are no ordering guarantees.\n",
        "run('head -n 20 {}-00000-of-*'.format(outputs_prefix))"
      ],
      "metadata": {
        "colab": {
          "base_uri": "https://localhost:8080/"
        },
        "id": "yP50y1io5N-b",
        "outputId": "6ec78f52-8534-4a52-8853-c169d521d07d"
      },
      "execution_count": null,
      "outputs": [
        {
          "output_type": "stream",
          "name": "stderr",
          "text": [
            "WARNING:apache_beam.io.filebasedsink:Deleting 1 existing files in target path matching: -*-of-%(num_shards)05d\n"
          ]
        },
        {
          "output_type": "stream",
          "name": "stdout",
          "text": [
            " >> head -n 20 outputs/part-00000-of-*\n",
            "('KING', 243)\n",
            "('LEAR', 236)\n",
            "('DRAMATIS', 1)\n",
            "('PERSONAE', 1)\n",
            "('king', 65)\n",
            "('of', 447)\n",
            "('Britain', 2)\n",
            "('OF', 15)\n",
            "('FRANCE', 10)\n",
            "('DUKE', 3)\n",
            "('BURGUNDY', 8)\n",
            "('CORNWALL', 63)\n",
            "('ALBANY', 67)\n",
            "('EARL', 2)\n",
            "('KENT', 156)\n",
            "('GLOUCESTER', 141)\n",
            "('EDGAR', 126)\n",
            "('son', 29)\n",
            "('to', 438)\n",
            "('Gloucester', 26)\n",
            "\n"
          ]
        }
      ]
    },
    {
      "cell_type": "code",
      "source": [],
      "metadata": {
        "id": "E0YAvDym5kwl"
      },
      "execution_count": null,
      "outputs": []
    }
  ]
}