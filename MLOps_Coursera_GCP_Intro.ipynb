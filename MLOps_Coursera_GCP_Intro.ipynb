{
  "cells": [
    {
      "cell_type": "markdown",
      "metadata": {
        "id": "view-in-github",
        "colab_type": "text"
      },
      "source": [
        "<a href=\"https://colab.research.google.com/github/martindevoto/machine-learning-notebooks-personal/blob/main/MLOps_Coursera_GCP_Intro.ipynb\" target=\"_parent\"><img src=\"https://colab.research.google.com/assets/colab-badge.svg\" alt=\"Open In Colab\"/></a>"
      ]
    },
    {
      "cell_type": "code",
      "execution_count": null,
      "id": "fcbb1dd4-a97a-40d1-b9bc-f4714e265e76",
      "metadata": {
        "id": "fcbb1dd4-a97a-40d1-b9bc-f4714e265e76"
      },
      "outputs": [],
      "source": [
        "import pandas as pd\n",
        "import xgboost as xgb\n",
        "import numpy as np\n",
        "\n",
        "from sklearn.model_selection import train_test_split\n",
        "from sklearn.utils import shuffle\n",
        "from google.cloud import bigquery"
      ]
    },
    {
      "cell_type": "code",
      "execution_count": null,
      "id": "b41e63b8-51f5-495e-a95b-c5458b3076a2",
      "metadata": {
        "id": "b41e63b8-51f5-495e-a95b-c5458b3076a2",
        "outputId": "904d2e78-e804-4836-e11a-10a59509ae5c"
      },
      "outputs": [
        {
          "data": {
            "text/html": [
              "<div>\n",
              "<style scoped>\n",
              "    .dataframe tbody tr th:only-of-type {\n",
              "        vertical-align: middle;\n",
              "    }\n",
              "\n",
              "    .dataframe tbody tr th {\n",
              "        vertical-align: top;\n",
              "    }\n",
              "\n",
              "    .dataframe thead th {\n",
              "        text-align: right;\n",
              "    }\n",
              "</style>\n",
              "<table border=\"1\" class=\"dataframe\">\n",
              "  <thead>\n",
              "    <tr style=\"text-align: right;\">\n",
              "      <th></th>\n",
              "      <th>weight_pounds</th>\n",
              "      <th>is_male</th>\n",
              "      <th>mother_age</th>\n",
              "      <th>plurality</th>\n",
              "      <th>gestation_weeks</th>\n",
              "    </tr>\n",
              "  </thead>\n",
              "  <tbody>\n",
              "    <tr>\n",
              "      <th>0</th>\n",
              "      <td>9.312326</td>\n",
              "      <td>False</td>\n",
              "      <td>28</td>\n",
              "      <td>1</td>\n",
              "      <td>40.0</td>\n",
              "    </tr>\n",
              "    <tr>\n",
              "      <th>1</th>\n",
              "      <td>7.749249</td>\n",
              "      <td>True</td>\n",
              "      <td>30</td>\n",
              "      <td>1</td>\n",
              "      <td>40.0</td>\n",
              "    </tr>\n",
              "    <tr>\n",
              "      <th>2</th>\n",
              "      <td>7.394304</td>\n",
              "      <td>True</td>\n",
              "      <td>27</td>\n",
              "      <td>1</td>\n",
              "      <td>39.0</td>\n",
              "    </tr>\n",
              "    <tr>\n",
              "      <th>3</th>\n",
              "      <td>6.750554</td>\n",
              "      <td>False</td>\n",
              "      <td>40</td>\n",
              "      <td>1</td>\n",
              "      <td>41.0</td>\n",
              "    </tr>\n",
              "    <tr>\n",
              "      <th>4</th>\n",
              "      <td>8.377566</td>\n",
              "      <td>True</td>\n",
              "      <td>24</td>\n",
              "      <td>1</td>\n",
              "      <td>38.0</td>\n",
              "    </tr>\n",
              "  </tbody>\n",
              "</table>\n",
              "</div>"
            ],
            "text/plain": [
              "   weight_pounds  is_male  mother_age  plurality  gestation_weeks\n",
              "0       9.312326    False          28          1             40.0\n",
              "1       7.749249     True          30          1             40.0\n",
              "2       7.394304     True          27          1             39.0\n",
              "3       6.750554    False          40          1             41.0\n",
              "4       8.377566     True          24          1             38.0"
            ]
          },
          "execution_count": 2,
          "metadata": {},
          "output_type": "execute_result"
        }
      ],
      "source": [
        "query = \"\"\"\n",
        "SELECT\n",
        "    weight_pounds,\n",
        "    is_male,\n",
        "    mother_age,\n",
        "    plurality,\n",
        "    gestation_weeks\n",
        "FROM\n",
        "    publicdata.samples.natality\n",
        "WHERE year > 2000\n",
        "LIMIT 10000\n",
        "\"\"\"\n",
        "\n",
        "df = bigquery.Client().query(query).to_dataframe()\n",
        "df.head()"
      ]
    },
    {
      "cell_type": "code",
      "execution_count": null,
      "id": "3c226ea4-1ba3-437a-894e-3fc8f3213e15",
      "metadata": {
        "id": "3c226ea4-1ba3-437a-894e-3fc8f3213e15",
        "outputId": "137af1ce-7f19-4087-95c1-429df55808fc"
      },
      "outputs": [
        {
          "data": {
            "text/html": [
              "<div>\n",
              "<style scoped>\n",
              "    .dataframe tbody tr th:only-of-type {\n",
              "        vertical-align: middle;\n",
              "    }\n",
              "\n",
              "    .dataframe tbody tr th {\n",
              "        vertical-align: top;\n",
              "    }\n",
              "\n",
              "    .dataframe thead th {\n",
              "        text-align: right;\n",
              "    }\n",
              "</style>\n",
              "<table border=\"1\" class=\"dataframe\">\n",
              "  <thead>\n",
              "    <tr style=\"text-align: right;\">\n",
              "      <th></th>\n",
              "      <th>weight_pounds</th>\n",
              "      <th>mother_age</th>\n",
              "      <th>plurality</th>\n",
              "      <th>gestation_weeks</th>\n",
              "    </tr>\n",
              "  </thead>\n",
              "  <tbody>\n",
              "    <tr>\n",
              "      <th>count</th>\n",
              "      <td>9984.000000</td>\n",
              "      <td>10000.000000</td>\n",
              "      <td>10000.000000</td>\n",
              "      <td>9935.000000</td>\n",
              "    </tr>\n",
              "    <tr>\n",
              "      <th>mean</th>\n",
              "      <td>7.207753</td>\n",
              "      <td>27.394900</td>\n",
              "      <td>1.032900</td>\n",
              "      <td>38.545848</td>\n",
              "    </tr>\n",
              "    <tr>\n",
              "      <th>std</th>\n",
              "      <td>1.325683</td>\n",
              "      <td>6.142551</td>\n",
              "      <td>0.187673</td>\n",
              "      <td>2.561521</td>\n",
              "    </tr>\n",
              "    <tr>\n",
              "      <th>min</th>\n",
              "      <td>0.639341</td>\n",
              "      <td>13.000000</td>\n",
              "      <td>1.000000</td>\n",
              "      <td>17.000000</td>\n",
              "    </tr>\n",
              "    <tr>\n",
              "      <th>25%</th>\n",
              "      <td>6.563162</td>\n",
              "      <td>23.000000</td>\n",
              "      <td>1.000000</td>\n",
              "      <td>38.000000</td>\n",
              "    </tr>\n",
              "    <tr>\n",
              "      <th>50%</th>\n",
              "      <td>7.312733</td>\n",
              "      <td>27.000000</td>\n",
              "      <td>1.000000</td>\n",
              "      <td>39.000000</td>\n",
              "    </tr>\n",
              "    <tr>\n",
              "      <th>75%</th>\n",
              "      <td>8.035849</td>\n",
              "      <td>32.000000</td>\n",
              "      <td>1.000000</td>\n",
              "      <td>40.000000</td>\n",
              "    </tr>\n",
              "    <tr>\n",
              "      <th>max</th>\n",
              "      <td>12.500210</td>\n",
              "      <td>47.000000</td>\n",
              "      <td>4.000000</td>\n",
              "      <td>47.000000</td>\n",
              "    </tr>\n",
              "  </tbody>\n",
              "</table>\n",
              "</div>"
            ],
            "text/plain": [
              "       weight_pounds    mother_age     plurality  gestation_weeks\n",
              "count    9984.000000  10000.000000  10000.000000      9935.000000\n",
              "mean        7.207753     27.394900      1.032900        38.545848\n",
              "std         1.325683      6.142551      0.187673         2.561521\n",
              "min         0.639341     13.000000      1.000000        17.000000\n",
              "25%         6.563162     23.000000      1.000000        38.000000\n",
              "50%         7.312733     27.000000      1.000000        39.000000\n",
              "75%         8.035849     32.000000      1.000000        40.000000\n",
              "max        12.500210     47.000000      4.000000        47.000000"
            ]
          },
          "execution_count": 3,
          "metadata": {},
          "output_type": "execute_result"
        }
      ],
      "source": [
        "df.describe()"
      ]
    },
    {
      "cell_type": "code",
      "execution_count": null,
      "id": "122291d7-d5e8-4b07-978a-8de72801cb6d",
      "metadata": {
        "id": "122291d7-d5e8-4b07-978a-8de72801cb6d",
        "outputId": "81a76608-94ea-4913-8107-6b360ece6f85"
      },
      "outputs": [
        {
          "data": {
            "text/plain": [
              "True     5129\n",
              "False    4871\n",
              "Name: is_male, dtype: int64"
            ]
          },
          "execution_count": 4,
          "metadata": {},
          "output_type": "execute_result"
        }
      ],
      "source": [
        "df['is_male'].value_counts()"
      ]
    },
    {
      "cell_type": "code",
      "execution_count": null,
      "id": "82619b19-36b5-484b-a345-7931cd5432f3",
      "metadata": {
        "id": "82619b19-36b5-484b-a345-7931cd5432f3"
      },
      "outputs": [],
      "source": [
        "df = df.dropna()\n",
        "df = shuffle(df, random_state=2)"
      ]
    },
    {
      "cell_type": "code",
      "execution_count": null,
      "id": "9f96a355-7df5-49a3-9d97-ccc89be30f91",
      "metadata": {
        "id": "9f96a355-7df5-49a3-9d97-ccc89be30f91"
      },
      "outputs": [],
      "source": [
        "labels = df['weight_pounds']\n",
        "data = df.drop(columns=['weight_pounds'])"
      ]
    },
    {
      "cell_type": "code",
      "execution_count": null,
      "id": "3d6b3c9f-3113-4865-9e0a-b084e462bef4",
      "metadata": {
        "id": "3d6b3c9f-3113-4865-9e0a-b084e462bef4"
      },
      "outputs": [],
      "source": [
        "df['is_male'] = df['is_male'].astype(int)"
      ]
    },
    {
      "cell_type": "code",
      "execution_count": null,
      "id": "cf610ada-5b2f-4300-bc1b-637bb9a2e717",
      "metadata": {
        "id": "cf610ada-5b2f-4300-bc1b-637bb9a2e717"
      },
      "outputs": [],
      "source": [
        "x, y = data, labels\n",
        "x_train, x_test, y_train, y_test = train_test_split(x, y)"
      ]
    },
    {
      "cell_type": "code",
      "execution_count": null,
      "id": "3f404d48-4502-4bc5-98ae-57d293ac77b9",
      "metadata": {
        "id": "3f404d48-4502-4bc5-98ae-57d293ac77b9"
      },
      "outputs": [],
      "source": [
        "model = xgb.XGBRegressor(\n",
        "    objective='reg:squarederror')"
      ]
    },
    {
      "cell_type": "code",
      "execution_count": null,
      "id": "1eb04e33-acae-4963-a255-e53860766265",
      "metadata": {
        "id": "1eb04e33-acae-4963-a255-e53860766265",
        "outputId": "bbc33f6a-d067-4e53-9df3-a3b00538976e"
      },
      "outputs": [
        {
          "data": {
            "text/plain": [
              "XGBRegressor(base_score=0.5, booster='gbtree', colsample_bylevel=1,\n",
              "             colsample_bynode=1, colsample_bytree=1, gamma=0, gpu_id=-1,\n",
              "             importance_type='gain', interaction_constraints='',\n",
              "             learning_rate=0.300000012, max_delta_step=0, max_depth=6,\n",
              "             min_child_weight=1, missing=nan, monotone_constraints='()',\n",
              "             n_estimators=100, n_jobs=4, num_parallel_tree=1, random_state=0,\n",
              "             reg_alpha=0, reg_lambda=1, scale_pos_weight=1, subsample=1,\n",
              "             tree_method='exact', validate_parameters=1, verbosity=None)"
            ]
          },
          "execution_count": 10,
          "metadata": {},
          "output_type": "execute_result"
        }
      ],
      "source": [
        "model.fit(x_train, y_train)"
      ]
    },
    {
      "cell_type": "code",
      "execution_count": null,
      "id": "f96c3696-166f-494b-b9e2-a3598dc14f9a",
      "metadata": {
        "id": "f96c3696-166f-494b-b9e2-a3598dc14f9a"
      },
      "outputs": [],
      "source": [
        "y_pred = model.predict(x_test)"
      ]
    },
    {
      "cell_type": "code",
      "execution_count": null,
      "id": "8c2fbec1-f88e-4aa5-b8dc-b258588be7ef",
      "metadata": {
        "id": "8c2fbec1-f88e-4aa5-b8dc-b258588be7ef",
        "outputId": "5eb71326-dbef-4238-b76a-ab3b1ed009bf"
      },
      "outputs": [
        {
          "name": "stdout",
          "output_type": "stream",
          "text": [
            "Predicted weight: 7.7191009521484375\n",
            "Actual weight: 6.1068046574\n",
            "\n",
            "Predicted weight: 1.934630274772644\n",
            "Actual weight: 8.40181680482\n",
            "\n",
            "Predicted weight: 7.021804332733154\n",
            "Actual weight: 6.56316153974\n",
            "\n",
            "Predicted weight: 8.182778358459473\n",
            "Actual weight: 7.12534030784\n",
            "\n",
            "Predicted weight: 7.1645941734313965\n",
            "Actual weight: 8.9728140634\n",
            "\n",
            "Predicted weight: 6.906790256500244\n",
            "Actual weight: 6.8122838958\n",
            "\n",
            "Predicted weight: 7.341507434844971\n",
            "Actual weight: 8.4326815215\n",
            "\n",
            "Predicted weight: 8.147192001342773\n",
            "Actual weight: 7.5618555866\n",
            "\n",
            "Predicted weight: 7.095052719116211\n",
            "Actual weight: 6.8784225744\n",
            "\n",
            "Predicted weight: 7.8326263427734375\n",
            "Actual weight: 7.68751907594\n",
            "\n",
            "Predicted weight: 5.706501483917236\n",
            "Actual weight: 7.43839671988\n",
            "\n",
            "Predicted weight: 1.3365039825439453\n",
            "Actual weight: 3.0622208191799998\n",
            "\n",
            "Predicted weight: 7.176836967468262\n",
            "Actual weight: 8.21442388212\n",
            "\n",
            "Predicted weight: 7.5810627937316895\n",
            "Actual weight: 8.9948602896\n",
            "\n",
            "Predicted weight: 7.490711688995361\n",
            "Actual weight: 7.5618555866\n",
            "\n",
            "Predicted weight: 7.541578769683838\n",
            "Actual weight: 7.62578964258\n",
            "\n",
            "Predicted weight: 7.680228233337402\n",
            "Actual weight: 7.81318256528\n",
            "\n",
            "Predicted weight: 7.392933368682861\n",
            "Actual weight: 7.165023515\n",
            "\n",
            "Predicted weight: 6.728212356567383\n",
            "Actual weight: 8.6310975573\n",
            "\n",
            "Predicted weight: 7.528482913970947\n",
            "Actual weight: 6.75055446244\n",
            "\n"
          ]
        }
      ],
      "source": [
        "for i in range(20):\n",
        "    print(f\"Predicted weight: {y_pred[i]}\")\n",
        "    print(f\"Actual weight: {y_test.iloc[i]}\")\n",
        "    print()"
      ]
    },
    {
      "cell_type": "code",
      "execution_count": null,
      "id": "e5cf7d19-834d-427a-9079-8873051c7a5f",
      "metadata": {
        "id": "e5cf7d19-834d-427a-9079-8873051c7a5f"
      },
      "outputs": [],
      "source": [
        "model.save_model('model.bst')"
      ]
    },
    {
      "cell_type": "code",
      "execution_count": null,
      "id": "110a52ab-4ccd-40ba-9965-66fd13984d41",
      "metadata": {
        "id": "110a52ab-4ccd-40ba-9965-66fd13984d41",
        "outputId": "bf957222-8420-4096-e2bf-0550fa4f6e1c"
      },
      "outputs": [
        {
          "name": "stdout",
          "output_type": "stream",
          "text": [
            "vocal-nova-367515\n"
          ]
        }
      ],
      "source": [
        "!gcloud config list project --format \"value(core.project)\""
      ]
    },
    {
      "cell_type": "code",
      "execution_count": null,
      "id": "e75736ac-f866-40dd-9d3d-373c6ea3a291",
      "metadata": {
        "id": "e75736ac-f866-40dd-9d3d-373c6ea3a291"
      },
      "outputs": [],
      "source": [
        "# Update these to your own GCP project, model, and version names\n",
        "GCP_PROJECT = 'vocal-nova-367515'\n",
        "MODEL_BUCKET = f\"gs://{GCP_PROJECT}\"\n",
        "VERSION_NAME = 'v1'\n",
        "MODEL_NAME = 'baby_weight'"
      ]
    },
    {
      "cell_type": "code",
      "execution_count": null,
      "id": "0424fbbe-322b-4d65-afb5-8fc39044ebf5",
      "metadata": {
        "id": "0424fbbe-322b-4d65-afb5-8fc39044ebf5",
        "outputId": "98e1ba0b-7384-45eb-98c1-0b1b80234574"
      },
      "outputs": [
        {
          "name": "stdout",
          "output_type": "stream",
          "text": [
            "Creating gs://vocal-nova-367515/...\n"
          ]
        }
      ],
      "source": [
        "!gsutil mb $MODEL_BUCKET\n",
        "\n",
        "# !gsustil google store utility make bucket"
      ]
    },
    {
      "cell_type": "code",
      "execution_count": null,
      "id": "698dbbd4-5323-42a7-a440-0ffc3227e4ba",
      "metadata": {
        "id": "698dbbd4-5323-42a7-a440-0ffc3227e4ba",
        "outputId": "133b67cd-ee60-4e27-f38a-85e8e449978c"
      },
      "outputs": [
        {
          "name": "stdout",
          "output_type": "stream",
          "text": [
            "Copying file://./model.bst [Content-Type=application/octet-stream]...\n",
            "/ [1 files][300.6 KiB/300.6 KiB]                                                \n",
            "Operation completed over 1 objects/300.6 KiB.                                    \n"
          ]
        }
      ],
      "source": [
        "!gsutil cp ./model.bst $MODEL_BUCKET\n",
        "# google store util copy project file destination"
      ]
    },
    {
      "cell_type": "code",
      "execution_count": null,
      "id": "da3c6249-2581-4961-a408-33a9c21ebba2",
      "metadata": {
        "id": "da3c6249-2581-4961-a408-33a9c21ebba2",
        "outputId": "62eebb39-88ca-48f3-a29d-3f75b5438175"
      },
      "outputs": [
        {
          "name": "stdout",
          "output_type": "stream",
          "text": [
            "Using endpoint [https://us-central1-ml.googleapis.com/]\n",
            "Created ai platform model [projects/vocal-nova-367515/models/baby_weight].\n"
          ]
        }
      ],
      "source": [
        "!gcloud ai-platform models create $MODEL_NAME --region=us-central1"
      ]
    },
    {
      "cell_type": "code",
      "execution_count": null,
      "id": "a9281170-ffa0-4d2c-85fd-754a0c906378",
      "metadata": {
        "id": "a9281170-ffa0-4d2c-85fd-754a0c906378",
        "outputId": "aecc374b-99e9-40f2-fcdb-40e5a680e353"
      },
      "outputs": [
        {
          "name": "stdout",
          "output_type": "stream",
          "text": [
            "Using endpoint [https://us-central1-ml.googleapis.com/]\n",
            "Creating version (this might take a few minutes)......done.                    \n"
          ]
        }
      ],
      "source": [
        "!gcloud ai-platform versions create $VERSION_NAME \\\n",
        "--model=$MODEL_NAME \\\n",
        "--framework='XGBOOST' \\\n",
        "--runtime-version=2.5 \\\n",
        "--origin=$MODEL_BUCKET \\\n",
        "--python-version=3.7 \\\n",
        "--project=$GCP_PROJECT \\\n",
        "--region=us-central1\n",
        "\n",
        "# model name, framework, runtime, origin locaiton, python version, project, \n",
        "# region"
      ]
    },
    {
      "cell_type": "code",
      "execution_count": null,
      "id": "ebbc27d1-b32d-4612-9563-2815256616ac",
      "metadata": {
        "id": "ebbc27d1-b32d-4612-9563-2815256616ac",
        "outputId": "ff782516-ce93-4509-94b4-d32fc268f86e"
      },
      "outputs": [
        {
          "name": "stdout",
          "output_type": "stream",
          "text": [
            "Writing predictions.json\n"
          ]
        }
      ],
      "source": [
        "%%writefile predictions.json\n",
        "[0.0, 33.0, 1.0, 27.0]\n",
        "[1.0, 26.0, 1.0, 40.0]"
      ]
    },
    {
      "cell_type": "code",
      "execution_count": null,
      "id": "3df5c395-1a2e-4c05-aa5f-028fcba06c85",
      "metadata": {
        "id": "3df5c395-1a2e-4c05-aa5f-028fcba06c85"
      },
      "outputs": [],
      "source": [
        "prediction = !gcloud ai-platform predict \\\n",
        "--model=$MODEL_NAME \\\n",
        "--json-instances=predictions.json \\\n",
        "--version=$VERSION_NAME"
      ]
    },
    {
      "cell_type": "code",
      "execution_count": null,
      "id": "4fc5ebea-e08a-425c-830a-9a847a7fa325",
      "metadata": {
        "id": "4fc5ebea-e08a-425c-830a-9a847a7fa325",
        "outputId": "78f846ec-3c69-45a3-faf9-2c012cc418e5"
      },
      "outputs": [
        {
          "name": "stdout",
          "output_type": "stream",
          "text": [
            "Using endpoint [https://us-central1-ml.googleapis.com/] [6.50042724609375, 7.785537242889404]\n"
          ]
        }
      ],
      "source": [
        "print(prediction.s)"
      ]
    },
    {
      "cell_type": "code",
      "execution_count": null,
      "id": "fd371376-d047-4b6c-ab8a-7c24274a5a22",
      "metadata": {
        "id": "fd371376-d047-4b6c-ab8a-7c24274a5a22"
      },
      "outputs": [],
      "source": []
    }
  ],
  "metadata": {
    "environment": {
      "kernel": "python3",
      "name": "common-cpu.m99",
      "type": "gcloud",
      "uri": "gcr.io/deeplearning-platform-release/base-cpu:m99"
    },
    "kernelspec": {
      "display_name": "Python 3",
      "language": "python",
      "name": "python3"
    },
    "language_info": {
      "codemirror_mode": {
        "name": "ipython",
        "version": 3
      },
      "file_extension": ".py",
      "mimetype": "text/x-python",
      "name": "python",
      "nbconvert_exporter": "python",
      "pygments_lexer": "ipython3",
      "version": "3.7.12"
    },
    "colab": {
      "provenance": [],
      "include_colab_link": true
    }
  },
  "nbformat": 4,
  "nbformat_minor": 5
}