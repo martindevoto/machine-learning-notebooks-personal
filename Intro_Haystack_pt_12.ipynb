{
  "cells": [
    {
      "cell_type": "markdown",
      "metadata": {
        "id": "view-in-github",
        "colab_type": "text"
      },
      "source": [
        "<a href=\"https://colab.research.google.com/github/martindevoto/machine-learning-notebooks-personal/blob/main/Intro_Haystack_pt_12.ipynb\" target=\"_parent\"><img src=\"https://colab.research.google.com/assets/colab-badge.svg\" alt=\"Open In Colab\"/></a>"
      ]
    },
    {
      "cell_type": "markdown",
      "metadata": {
        "id": "3ICMNcxEzDKD"
      },
      "source": [
        "# Long-Form Question Answering\n",
        "\n",
        "[![Open In Colab](https://colab.research.google.com/assets/colab-badge.svg)](https://colab.research.google.com/github/deepset-ai/haystack/blob/master/tutorials/Tutorial12_LFQA.ipynb)"
      ]
    },
    {
      "cell_type": "code",
      "execution_count": null,
      "metadata": {
        "colab": {
          "base_uri": "https://localhost:8080/"
        },
        "id": "j2Mw7dOFy8x6",
        "outputId": "e1811ec0-ac03-41b0-ff7e-6e1cdc5ee562"
      },
      "outputs": [
        {
          "name": "stdout",
          "output_type": "stream",
          "text": [
            "Wed Feb  9 23:49:09 2022       \n",
            "+-----------------------------------------------------------------------------+\n",
            "| NVIDIA-SMI 460.32.03    Driver Version: 460.32.03    CUDA Version: 11.2     |\n",
            "|-------------------------------+----------------------+----------------------+\n",
            "| GPU  Name        Persistence-M| Bus-Id        Disp.A | Volatile Uncorr. ECC |\n",
            "| Fan  Temp  Perf  Pwr:Usage/Cap|         Memory-Usage | GPU-Util  Compute M. |\n",
            "|                               |                      |               MIG M. |\n",
            "|===============================+======================+======================|\n",
            "|   0  Tesla T4            Off  | 00000000:00:04.0 Off |                    0 |\n",
            "| N/A   36C    P8     9W /  70W |      0MiB / 15109MiB |      0%      Default |\n",
            "|                               |                      |                  N/A |\n",
            "+-------------------------------+----------------------+----------------------+\n",
            "                                                                               \n",
            "+-----------------------------------------------------------------------------+\n",
            "| Processes:                                                                  |\n",
            "|  GPU   GI   CI        PID   Type   Process name                  GPU Memory |\n",
            "|        ID   ID                                                   Usage      |\n",
            "|=============================================================================|\n",
            "|  No running processes found                                                 |\n",
            "+-----------------------------------------------------------------------------+\n"
          ]
        }
      ],
      "source": [
        "# Make sure you have a GPU running\n",
        "!nvidia-smi"
      ]
    },
    {
      "cell_type": "code",
      "execution_count": null,
      "metadata": {
        "colab": {
          "base_uri": "https://localhost:8080/"
        },
        "id": "XO5GUVOhzDkh",
        "outputId": "b8d03176-3c2b-4a08-86c1-669551c0bac1"
      },
      "outputs": [
        {
          "name": "stdout",
          "output_type": "stream",
          "text": [
            "Requirement already satisfied: pip in /usr/local/lib/python3.7/dist-packages (21.1.3)\n",
            "Collecting pip\n",
            "  Downloading pip-22.0.3-py3-none-any.whl (2.1 MB)\n",
            "\u001b[K     |████████████████████████████████| 2.1 MB 15.4 MB/s \n",
            "\u001b[?25hInstalling collected packages: pip\n",
            "  Attempting uninstall: pip\n",
            "    Found existing installation: pip 21.1.3\n",
            "    Uninstalling pip-21.1.3:\n",
            "      Successfully uninstalled pip-21.1.3\n",
            "Successfully installed pip-22.0.3\n",
            "Collecting farm-haystack[colab,faiss]\n",
            "  Cloning https://github.com/deepset-ai/haystack.git to /tmp/pip-install-dgok6z1w/farm-haystack_e207f6e0cfd94964a086c625c4303027\n",
            "  Running command git clone --filter=blob:none --quiet https://github.com/deepset-ai/haystack.git /tmp/pip-install-dgok6z1w/farm-haystack_e207f6e0cfd94964a086c625c4303027\n",
            "  Resolved https://github.com/deepset-ai/haystack.git to commit 1bdd1f48fd8972128955a75871bc8b8033b3e0f5\n",
            "  Installing build dependencies ... \u001b[?25l\u001b[?25hdone\n",
            "  Getting requirements to build wheel ... \u001b[?25l\u001b[?25hdone\n",
            "  Preparing metadata (pyproject.toml) ... \u001b[?25l\u001b[?25hdone\n",
            "Collecting elasticsearch<=7.10,>=7.7\n",
            "  Downloading elasticsearch-7.10.0-py2.py3-none-any.whl (321 kB)\n",
            "\u001b[2K     \u001b[90m━━━━━━━━━━━━━━━━━━━━━━━━━━━━━━━━━━━━━━\u001b[0m \u001b[32m321.8/321.8 KB\u001b[0m \u001b[31m16.0 MB/s\u001b[0m eta \u001b[36m0:00:00\u001b[0m\n",
            "\u001b[?25hCollecting elastic-apm\n",
            "  Downloading elastic_apm-6.7.2-cp37-cp37m-manylinux_2_5_x86_64.manylinux1_x86_64.manylinux_2_17_x86_64.manylinux2014_x86_64.whl (359 kB)\n",
            "\u001b[2K     \u001b[90m━━━━━━━━━━━━━━━━━━━━━━━━━━━━━━━━━━━━━━\u001b[0m \u001b[32m359.7/359.7 KB\u001b[0m \u001b[31m35.9 MB/s\u001b[0m eta \u001b[36m0:00:00\u001b[0m\n",
            "\u001b[?25hCollecting langdetect\n",
            "  Downloading langdetect-1.0.9.tar.gz (981 kB)\n",
            "\u001b[2K     \u001b[90m━━━━━━━━━━━━━━━━━━━━━━━━━━━━━━━━━━━━━━\u001b[0m \u001b[32m981.5/981.5 KB\u001b[0m \u001b[31m58.8 MB/s\u001b[0m eta \u001b[36m0:00:00\u001b[0m\n",
            "\u001b[?25h  Preparing metadata (setup.py) ... \u001b[?25l\u001b[?25hdone\n",
            "Collecting tika\n",
            "  Downloading tika-1.24.tar.gz (28 kB)\n",
            "  Preparing metadata (setup.py) ... \u001b[?25l\u001b[?25hdone\n",
            "Collecting mmh3\n",
            "  Downloading mmh3-3.0.0-cp37-cp37m-manylinux2010_x86_64.whl (50 kB)\n",
            "\u001b[2K     \u001b[90m━━━━━━━━━━━━━━━━━━━━━━━━━━━━━━━━━━━━━━━━\u001b[0m \u001b[32m50.9/50.9 KB\u001b[0m \u001b[31m8.5 MB/s\u001b[0m eta \u001b[36m0:00:00\u001b[0m\n",
            "\u001b[?25hRequirement already satisfied: tqdm in /usr/local/lib/python3.7/dist-packages (from farm-haystack[colab,faiss]) (4.62.3)\n",
            "Collecting sentence-transformers>=0.4.0\n",
            "  Downloading sentence-transformers-2.1.0.tar.gz (78 kB)\n",
            "\u001b[2K     \u001b[90m━━━━━━━━━━━━━━━━━━━━━━━━━━━━━━━━━━━━━━━━\u001b[0m \u001b[32m78.5/78.5 KB\u001b[0m \u001b[31m13.6 MB/s\u001b[0m eta \u001b[36m0:00:00\u001b[0m\n",
            "\u001b[?25h  Preparing metadata (setup.py) ... \u001b[?25l\u001b[?25hdone\n",
            "Requirement already satisfied: nltk in /usr/local/lib/python3.7/dist-packages (from farm-haystack[colab,faiss]) (3.2.5)\n",
            "Requirement already satisfied: scikit-learn>=1.0.0 in /usr/local/lib/python3.7/dist-packages (from farm-haystack[colab,faiss]) (1.0.2)\n",
            "Collecting quantulum3\n",
            "  Downloading quantulum3-0.7.9-py3-none-any.whl (10.7 MB)\n",
            "\u001b[2K     \u001b[90m━━━━━━━━━━━━━━━━━━━━━━━━━━━━━━━━━━━━━━━━\u001b[0m \u001b[32m10.7/10.7 MB\u001b[0m \u001b[31m86.3 MB/s\u001b[0m eta \u001b[36m0:00:00\u001b[0m\n",
            "\u001b[?25hCollecting pydantic\n",
            "  Downloading pydantic-1.9.0-cp37-cp37m-manylinux_2_17_x86_64.manylinux2014_x86_64.whl (10.9 MB)\n",
            "\u001b[2K     \u001b[90m━━━━━━━━━━━━━━━━━━━━━━━━━━━━━━━━━━━━━━━━\u001b[0m \u001b[32m10.9/10.9 MB\u001b[0m \u001b[31m79.8 MB/s\u001b[0m eta \u001b[36m0:00:00\u001b[0m\n",
            "\u001b[?25hCollecting mlflow<=1.13.1\n",
            "  Downloading mlflow-1.13.1-py3-none-any.whl (14.1 MB)\n",
            "\u001b[2K     \u001b[90m━━━━━━━━━━━━━━━━━━━━━━━━━━━━━━━━━━━━━━━━\u001b[0m \u001b[32m14.1/14.1 MB\u001b[0m \u001b[31m78.1 MB/s\u001b[0m eta \u001b[36m0:00:00\u001b[0m\n",
            "\u001b[?25hRequirement already satisfied: dill in /usr/local/lib/python3.7/dist-packages (from farm-haystack[colab,faiss]) (0.3.4)\n",
            "Requirement already satisfied: importlib-metadata in /usr/local/lib/python3.7/dist-packages (from farm-haystack[colab,faiss]) (4.10.1)\n",
            "Requirement already satisfied: networkx in /usr/local/lib/python3.7/dist-packages (from farm-haystack[colab,faiss]) (2.6.3)\n",
            "Requirement already satisfied: scipy>=1.3.2 in /usr/local/lib/python3.7/dist-packages (from farm-haystack[colab,faiss]) (1.4.1)\n",
            "Collecting azure-ai-formrecognizer==3.2.0b2\n",
            "  Downloading azure_ai_formrecognizer-3.2.0b2-py2.py3-none-any.whl (219 kB)\n",
            "\u001b[2K     \u001b[90m━━━━━━━━━━━━━━━━━━━━━━━━━━━━━━━━━━━━━━\u001b[0m \u001b[32m219.7/219.7 KB\u001b[0m \u001b[31m31.1 MB/s\u001b[0m eta \u001b[36m0:00:00\u001b[0m\n",
            "\u001b[?25hRequirement already satisfied: torch<1.11,>1.9 in /usr/local/lib/python3.7/dist-packages (from farm-haystack[colab,faiss]) (1.10.0+cu111)\n",
            "Requirement already satisfied: pandas in /usr/local/lib/python3.7/dist-packages (from farm-haystack[colab,faiss]) (1.3.5)\n",
            "Requirement already satisfied: requests in /usr/local/lib/python3.7/dist-packages (from farm-haystack[colab,faiss]) (2.23.0)\n",
            "Collecting seqeval\n",
            "  Downloading seqeval-1.2.2.tar.gz (43 kB)\n",
            "\u001b[2K     \u001b[90m━━━━━━━━━━━━━━━━━━━━━━━━━━━━━━━━━━━━━━━━\u001b[0m \u001b[32m43.6/43.6 KB\u001b[0m \u001b[31m7.5 MB/s\u001b[0m eta \u001b[36m0:00:00\u001b[0m\n",
            "\u001b[?25h  Preparing metadata (setup.py) ... \u001b[?25l\u001b[?25hdone\n",
            "Collecting transformers==4.13.0\n",
            "  Downloading transformers-4.13.0-py3-none-any.whl (3.3 MB)\n",
            "\u001b[2K     \u001b[90m━━━━━━━━━━━━━━━━━━━━━━━━━━━━━━━━━━━━━━━━\u001b[0m \u001b[32m3.3/3.3 MB\u001b[0m \u001b[31m86.6 MB/s\u001b[0m eta \u001b[36m0:00:00\u001b[0m\n",
            "\u001b[?25hRequirement already satisfied: more-itertools in /usr/local/lib/python3.7/dist-packages (from farm-haystack[colab,faiss]) (8.12.0)\n",
            "Collecting python-docx\n",
            "  Downloading python-docx-0.8.11.tar.gz (5.6 MB)\n",
            "\u001b[2K     \u001b[90m━━━━━━━━━━━━━━━━━━━━━━━━━━━━━━━━━━━━━━━━\u001b[0m \u001b[32m5.6/5.6 MB\u001b[0m \u001b[31m98.9 MB/s\u001b[0m eta \u001b[36m0:00:00\u001b[0m\n",
            "\u001b[?25h  Preparing metadata (setup.py) ... \u001b[?25l\u001b[?25hdone\n",
            "Requirement already satisfied: grpcio==1.43.0 in /usr/local/lib/python3.7/dist-packages (from farm-haystack[colab,faiss]) (1.43.0)\n",
            "Collecting azure-common~=1.1\n",
            "  Downloading azure_common-1.1.28-py2.py3-none-any.whl (14 kB)\n",
            "Collecting msrest>=0.6.21\n",
            "  Downloading msrest-0.6.21-py2.py3-none-any.whl (85 kB)\n",
            "\u001b[2K     \u001b[90m━━━━━━━━━━━━━━━━━━━━━━━━━━━━━━━━━━━━━━━━\u001b[0m \u001b[32m85.2/85.2 KB\u001b[0m \u001b[31m13.4 MB/s\u001b[0m eta \u001b[36m0:00:00\u001b[0m\n",
            "\u001b[?25hRequirement already satisfied: six>=1.11.0 in /usr/local/lib/python3.7/dist-packages (from azure-ai-formrecognizer==3.2.0b2->farm-haystack[colab,faiss]) (1.15.0)\n",
            "Collecting azure-core<2.0.0,>=1.13.0\n",
            "  Downloading azure_core-1.22.1-py3-none-any.whl (178 kB)\n",
            "\u001b[2K     \u001b[90m━━━━━━━━━━━━━━━━━━━━━━━━━━━━━━━━━━━━━━\u001b[0m \u001b[32m178.6/178.6 KB\u001b[0m \u001b[31m27.7 MB/s\u001b[0m eta \u001b[36m0:00:00\u001b[0m\n",
            "\u001b[?25hCollecting tokenizers<0.11,>=0.10.1\n",
            "  Downloading tokenizers-0.10.3-cp37-cp37m-manylinux_2_5_x86_64.manylinux1_x86_64.manylinux_2_12_x86_64.manylinux2010_x86_64.whl (3.3 MB)\n",
            "\u001b[2K     \u001b[90m━━━━━━━━━━━━━━━━━━━━━━━━━━━━━━━━━━━━━━━━\u001b[0m \u001b[32m3.3/3.3 MB\u001b[0m \u001b[31m90.7 MB/s\u001b[0m eta \u001b[36m0:00:00\u001b[0m\n",
            "\u001b[?25hCollecting huggingface-hub<1.0,>=0.1.0\n",
            "  Downloading huggingface_hub-0.4.0-py3-none-any.whl (67 kB)\n",
            "\u001b[2K     \u001b[90m━━━━━━━━━━━━━━━━━━━━━━━━━━━━━━━━━━━━━━━━\u001b[0m \u001b[32m67.0/67.0 KB\u001b[0m \u001b[31m11.1 MB/s\u001b[0m eta \u001b[36m0:00:00\u001b[0m\n",
            "\u001b[?25hRequirement already satisfied: numpy>=1.17 in /usr/local/lib/python3.7/dist-packages (from transformers==4.13.0->farm-haystack[colab,faiss]) (1.19.5)\n",
            "Requirement already satisfied: regex!=2019.12.17 in /usr/local/lib/python3.7/dist-packages (from transformers==4.13.0->farm-haystack[colab,faiss]) (2019.12.20)\n",
            "Collecting sacremoses\n",
            "  Downloading sacremoses-0.0.47-py2.py3-none-any.whl (895 kB)\n",
            "\u001b[2K     \u001b[90m━━━━━━━━━━━━━━━━━━━━━━━━━━━━━━━━━━━━━━\u001b[0m \u001b[32m895.2/895.2 KB\u001b[0m \u001b[31m68.3 MB/s\u001b[0m eta \u001b[36m0:00:00\u001b[0m\n",
            "\u001b[?25hCollecting pyyaml>=5.1\n",
            "  Downloading PyYAML-6.0-cp37-cp37m-manylinux_2_5_x86_64.manylinux1_x86_64.manylinux_2_12_x86_64.manylinux2010_x86_64.whl (596 kB)\n",
            "\u001b[2K     \u001b[90m━━━━━━━━━━━━━━━━━━━━━━━━━━━━━━━━━━━━━━\u001b[0m \u001b[32m596.3/596.3 KB\u001b[0m \u001b[31m54.5 MB/s\u001b[0m eta \u001b[36m0:00:00\u001b[0m\n",
            "\u001b[?25hRequirement already satisfied: filelock in /usr/local/lib/python3.7/dist-packages (from transformers==4.13.0->farm-haystack[colab,faiss]) (3.4.2)\n",
            "Requirement already satisfied: packaging>=20.0 in /usr/local/lib/python3.7/dist-packages (from transformers==4.13.0->farm-haystack[colab,faiss]) (21.3)\n",
            "Requirement already satisfied: urllib3<2,>=1.21.1 in /usr/local/lib/python3.7/dist-packages (from elasticsearch<=7.10,>=7.7->farm-haystack[colab,faiss]) (1.24.3)\n",
            "Requirement already satisfied: certifi in /usr/local/lib/python3.7/dist-packages (from elasticsearch<=7.10,>=7.7->farm-haystack[colab,faiss]) (2021.10.8)\n",
            "Collecting docker>=4.0.0\n",
            "  Downloading docker-5.0.3-py2.py3-none-any.whl (146 kB)\n",
            "\u001b[2K     \u001b[90m━━━━━━━━━━━━━━━━━━━━━━━━━━━━━━━━━━━━━━\u001b[0m \u001b[32m146.2/146.2 KB\u001b[0m \u001b[31m22.5 MB/s\u001b[0m eta \u001b[36m0:00:00\u001b[0m\n",
            "\u001b[?25hRequirement already satisfied: sqlparse>=0.3.1 in /usr/local/lib/python3.7/dist-packages (from mlflow<=1.13.1->farm-haystack[colab,faiss]) (0.4.2)\n",
            "Requirement already satisfied: entrypoints in /usr/local/lib/python3.7/dist-packages (from mlflow<=1.13.1->farm-haystack[colab,faiss]) (0.4)\n",
            "Collecting gunicorn\n",
            "  Downloading gunicorn-20.1.0-py3-none-any.whl (79 kB)\n",
            "\u001b[2K     \u001b[90m━━━━━━━━━━━━━━━━━━━━━━━━━━━━━━━━━━━━━━━━\u001b[0m \u001b[32m79.5/79.5 KB\u001b[0m \u001b[31m12.7 MB/s\u001b[0m eta \u001b[36m0:00:00\u001b[0m\n",
            "\u001b[?25hRequirement already satisfied: protobuf>=3.6.0 in /usr/local/lib/python3.7/dist-packages (from mlflow<=1.13.1->farm-haystack[colab,faiss]) (3.17.3)\n",
            "Collecting prometheus-flask-exporter\n",
            "  Downloading prometheus_flask_exporter-0.18.7-py3-none-any.whl (17 kB)\n",
            "Requirement already satisfied: Flask in /usr/local/lib/python3.7/dist-packages (from mlflow<=1.13.1->farm-haystack[colab,faiss]) (1.1.4)\n",
            "Requirement already satisfied: sqlalchemy in /usr/local/lib/python3.7/dist-packages (from mlflow<=1.13.1->farm-haystack[colab,faiss]) (1.4.31)\n",
            "Collecting gitpython>=2.1.0\n",
            "  Downloading GitPython-3.1.26-py3-none-any.whl (180 kB)\n",
            "\u001b[2K     \u001b[90m━━━━━━━━━━━━━━━━━━━━━━━━━━━━━━━━━━━━━━\u001b[0m \u001b[32m180.9/180.9 KB\u001b[0m \u001b[31m25.7 MB/s\u001b[0m eta \u001b[36m0:00:00\u001b[0m\n",
            "\u001b[?25hRequirement already satisfied: click>=7.0 in /usr/local/lib/python3.7/dist-packages (from mlflow<=1.13.1->farm-haystack[colab,faiss]) (7.1.2)\n",
            "Collecting querystring-parser\n",
            "  Downloading querystring_parser-1.2.4-py2.py3-none-any.whl (7.9 kB)\n",
            "Collecting alembic<=1.4.1\n",
            "  Downloading alembic-1.4.1.tar.gz (1.1 MB)\n",
            "\u001b[2K     \u001b[90m━━━━━━━━━━━━━━━━━━━━━━━━━━━━━━━━━━━━━━━━\u001b[0m \u001b[32m1.1/1.1 MB\u001b[0m \u001b[31m75.4 MB/s\u001b[0m eta \u001b[36m0:00:00\u001b[0m\n",
            "\u001b[?25h  Preparing metadata (setup.py) ... \u001b[?25l\u001b[?25hdone\n",
            "Collecting databricks-cli>=0.8.7\n",
            "  Downloading databricks-cli-0.16.4.tar.gz (58 kB)\n",
            "\u001b[2K     \u001b[90m━━━━━━━━━━━━━━━━━━━━━━━━━━━━━━━━━━━━━━━━\u001b[0m \u001b[32m58.2/58.2 KB\u001b[0m \u001b[31m9.3 MB/s\u001b[0m eta \u001b[36m0:00:00\u001b[0m\n",
            "\u001b[?25h  Preparing metadata (setup.py) ... \u001b[?25l\u001b[?25hdone\n",
            "Requirement already satisfied: cloudpickle in /usr/local/lib/python3.7/dist-packages (from mlflow<=1.13.1->farm-haystack[colab,faiss]) (1.3.0)\n",
            "Requirement already satisfied: python-dateutil in /usr/local/lib/python3.7/dist-packages (from mlflow<=1.13.1->farm-haystack[colab,faiss]) (2.8.2)\n",
            "Collecting azure-storage-blob>=12.0.0\n",
            "  Downloading azure_storage_blob-12.9.0-py2.py3-none-any.whl (356 kB)\n",
            "\u001b[2K     \u001b[90m━━━━━━━━━━━━━━━━━━━━━━━━━━━━━━━━━━━━━━\u001b[0m \u001b[32m356.5/356.5 KB\u001b[0m \u001b[31m40.3 MB/s\u001b[0m eta \u001b[36m0:00:00\u001b[0m\n",
            "\u001b[?25hRequirement already satisfied: idna<3,>=2.5 in /usr/local/lib/python3.7/dist-packages (from requests->farm-haystack[colab,faiss]) (2.10)\n",
            "Requirement already satisfied: chardet<4,>=3.0.2 in /usr/local/lib/python3.7/dist-packages (from requests->farm-haystack[colab,faiss]) (3.0.4)\n",
            "Requirement already satisfied: joblib>=0.11 in /usr/local/lib/python3.7/dist-packages (from scikit-learn>=1.0.0->farm-haystack[colab,faiss]) (1.1.0)\n",
            "Requirement already satisfied: threadpoolctl>=2.0.0 in /usr/local/lib/python3.7/dist-packages (from scikit-learn>=1.0.0->farm-haystack[colab,faiss]) (3.1.0)\n",
            "Requirement already satisfied: torchvision in /usr/local/lib/python3.7/dist-packages (from sentence-transformers>=0.4.0->farm-haystack[colab,faiss]) (0.11.1+cu111)\n",
            "Collecting sentencepiece\n",
            "  Downloading sentencepiece-0.1.96-cp37-cp37m-manylinux_2_17_x86_64.manylinux2014_x86_64.whl (1.2 MB)\n",
            "\u001b[2K     \u001b[90m━━━━━━━━━━━━━━━━━━━━━━━━━━━━━━━━━━━━━━━━\u001b[0m \u001b[32m1.2/1.2 MB\u001b[0m \u001b[31m71.3 MB/s\u001b[0m eta \u001b[36m0:00:00\u001b[0m\n",
            "\u001b[?25hRequirement already satisfied: typing-extensions in /usr/local/lib/python3.7/dist-packages (from torch<1.11,>1.9->farm-haystack[colab,faiss]) (3.10.0.2)\n",
            "Collecting psycopg2-binary\n",
            "  Downloading psycopg2_binary-2.9.3-cp37-cp37m-manylinux_2_17_x86_64.manylinux2014_x86_64.whl (3.0 MB)\n",
            "\u001b[2K     \u001b[90m━━━━━━━━━━━━━━━━━━━━━━━━━━━━━━━━━━━━━━━━\u001b[0m \u001b[32m3.0/3.0 MB\u001b[0m \u001b[31m90.8 MB/s\u001b[0m eta \u001b[36m0:00:00\u001b[0m\n",
            "\u001b[?25hCollecting sqlalchemy-utils\n",
            "  Downloading SQLAlchemy_Utils-0.38.2-py3-none-any.whl (100 kB)\n",
            "\u001b[2K     \u001b[90m━━━━━━━━━━━━━━━━━━━━━━━━━━━━━━━━━━━━━━\u001b[0m \u001b[32m100.2/100.2 KB\u001b[0m \u001b[31m16.9 MB/s\u001b[0m eta \u001b[36m0:00:00\u001b[0m\n",
            "\u001b[?25hCollecting faiss-cpu<2,>=1.6.3\n",
            "  Downloading faiss_cpu-1.7.2-cp37-cp37m-manylinux_2_17_x86_64.manylinux2014_x86_64.whl (8.6 MB)\n",
            "\u001b[2K     \u001b[90m━━━━━━━━━━━━━━━━━━━━━━━━━━━━━━━━━━━━━━━━\u001b[0m \u001b[32m8.6/8.6 MB\u001b[0m \u001b[31m92.2 MB/s\u001b[0m eta \u001b[36m0:00:00\u001b[0m\n",
            "\u001b[?25hRequirement already satisfied: zipp>=0.5 in /usr/local/lib/python3.7/dist-packages (from importlib-metadata->farm-haystack[colab,faiss]) (3.7.0)\n",
            "Requirement already satisfied: pytz>=2017.3 in /usr/local/lib/python3.7/dist-packages (from pandas->farm-haystack[colab,faiss]) (2018.9)\n",
            "Requirement already satisfied: lxml>=2.3.2 in /usr/local/lib/python3.7/dist-packages (from python-docx->farm-haystack[colab,faiss]) (4.2.6)\n",
            "Requirement already satisfied: inflect in /usr/local/lib/python3.7/dist-packages (from quantulum3->farm-haystack[colab,faiss]) (2.1.0)\n",
            "Collecting num2words\n",
            "  Downloading num2words-0.5.10-py3-none-any.whl (101 kB)\n",
            "\u001b[2K     \u001b[90m━━━━━━━━━━━━━━━━━━━━━━━━━━━━━━━━━━━━━━\u001b[0m \u001b[32m101.6/101.6 KB\u001b[0m \u001b[31m16.5 MB/s\u001b[0m eta \u001b[36m0:00:00\u001b[0m\n",
            "\u001b[?25hRequirement already satisfied: setuptools in /usr/local/lib/python3.7/dist-packages (from tika->farm-haystack[colab,faiss]) (57.4.0)\n",
            "Collecting Mako\n",
            "  Downloading Mako-1.1.6-py2.py3-none-any.whl (75 kB)\n",
            "\u001b[2K     \u001b[90m━━━━━━━━━━━━━━━━━━━━━━━━━━━━━━━━━━━━━━━━\u001b[0m \u001b[32m75.7/75.7 KB\u001b[0m \u001b[31m12.8 MB/s\u001b[0m eta \u001b[36m0:00:00\u001b[0m\n",
            "\u001b[?25hCollecting python-editor>=0.3\n",
            "  Downloading python_editor-1.0.4-py3-none-any.whl (4.9 kB)\n",
            "Collecting cryptography>=2.1.4\n",
            "  Downloading cryptography-36.0.1-cp36-abi3-manylinux_2_24_x86_64.whl (3.6 MB)\n",
            "\u001b[2K     \u001b[90m━━━━━━━━━━━━━━━━━━━━━━━━━━━━━━━━━━━━━━━━\u001b[0m \u001b[32m3.6/3.6 MB\u001b[0m \u001b[31m89.6 MB/s\u001b[0m eta \u001b[36m0:00:00\u001b[0m\n",
            "\u001b[?25hRequirement already satisfied: tabulate>=0.7.7 in /usr/local/lib/python3.7/dist-packages (from databricks-cli>=0.8.7->mlflow<=1.13.1->farm-haystack[colab,faiss]) (0.8.9)\n",
            "Collecting websocket-client>=0.32.0\n",
            "  Downloading websocket_client-1.2.3-py3-none-any.whl (53 kB)\n",
            "\u001b[2K     \u001b[90m━━━━━━━━━━━━━━━━━━━━━━━━━━━━━━━━━━━━━━━━\u001b[0m \u001b[32m53.5/53.5 KB\u001b[0m \u001b[31m9.1 MB/s\u001b[0m eta \u001b[36m0:00:00\u001b[0m\n",
            "\u001b[?25hCollecting gitdb<5,>=4.0.1\n",
            "  Downloading gitdb-4.0.9-py3-none-any.whl (63 kB)\n",
            "\u001b[2K     \u001b[90m━━━━━━━━━━━━━━━━━━━━━━━━━━━━━━━━━━━━━━━━\u001b[0m \u001b[32m63.1/63.1 KB\u001b[0m \u001b[31m11.0 MB/s\u001b[0m eta \u001b[36m0:00:00\u001b[0m\n",
            "\u001b[?25hRequirement already satisfied: requests-oauthlib>=0.5.0 in /usr/local/lib/python3.7/dist-packages (from msrest>=0.6.21->azure-ai-formrecognizer==3.2.0b2->farm-haystack[colab,faiss]) (1.3.1)\n",
            "Collecting isodate>=0.6.0\n",
            "  Downloading isodate-0.6.1-py2.py3-none-any.whl (41 kB)\n",
            "\u001b[2K     \u001b[90m━━━━━━━━━━━━━━━━━━━━━━━━━━━━━━━━━━━━━━━━\u001b[0m \u001b[32m41.7/41.7 KB\u001b[0m \u001b[31m6.5 MB/s\u001b[0m eta \u001b[36m0:00:00\u001b[0m\n",
            "\u001b[?25hRequirement already satisfied: pyparsing!=3.0.5,>=2.0.2 in /usr/local/lib/python3.7/dist-packages (from packaging>=20.0->transformers==4.13.0->farm-haystack[colab,faiss]) (3.0.7)\n",
            "Requirement already satisfied: greenlet!=0.4.17 in /usr/local/lib/python3.7/dist-packages (from sqlalchemy->mlflow<=1.13.1->farm-haystack[colab,faiss]) (1.1.2)\n",
            "Requirement already satisfied: Jinja2<3.0,>=2.10.1 in /usr/local/lib/python3.7/dist-packages (from Flask->mlflow<=1.13.1->farm-haystack[colab,faiss]) (2.11.3)\n",
            "Requirement already satisfied: Werkzeug<2.0,>=0.15 in /usr/local/lib/python3.7/dist-packages (from Flask->mlflow<=1.13.1->farm-haystack[colab,faiss]) (1.0.1)\n",
            "Requirement already satisfied: itsdangerous<2.0,>=0.24 in /usr/local/lib/python3.7/dist-packages (from Flask->mlflow<=1.13.1->farm-haystack[colab,faiss]) (1.1.0)\n",
            "Requirement already satisfied: docopt>=0.6.2 in /usr/local/lib/python3.7/dist-packages (from num2words->quantulum3->farm-haystack[colab,faiss]) (0.6.2)\n",
            "Requirement already satisfied: prometheus-client in /usr/local/lib/python3.7/dist-packages (from prometheus-flask-exporter->mlflow<=1.13.1->farm-haystack[colab,faiss]) (0.13.1)\n",
            "Requirement already satisfied: pillow!=8.3.0,>=5.3.0 in /usr/local/lib/python3.7/dist-packages (from torchvision->sentence-transformers>=0.4.0->farm-haystack[colab,faiss]) (7.1.2)\n",
            "Requirement already satisfied: cffi>=1.12 in /usr/local/lib/python3.7/dist-packages (from cryptography>=2.1.4->azure-storage-blob>=12.0.0->mlflow<=1.13.1->farm-haystack[colab,faiss]) (1.15.0)\n",
            "Collecting smmap<6,>=3.0.1\n",
            "  Downloading smmap-5.0.0-py3-none-any.whl (24 kB)\n",
            "Requirement already satisfied: MarkupSafe>=0.23 in /usr/local/lib/python3.7/dist-packages (from Jinja2<3.0,>=2.10.1->Flask->mlflow<=1.13.1->farm-haystack[colab,faiss]) (2.0.1)\n",
            "Requirement already satisfied: oauthlib>=3.0.0 in /usr/local/lib/python3.7/dist-packages (from requests-oauthlib>=0.5.0->msrest>=0.6.21->azure-ai-formrecognizer==3.2.0b2->farm-haystack[colab,faiss]) (3.2.0)\n",
            "Requirement already satisfied: pycparser in /usr/local/lib/python3.7/dist-packages (from cffi>=1.12->cryptography>=2.1.4->azure-storage-blob>=12.0.0->mlflow<=1.13.1->farm-haystack[colab,faiss]) (2.21)\n",
            "Building wheels for collected packages: sentence-transformers, farm-haystack, langdetect, python-docx, seqeval, tika, alembic, databricks-cli\n",
            "  Building wheel for sentence-transformers (setup.py) ... \u001b[?25l\u001b[?25hdone\n",
            "  Created wheel for sentence-transformers: filename=sentence_transformers-2.1.0-py3-none-any.whl size=120999 sha256=d28457b990dc0592bff029a5558d7046be6ad7e6495870311a04cb7d157ec794\n",
            "  Stored in directory: /root/.cache/pip/wheels/90/f0/bb/ed1add84da70092ea526466eadc2bfb197c4bcb8d4fa5f7bad\n",
            "  Building wheel for farm-haystack (pyproject.toml) ... \u001b[?25l\u001b[?25hdone\n",
            "  Created wheel for farm-haystack: filename=farm_haystack-1.1.0-py3-none-any.whl size=405744 sha256=3baf46f12879080dcfd7fff518518fdc56ee957740bce6a38f874883bd89e43f\n",
            "  Stored in directory: /tmp/pip-ephem-wheel-cache-3czixy7d/wheels/a7/05/3b/9b33368d9af06a39f8e6af2e97fa2af876e893ade323cfc2c9\n",
            "  Building wheel for langdetect (setup.py) ... \u001b[?25l\u001b[?25hdone\n",
            "  Created wheel for langdetect: filename=langdetect-1.0.9-py3-none-any.whl size=993242 sha256=5c7518b1977578470ddf1a589bab105f342500447fe9c9ba6a3519b6b3065f3f\n",
            "  Stored in directory: /root/.cache/pip/wheels/c5/96/8a/f90c59ed25d75e50a8c10a1b1c2d4c402e4dacfa87f3aff36a\n",
            "  Building wheel for python-docx (setup.py) ... \u001b[?25l\u001b[?25hdone\n",
            "  Created wheel for python-docx: filename=python_docx-0.8.11-py3-none-any.whl size=184507 sha256=f9f47d09edd5753aac15c3f9395539b9163ad8b0ea85b933de2765dcf478bac1\n",
            "  Stored in directory: /root/.cache/pip/wheels/f6/6f/b9/d798122a8b55b74ad30b5f52b01482169b445fbb84a11797a6\n",
            "  Building wheel for seqeval (setup.py) ... \u001b[?25l\u001b[?25hdone\n",
            "  Created wheel for seqeval: filename=seqeval-1.2.2-py3-none-any.whl size=16180 sha256=e76792218e94a266eec813ffb21d48fe5b7ac902f3adbba4ab3a6160c9b35729\n",
            "  Stored in directory: /root/.cache/pip/wheels/05/96/ee/7cac4e74f3b19e3158dce26a20a1c86b3533c43ec72a549fd7\n",
            "  Building wheel for tika (setup.py) ... \u001b[?25l\u001b[?25hdone\n",
            "  Created wheel for tika: filename=tika-1.24-py3-none-any.whl size=32893 sha256=b370b52f5a33d4f6b9d3b95ed4614820113159b3a1598d75d6c1d179f4bebbbc\n",
            "  Stored in directory: /root/.cache/pip/wheels/ec/2b/38/58ff05467a742e32f67f5d0de048fa046e764e2fbb25ac93f3\n",
            "  Building wheel for alembic (setup.py) ... \u001b[?25l\u001b[?25hdone\n",
            "  Created wheel for alembic: filename=alembic-1.4.1-py2.py3-none-any.whl size=158171 sha256=3f679904d8dcc48140dc40d959666adc1da8c1e82ea0a0723cc2a8cca3d6a178\n",
            "  Stored in directory: /root/.cache/pip/wheels/be/5d/0a/9e13f53f4f5dfb67cd8d245bb7cdffe12f135846f491a283e3\n",
            "  Building wheel for databricks-cli (setup.py) ... \u001b[?25l\u001b[?25hdone\n",
            "  Created wheel for databricks-cli: filename=databricks_cli-0.16.4-py3-none-any.whl size=106877 sha256=b4355211b052ed8720dc7d15c6c17392c145cf636bbdd43a5cbc54de9ec04d67\n",
            "  Stored in directory: /root/.cache/pip/wheels/a2/a1/6d/fa1d22ea25ed8593887437fe1c7e00f6ef307fc240ccd4dc5c\n",
            "Successfully built sentence-transformers farm-haystack langdetect python-docx seqeval tika alembic databricks-cli\n",
            "Installing collected packages: tokenizers, sentencepiece, python-editor, mmh3, faiss-cpu, azure-common, websocket-client, smmap, sacremoses, querystring-parser, pyyaml, python-docx, pydantic, psycopg2-binary, num2words, Mako, langdetect, isodate, gunicorn, elasticsearch, elastic-apm, tika, quantulum3, huggingface-hub, gitdb, docker, databricks-cli, cryptography, azure-core, transformers, sqlalchemy-utils, seqeval, prometheus-flask-exporter, msrest, gitpython, alembic, sentence-transformers, azure-storage-blob, azure-ai-formrecognizer, mlflow, farm-haystack\n",
            "  Attempting uninstall: pyyaml\n",
            "    Found existing installation: PyYAML 3.13\n",
            "    Uninstalling PyYAML-3.13:\n",
            "      Successfully uninstalled PyYAML-3.13\n",
            "Successfully installed Mako-1.1.6 alembic-1.4.1 azure-ai-formrecognizer-3.2.0b2 azure-common-1.1.28 azure-core-1.22.1 azure-storage-blob-12.9.0 cryptography-36.0.1 databricks-cli-0.16.4 docker-5.0.3 elastic-apm-6.7.2 elasticsearch-7.10.0 faiss-cpu-1.7.2 farm-haystack-1.1.0 gitdb-4.0.9 gitpython-3.1.26 gunicorn-20.1.0 huggingface-hub-0.4.0 isodate-0.6.1 langdetect-1.0.9 mlflow-1.13.1 mmh3-3.0.0 msrest-0.6.21 num2words-0.5.10 prometheus-flask-exporter-0.18.7 psycopg2-binary-2.9.3 pydantic-1.9.0 python-docx-0.8.11 python-editor-1.0.4 pyyaml-6.0 quantulum3-0.7.9 querystring-parser-1.2.4 sacremoses-0.0.47 sentence-transformers-2.1.0 sentencepiece-0.1.96 seqeval-1.2.2 smmap-5.0.0 sqlalchemy-utils-0.38.2 tika-1.24 tokenizers-0.10.3 transformers-4.13.0 websocket-client-1.2.3\n",
            "\u001b[33mWARNING: Running pip as the 'root' user can result in broken permissions and conflicting behaviour with the system package manager. It is recommended to use a virtual environment instead: https://pip.pypa.io/warnings/venv\u001b[0m\u001b[33m\n",
            "\u001b[0m"
          ]
        }
      ],
      "source": [
        "# Install the latest release of Haystack in your own environment\n",
        "#! pip install farm-haystack\n",
        "\n",
        "# Install the latest master of Haystack\n",
        "!pip install --upgrade pip\n",
        "!pip install git+https://github.com/deepset-ai/haystack.git#egg=farm-haystack[colab,faiss]"
      ]
    },
    {
      "cell_type": "code",
      "execution_count": null,
      "metadata": {
        "id": "VcU8-5qxzGLq"
      },
      "outputs": [],
      "source": [
        "from haystack.utils import (convert_files_to_dicts, fetch_archive_from_http,\n",
        "                            clean_wiki_text)\n",
        "from haystack.nodes import Seq2SeqGenerator"
      ]
    },
    {
      "cell_type": "markdown",
      "metadata": {
        "id": "o_J4Gi5SzS5b"
      },
      "source": [
        "### Document Store\n",
        "\n",
        "FAISS is a library for efficient similarity search on a cluster of dense vectors.\n",
        "The `FAISSDocumentStore` uses a SQL(SQLite in-memory be default) database under-the-hood\n",
        "to store the document text and other meta data. The vector embeddings of the text are\n",
        "indexed on a FAISS Index that later is queried for searching answers.\n",
        "The default flavour of FAISSDocumentStore is \"Flat\" but can also be set to \"HNSW\" for\n",
        "faster search at the expense of some accuracy. Just set the faiss_index_factor_str argument in the constructor.\n",
        "For more info on which suits your use case: https://github.com/facebookresearch/faiss/wiki/Guidelines-to-choose-an-index"
      ]
    },
    {
      "cell_type": "code",
      "execution_count": null,
      "metadata": {
        "id": "t04RDZ57zRUY"
      },
      "outputs": [],
      "source": [
        "from haystack.document_stores import FAISSDocumentStore\n",
        "\n",
        "document_store = FAISSDocumentStore(embedding_dim=128, \n",
        "                                    faiss_index_factory_str='Flat')"
      ]
    },
    {
      "cell_type": "markdown",
      "metadata": {
        "id": "2Dmo6Vzqzd09"
      },
      "source": [
        "### Cleaning & indexing documents\n",
        "\n",
        "Similarly to the previous tutorials, we download, convert and index some Game of Thrones articles to our DocumentStore"
      ]
    },
    {
      "cell_type": "code",
      "execution_count": null,
      "metadata": {
        "colab": {
          "base_uri": "https://localhost:8080/",
          "height": 1000
        },
        "id": "Lxh-kfSjzfNO",
        "outputId": "870e7c40-3081-4206-e422-45f980671108"
      },
      "outputs": [
        {
          "name": "stderr",
          "output_type": "stream",
          "text": [
            "INFO - haystack.utils.import_utils -  Fetching from https://s3.eu-central-1.amazonaws.com/deepset.ai-farm-qa/datasets/documents/wiki_gameofthrones_txt.zip to `data/article_txt_got`\n",
            "INFO - haystack.utils.preprocessing -  Converting data/article_txt_got/488_Brienne_of_Tarth.txt\n",
            "INFO - haystack.utils.preprocessing -  Converting data/article_txt_got/28_Jorah_Mormont.txt\n",
            "INFO - haystack.utils.preprocessing -  Converting data/article_txt_got/449_The_Pointy_End.txt\n",
            "INFO - haystack.utils.preprocessing -  Converting data/article_txt_got/77_Game_of_Thrones_Ascent.txt\n",
            "INFO - haystack.utils.preprocessing -  Converting data/article_txt_got/511_After_the_Thrones.txt\n",
            "INFO - haystack.utils.preprocessing -  Converting data/article_txt_got/454_Music_of_Game_of_Thrones.txt\n",
            "INFO - haystack.utils.preprocessing -  Converting data/article_txt_got/367_Gregor_Clegane.txt\n",
            "INFO - haystack.utils.preprocessing -  Converting data/article_txt_got/515_The_Door__Game_of_Thrones_.txt\n",
            "INFO - haystack.utils.preprocessing -  Converting data/article_txt_got/439_Melisandre.txt\n",
            "INFO - haystack.utils.preprocessing -  Converting data/article_txt_got/54_Two_Swords__Game_of_Thrones_.txt\n",
            "INFO - haystack.utils.preprocessing -  Converting data/article_txt_got/408_The_Last_of_the_Starks.txt\n",
            "INFO - haystack.utils.preprocessing -  Converting data/article_txt_got/345_A_Game_of_Thrones__comics_.txt\n",
            "INFO - haystack.utils.preprocessing -  Converting data/article_txt_got/11_The_Dragon_and_the_Wolf.txt\n",
            "INFO - haystack.utils.preprocessing -  Converting data/article_txt_got/22_The_Rains_of_Castamere__song_.txt\n",
            "INFO - haystack.utils.preprocessing -  Converting data/article_txt_got/197_A_Game_of_Thrones.txt\n",
            "INFO - haystack.utils.preprocessing -  Converting data/article_txt_got/453_Game_of_Thrones__2012_video_game_.txt\n",
            "INFO - haystack.utils.preprocessing -  Converting data/article_txt_got/262_Gilly__character_.txt\n",
            "INFO - haystack.utils.preprocessing -  Converting data/article_txt_got/40_Stannis_Baratheon.txt\n",
            "INFO - haystack.utils.preprocessing -  Converting data/article_txt_got/228_Souad_Faress.txt\n",
            "INFO - haystack.utils.preprocessing -  Converting data/article_txt_got/79_Thronecast.txt\n",
            "INFO - haystack.utils.preprocessing -  Converting data/article_txt_got/98_Black_Friday__South_Park_.txt\n",
            "INFO - haystack.utils.preprocessing -  Converting data/article_txt_got/87_Valar_Dohaeris.txt\n",
            "INFO - haystack.utils.preprocessing -  Converting data/article_txt_got/371_Cersei_Lannister.txt\n",
            "INFO - haystack.utils.preprocessing -  Converting data/article_txt_got/210_The_Mountain_and_the_Viper.txt\n",
            "INFO - haystack.utils.preprocessing -  Converting data/article_txt_got/442_Game_of_Thrones__season_1_.txt\n",
            "INFO - haystack.utils.preprocessing -  Converting data/article_txt_got/482_Petyr_Baelish.txt\n",
            "INFO - haystack.utils.preprocessing -  Converting data/article_txt_got/214_Dothraki_language.txt\n",
            "INFO - haystack.utils.preprocessing -  Converting data/article_txt_got/485_Oathkeeper.txt\n",
            "INFO - haystack.utils.preprocessing -  Converting data/article_txt_got/379_Davos_Seaworth.txt\n",
            "INFO - haystack.utils.preprocessing -  Converting data/article_txt_got/343_Catelyn_Stark.txt\n",
            "INFO - haystack.utils.preprocessing -  Converting data/article_txt_got/330_Oberyn_Martell.txt\n",
            "INFO - haystack.utils.preprocessing -  Converting data/article_txt_got/10_Beyond_the_Wall__Game_of_Thrones_.txt\n",
            "INFO - haystack.utils.preprocessing -  Converting data/article_txt_got/329_Robert_Baratheon.txt\n",
            "INFO - haystack.utils.preprocessing -  Converting data/article_txt_got/67_Unbowed__Unbent__Unbroken.txt\n",
            "INFO - haystack.utils.preprocessing -  Converting data/article_txt_got/460_Battle_of_the_Bastards.txt\n",
            "INFO - haystack.utils.preprocessing -  Converting data/article_txt_got/349_List_of_Game_of_Thrones_characters.txt\n",
            "INFO - haystack.utils.preprocessing -  Converting data/article_txt_got/209_Mockingbird__Game_of_Thrones_.txt\n",
            "INFO - haystack.utils.preprocessing -  Converting data/article_txt_got/469_Outline_of_A_Song_of_Ice_and_Fire_franchise.txt\n",
            "INFO - haystack.utils.preprocessing -  Converting data/article_txt_got/306_The_Dance_of_Dragons.txt\n",
            "INFO - haystack.utils.preprocessing -  Converting data/article_txt_got/24_Game_of_Thrones__Season_1__soundtrack_.txt\n",
            "INFO - haystack.utils.preprocessing -  Converting data/article_txt_got/120_And_Now_His_Watch_Is_Ended.txt\n",
            "INFO - haystack.utils.preprocessing -  Converting data/article_txt_got/396_Game_of_Thrones__season_6_.txt\n",
            "INFO - haystack.utils.preprocessing -  Converting data/article_txt_got/450_Baelor.txt\n",
            "INFO - haystack.utils.preprocessing -  Converting data/article_txt_got/403_Jenny_of_Oldstones.txt\n",
            "INFO - haystack.utils.preprocessing -  Converting data/article_txt_got/317_The_Broken_Man.txt\n",
            "INFO - haystack.utils.preprocessing -  Converting data/article_txt_got/512_Home__Game_of_Thrones_.txt\n",
            "INFO - haystack.utils.preprocessing -  Converting data/article_txt_got/134_Game_of_Thrones__Season_6__soundtrack_.txt\n",
            "INFO - haystack.utils.preprocessing -  Converting data/article_txt_got/135_Game_of_Thrones__Season_7__soundtrack_.txt\n",
            "INFO - haystack.utils.preprocessing -  Converting data/article_txt_got/154_Margaery_Tyrell.txt\n",
            "INFO - haystack.utils.preprocessing -  Converting data/article_txt_got/80_A_Song_of_Ice_and_Fire_fandom.txt\n",
            "INFO - haystack.utils.preprocessing -  Converting data/article_txt_got/76_Valar_Morghulis.txt\n",
            "INFO - haystack.utils.preprocessing -  Converting data/article_txt_got/130_Game_of_Thrones_title_sequence.txt\n",
            "INFO - haystack.utils.preprocessing -  Converting data/article_txt_got/85_Game_of_Thrones__Seven_Kingdoms.txt\n",
            "INFO - haystack.utils.preprocessing -  Converting data/article_txt_got/148_Game_of_Thrones__Winter_Is_Coming.txt\n",
            "INFO - haystack.utils.preprocessing -  Converting data/article_txt_got/33_David_Benioff.txt\n",
            "INFO - haystack.utils.preprocessing -  Converting data/article_txt_got/508_A_Game_of_Thrones__Second_Edition__card_game_.txt\n",
            "INFO - haystack.utils.preprocessing -  Converting data/article_txt_got/334_Rickon_Stark.txt\n",
            "INFO - haystack.utils.preprocessing -  Converting data/article_txt_got/373_Tywin_Lannister.txt\n",
            "INFO - haystack.utils.preprocessing -  Converting data/article_txt_got/369_Samwell_Tarly.txt\n",
            "INFO - haystack.utils.preprocessing -  Converting data/article_txt_got/399_For_the_Throne__Music_Inspired_by_the_HBO_Series_Game_of_Thrones.txt\n",
            "INFO - haystack.utils.preprocessing -  Converting data/article_txt_got/233_Myrcella_Baratheon.txt\n",
            "INFO - haystack.utils.preprocessing -  Converting data/article_txt_got/456_Works_based_on_A_Song_of_Ice_and_Fire.txt\n",
            "INFO - haystack.utils.preprocessing -  Converting data/article_txt_got/400_Winterfell__Game_of_Thrones_episode_.txt\n",
            "INFO - haystack.utils.preprocessing -  Converting data/article_txt_got/146_The_Sons_of_the_Dragon.txt\n",
            "INFO - haystack.utils.preprocessing -  Converting data/article_txt_got/477_A_Dance_with_Dragons.txt\n",
            "INFO - haystack.utils.preprocessing -  Converting data/article_txt_got/207_Jon_Snow__character_.txt\n",
            "INFO - haystack.utils.preprocessing -  Converting data/article_txt_got/487_Ramsay_Bolton.txt\n",
            "INFO - haystack.utils.preprocessing -  Converting data/article_txt_got/208_Robb_Stark.txt\n",
            "INFO - haystack.utils.preprocessing -  Converting data/article_txt_got/348_The_Winds_of_Winter.txt\n",
            "INFO - haystack.utils.preprocessing -  Converting data/article_txt_got/151_Ellaria_Sand.txt\n",
            "INFO - haystack.utils.preprocessing -  Converting data/article_txt_got/0_Game_of_Thrones__season_8_.txt\n",
            "INFO - haystack.utils.preprocessing -  Converting data/article_txt_got/424_Night_King.txt\n",
            "INFO - haystack.utils.preprocessing -  Converting data/article_txt_got/420_Blood_of_My_Blood.txt\n",
            "INFO - haystack.utils.preprocessing -  Converting data/article_txt_got/44_Daenerys_Targaryen.txt\n",
            "INFO - haystack.utils.preprocessing -  Converting data/article_txt_got/43_Arya_Stark.txt\n",
            "INFO - haystack.utils.preprocessing -  Converting data/article_txt_got/74_The_Prince_of_Winterfell.txt\n",
            "INFO - haystack.utils.preprocessing -  Converting data/article_txt_got/212_The_Children__Game_of_Thrones_.txt\n",
            "INFO - haystack.utils.preprocessing -  Converting data/article_txt_got/27_Game_of_Thrones__Season_4__soundtrack_.txt\n",
            "INFO - haystack.utils.preprocessing -  Converting data/article_txt_got/401_Power_Is_Power.txt\n",
            "INFO - haystack.utils.preprocessing -  Converting data/article_txt_got/346_Ygritte.txt\n",
            "INFO - haystack.utils.preprocessing -  Converting data/article_txt_got/447_You_Win_or_You_Die.txt\n",
            "INFO - haystack.utils.preprocessing -  Converting data/article_txt_got/229_Game_of_Thrones.txt\n",
            "INFO - haystack.utils.preprocessing -  Converting data/article_txt_got/193_Lord_Snow.txt\n",
            "INFO - haystack.utils.preprocessing -  Converting data/article_txt_got/86_Game_of_Thrones__season_4_.txt\n",
            "INFO - haystack.utils.preprocessing -  Converting data/article_txt_got/514_Book_of_the_Stranger.txt\n",
            "INFO - haystack.utils.preprocessing -  Converting data/article_txt_got/394_Game_of_Thrones__2014_video_game_.txt\n",
            "INFO - haystack.utils.preprocessing -  Converting data/article_txt_got/37_Joffrey_Baratheon.txt\n",
            "INFO - haystack.utils.preprocessing -  Converting data/article_txt_got/73_A_Man_Without_Honor.txt\n",
            "INFO - haystack.utils.preprocessing -  Converting data/article_txt_got/504_List_of_A_Song_of_Ice_and_Fire_video_games.txt\n",
            "INFO - haystack.utils.preprocessing -  Converting data/article_txt_got/9_Game_of_Thrones_Tapestry.txt\n",
            "INFO - haystack.utils.preprocessing -  Converting data/article_txt_got/201_A_Game_of_Thrones__card_game_.txt\n",
            "INFO - haystack.utils.preprocessing -  Converting data/article_txt_got/198_A_Clash_of_Kings.txt\n",
            "INFO - haystack.utils.preprocessing -  Converting data/article_txt_got/362_Winter_Is_Coming.txt\n",
            "INFO - haystack.utils.preprocessing -  Converting data/article_txt_got/55_Breaker_of_Chains.txt\n",
            "INFO - haystack.utils.preprocessing -  Converting data/article_txt_got/191_Gendry.txt\n",
            "INFO - haystack.utils.preprocessing -  Converting data/article_txt_got/56_First_of_His_Name.txt\n",
            "INFO - haystack.utils.preprocessing -  Converting data/article_txt_got/75_Blackwater__Game_of_Thrones_.txt\n",
            "INFO - haystack.utils.preprocessing -  Converting data/article_txt_got/121_The_Bear_and_the_Maiden_Fair.txt\n",
            "INFO - haystack.utils.preprocessing -  Converting data/article_txt_got/69_The_Red_Woman.txt\n",
            "INFO - haystack.utils.preprocessing -  Converting data/article_txt_got/213_Valyrian_languages.txt\n",
            "INFO - haystack.utils.preprocessing -  Converting data/article_txt_got/402_A_Knight_of_the_Seven_Kingdoms__Game_of_Thrones_.txt\n",
            "INFO - haystack.utils.preprocessing -  Converting data/article_txt_got/119_Walk_of_Punishment.txt\n",
            "INFO - haystack.utils.preprocessing -  Converting data/article_txt_got/461_The_Winds_of_Winter__Game_of_Thrones_.txt\n",
            "INFO - haystack.utils.preprocessing -  Converting data/article_txt_got/356_Tales_of_Dunk_and_Egg.txt\n",
            "INFO - haystack.utils.preprocessing -  Converting data/article_txt_got/136_Game_of_Thrones__Season_8__soundtrack_.txt\n",
            "INFO - haystack.utils.preprocessing -  Converting data/article_txt_got/133_Game_of_Thrones__Season_5__soundtrack_.txt\n",
            "INFO - haystack.utils.preprocessing -  Converting data/article_txt_got/368_Jaime_Lannister.txt\n",
            "INFO - haystack.utils.preprocessing -  Converting data/article_txt_got/501_Khal_Drogo.txt\n",
            "INFO - haystack.utils.preprocessing -  Converting data/article_txt_got/102_The_Princess_and_the_Queen.txt\n",
            "INFO - haystack.utils.preprocessing -  Converting data/article_txt_got/331_Bran_Stark.txt\n",
            "INFO - haystack.utils.preprocessing -  Converting data/article_txt_got/39_Renly_Baratheon.txt\n",
            "INFO - haystack.utils.preprocessing -  Converting data/article_txt_got/342_Theon_Greyjoy.txt\n",
            "INFO - haystack.utils.preprocessing -  Converting data/article_txt_got/495_Hodor.txt\n",
            "INFO - haystack.utils.preprocessing -  Converting data/article_txt_got/311_Game_of_Thrones__season_7_.txt\n",
            "INFO - haystack.utils.preprocessing -  Converting data/article_txt_got/1_Dragonstone__Game_of_Thrones_episode_.txt\n",
            "INFO - haystack.utils.preprocessing -  Converting data/article_txt_got/30_List_of_A_Song_of_Ice_and_Fire_characters.txt\n",
            "INFO - haystack.utils.preprocessing -  Converting data/article_txt_got/8_Eastwatch.txt\n",
            "INFO - haystack.utils.preprocessing -  Converting data/article_txt_got/118_Dark_Wings__Dark_Words.txt\n",
            "INFO - haystack.utils.preprocessing -  Converting data/article_txt_got/127_The_Climb__Game_of_Thrones_.txt\n",
            "INFO - haystack.utils.preprocessing -  Converting data/article_txt_got/217_The_Rogue_Prince.txt\n",
            "INFO - haystack.utils.preprocessing -  Converting data/article_txt_got/21_The_Bear_and_the_Maiden_Fair__song_.txt\n",
            "INFO - haystack.utils.preprocessing -  Converting data/article_txt_got/218_Olenna_Tyrell.txt\n",
            "INFO - haystack.utils.preprocessing -  Converting data/article_txt_got/378_A_Game_of_Thrones__board_game_.txt\n",
            "INFO - haystack.utils.preprocessing -  Converting data/article_txt_got/411_The_Iron_Throne__Game_of_Thrones_.txt\n",
            "INFO - haystack.utils.preprocessing -  Converting data/article_txt_got/78_The_Rains_of_Castamere.txt\n",
            "INFO - haystack.utils.preprocessing -  Converting data/article_txt_got/51_Iron_Throne__A_Song_of_Ice_and_Fire_.txt\n",
            "INFO - haystack.utils.preprocessing -  Converting data/article_txt_got/97_Tyrion_Lannister.txt\n",
            "INFO - haystack.utils.preprocessing -  Converting data/article_txt_got/340_Roose_Bolton.txt\n",
            "INFO - haystack.utils.preprocessing -  Converting data/article_txt_got/443_The_Kingsroad.txt\n",
            "INFO - haystack.utils.preprocessing -  Converting data/article_txt_got/99_A_Song_of_Ass_and_Fire.txt\n",
            "INFO - haystack.utils.preprocessing -  Converting data/article_txt_got/202_A_Feast_for_Crows.txt\n",
            "INFO - haystack.utils.preprocessing -  Converting data/article_txt_got/25_Game_of_Thrones__Season_2__soundtrack_.txt\n",
            "INFO - haystack.utils.preprocessing -  Converting data/article_txt_got/481_Sandor_Clegane.txt\n",
            "INFO - haystack.utils.preprocessing -  Converting data/article_txt_got/129_Second_Sons.txt\n",
            "INFO - haystack.utils.preprocessing -  Converting data/article_txt_got/395_Game_of_Thrones__season_5_.txt\n",
            "INFO - haystack.utils.preprocessing -  Converting data/article_txt_got/53_The_Lion_and_the_Rose.txt\n",
            "INFO - haystack.utils.preprocessing -  Converting data/article_txt_got/513_Oathbreaker__Game_of_Thrones_.txt\n",
            "INFO - haystack.utils.preprocessing -  Converting data/article_txt_got/360_List_of_Game_of_Thrones_episodes.txt\n",
            "INFO - haystack.utils.preprocessing -  Converting data/article_txt_got/480_Varys.txt\n",
            "INFO - haystack.utils.preprocessing -  Converting data/article_txt_got/126_Kissed_by_Fire.txt\n",
            "INFO - haystack.utils.preprocessing -  Converting data/article_txt_got/26_Game_of_Thrones__Season_3__soundtrack_.txt\n",
            "INFO - haystack.utils.preprocessing -  Converting data/article_txt_got/299_Rani_Mahal__TV_series_.txt\n",
            "INFO - haystack.utils.preprocessing -  Converting data/article_txt_got/52_Catch_the_Throne.txt\n",
            "INFO - haystack.utils.preprocessing -  Converting data/article_txt_got/84_List_of_awards_and_nominations_received_by_Game_of_Thrones.txt\n",
            "INFO - haystack.utils.preprocessing -  Converting data/article_txt_got/2_Stormborn.txt\n",
            "INFO - haystack.utils.preprocessing -  Converting data/article_txt_got/20_Light_of_the_Seven.txt\n",
            "INFO - haystack.utils.preprocessing -  Converting data/article_txt_got/57_The_Laws_of_Gods_and_Men.txt\n",
            "INFO - haystack.utils.preprocessing -  Converting data/article_txt_got/194_A_Song_of_Ice_and_Fire.txt\n",
            "INFO - haystack.utils.preprocessing -  Converting data/article_txt_got/410_The_Bells__Game_of_Thrones_.txt\n",
            "INFO - haystack.utils.preprocessing -  Converting data/article_txt_got/304_Hardhome.txt\n",
            "INFO - haystack.utils.preprocessing -  Converting data/article_txt_got/358_A_Game_of_Thrones__Genesis.txt\n",
            "INFO - haystack.utils.preprocessing -  Converting data/article_txt_got/232_Tommen_Baratheon.txt\n",
            "INFO - haystack.utils.preprocessing -  Converting data/article_txt_got/407_The_Long_Night__Game_of_Thrones_.txt\n",
            "INFO - haystack.utils.preprocessing -  Converting data/article_txt_got/195_World_of_A_Song_of_Ice_and_Fire.txt\n",
            "INFO - haystack.utils.preprocessing -  Converting data/article_txt_got/425_No_One__Game_of_Thrones_.txt\n",
            "INFO - haystack.utils.preprocessing -  Converting data/article_txt_got/310_Mother_s_Mercy.txt\n",
            "INFO - haystack.utils.preprocessing -  Converting data/article_txt_got/199_A_Storm_of_Swords.txt\n",
            "INFO - haystack.utils.preprocessing -  Converting data/article_txt_got/101_Titties_and_Dragons.txt\n",
            "INFO - haystack.utils.preprocessing -  Converting data/article_txt_got/359_Kill_the_Boy.txt\n",
            "INFO - haystack.utils.preprocessing -  Converting data/article_txt_got/445_The_Wolf_and_the_Lion.txt\n",
            "INFO - haystack.utils.preprocessing -  Converting data/article_txt_got/446_A_Golden_Crown.txt\n",
            "INFO - haystack.utils.preprocessing -  Converting data/article_txt_got/347_Game_of_Thrones__season_2_.txt\n",
            "INFO - haystack.utils.preprocessing -  Converting data/article_txt_got/365_A_Song_of_Ice_and_Fire_Roleplaying.txt\n",
            "INFO - haystack.utils.preprocessing -  Converting data/article_txt_got/273_High_Sparrow.txt\n",
            "INFO - haystack.utils.preprocessing -  Converting data/article_txt_got/444_Cripples__Bastards__and_Broken_Things.txt\n",
            "INFO - haystack.utils.preprocessing -  Converting data/article_txt_got/452_Fire_and_Blood__Game_of_Thrones_.txt\n",
            "INFO - haystack.utils.preprocessing -  Converting data/article_txt_got/131_Mhysa.txt\n",
            "INFO - haystack.utils.preprocessing -  Converting data/article_txt_got/7_The_Spoils_of_War__Game_of_Thrones_.txt\n",
            "INFO - haystack.utils.preprocessing -  Converting data/article_txt_got/68_The_Gift__Game_of_Thrones_.txt\n",
            "INFO - haystack.utils.preprocessing -  Converting data/article_txt_got/23_Game_of_Thrones_Live_Concert_Experience.txt\n",
            "INFO - haystack.utils.preprocessing -  Converting data/article_txt_got/145_Elio_M._García_Jr._and_Linda_Antonsson.txt\n",
            "INFO - haystack.utils.preprocessing -  Converting data/article_txt_got/12_Fire.txt\n",
            "INFO - haystack.utils.preprocessing -  Converting data/article_txt_got/211_The_Watchers_on_the_Wall.txt\n",
            "INFO - haystack.utils.preprocessing -  Converting data/article_txt_got/506_Game_of_Thrones_Theme.txt\n",
            "INFO - haystack.utils.preprocessing -  Converting data/article_txt_got/474_Bronn__character_.txt\n",
            "INFO - haystack.utils.preprocessing -  Converting data/article_txt_got/224_The_Night_Lands.txt\n",
            "INFO - haystack.utils.preprocessing -  Converting data/article_txt_got/332_Sansa_Stark.txt\n",
            "INFO - haystack.utils.preprocessing -  Converting data/article_txt_got/3_The_Queen_s_Justice.txt\n",
            "INFO - haystack.utils.preprocessing -  Converting data/article_txt_got/341_Ned_Stark.txt\n",
            "INFO - haystack.utils.preprocessing -  Converting data/article_txt_got/160_Viserys_Targaryen.txt\n",
            "INFO - haystack.utils.preprocessing -  Converting data/article_txt_got/435_White_Walker.txt\n",
            "INFO - haystack.utils.preprocessing -  Converting data/article_txt_got/475_A_Game_of_Thrones__role-playing_game_.txt\n",
            "INFO - haystack.utils.preprocessing -  Converting data/article_txt_got/263_Tormund_Giantsbane.txt\n"
          ]
        },
        {
          "data": {
            "application/vnd.jupyter.widget-view+json": {
              "model_id": "9249b64add404474952a144c3f602e00",
              "version_major": 2,
              "version_minor": 0
            },
            "text/plain": [
              "Writing Documents:   0%|          | 0/2497 [00:00<?, ?it/s]"
            ]
          },
          "metadata": {},
          "output_type": "display_data"
        }
      ],
      "source": [
        "# Let's first get some files that we want to use\n",
        "doc_dir = \"data/article_txt_got\"\n",
        "s3_url = \"https://s3.eu-central-1.amazonaws.com/deepset.ai-farm-qa/datasets/documents/wiki_gameofthrones_txt.zip\"\n",
        "fetch_archive_from_http(url=s3_url, output_dir=doc_dir)\n",
        "\n",
        "# Convert files to dicts\n",
        "dicts = convert_files_to_dicts(dir_path=doc_dir, clean_func=clean_wiki_text, split_paragraphs=True)\n",
        "\n",
        "# Now, let's write the dicts containing documents to our DB.\n",
        "document_store.write_documents(dicts)"
      ]
    },
    {
      "cell_type": "markdown",
      "metadata": {
        "id": "-AOG7lNazk9A"
      },
      "source": [
        "### Initalize Retriever and Reader/Generator\n",
        "\n",
        "#### Retriever\n",
        "\n",
        "**Here:** We use a `RetribertRetriever` and we invoke `update_embeddings` to index the embeddings of documents in the `FAISSDocumentStore`\n",
        "\n"
      ]
    },
    {
      "cell_type": "code",
      "execution_count": null,
      "metadata": {
        "colab": {
          "background_save": true,
          "base_uri": "https://localhost:8080/",
          "height": 333
        },
        "id": "guxRbnVRzlIX",
        "outputId": "60c0946b-3463-4b18-b980-80bb04319eb1"
      },
      "outputs": [
        {
          "name": "stderr",
          "output_type": "stream",
          "text": [
            "INFO - haystack.modeling.utils -  Using devices: CPU\n",
            "INFO - haystack.modeling.utils -  Number of GPUs: 0\n",
            "INFO - haystack.nodes.retriever.dense -  Init retriever using embeddings of model yjernite/retribert-base-uncased\n"
          ]
        },
        {
          "data": {
            "application/vnd.jupyter.widget-view+json": {
              "model_id": "7942ddb93ae8465b9725fd6df4d74819",
              "version_major": 2,
              "version_minor": 0
            },
            "text/plain": [
              "Downloading:   0%|          | 0.00/487 [00:00<?, ?B/s]"
            ]
          },
          "metadata": {},
          "output_type": "display_data"
        },
        {
          "data": {
            "application/vnd.jupyter.widget-view+json": {
              "model_id": "061f7bfaf57243b891309ca71c8db785",
              "version_major": 2,
              "version_minor": 0
            },
            "text/plain": [
              "Downloading:   0%|          | 0.00/226k [00:00<?, ?B/s]"
            ]
          },
          "metadata": {},
          "output_type": "display_data"
        },
        {
          "data": {
            "application/vnd.jupyter.widget-view+json": {
              "model_id": "b1280736af5a4baab65be1ab8270df74",
              "version_major": 2,
              "version_minor": 0
            },
            "text/plain": [
              "Downloading:   0%|          | 0.00/455k [00:00<?, ?B/s]"
            ]
          },
          "metadata": {},
          "output_type": "display_data"
        },
        {
          "data": {
            "application/vnd.jupyter.widget-view+json": {
              "model_id": "515e4a058ce4472fb2950d9e9275f1cc",
              "version_major": 2,
              "version_minor": 0
            },
            "text/plain": [
              "Downloading:   0%|          | 0.00/310M [00:00<?, ?B/s]"
            ]
          },
          "metadata": {},
          "output_type": "display_data"
        },
        {
          "name": "stderr",
          "output_type": "stream",
          "text": [
            "Some weights of RetriBertModel were not initialized from the model checkpoint at yjernite/retribert-base-uncased and are newly initialized: ['bert_query.embeddings.position_ids']\n",
            "You should probably TRAIN this model on a down-stream task to be able to use it for predictions and inference.\n",
            "INFO - haystack.document_stores.faiss -  Updating embeddings for 2357 docs...\n"
          ]
        },
        {
          "data": {
            "application/vnd.jupyter.widget-view+json": {
              "model_id": "f29de93fb5614bbe85c8ecfd4b1f3025",
              "version_major": 2,
              "version_minor": 0
            },
            "text/plain": [
              "Updating Embedding:   0%|          | 0/2357 [00:00<?, ? docs/s]"
            ]
          },
          "metadata": {},
          "output_type": "display_data"
        },
        {
          "data": {
            "application/vnd.jupyter.widget-view+json": {
              "model_id": "9ba0f3c6a7014435bb1c49aed22cc9df",
              "version_major": 2,
              "version_minor": 0
            },
            "text/plain": [
              "Creating Embeddings:   0%|          | 0/74 [00:00<?, ? Batches/s]"
            ]
          },
          "metadata": {},
          "output_type": "display_data"
        }
      ],
      "source": [
        "from haystack.nodes import EmbeddingRetriever\n",
        "\n",
        "retriever = EmbeddingRetriever(\n",
        "    document_store=document_store,\n",
        "     embedding_model='yjernite/retribert-base-uncased',\n",
        "     model_format='retribert'\n",
        ")\n",
        "\n",
        "document_store.update_embeddings(retriever)"
      ]
    },
    {
      "cell_type": "markdown",
      "metadata": {
        "id": "wDNReoTFz3vg"
      },
      "source": [
        "Before we blindly use the `RetribertRetriever` let's empirically test it to make sure a simple search indeed finds the relevant documents."
      ]
    },
    {
      "cell_type": "code",
      "execution_count": null,
      "metadata": {
        "colab": {
          "background_save": true,
          "base_uri": "https://localhost:8080/"
        },
        "id": "SjAMMyORz4Ik",
        "outputId": "0679a4c3-4f6d-46b1-f891-6fc2320e63f7"
      },
      "outputs": [
        {
          "name": "stdout",
          "output_type": "stream",
          "text": [
            "\n",
            "Query: Tell me something about Arya Stark?\n",
            "\n",
            "{   'content': '\\n'\n",
            "               '=== Arya Stark ===\\n'\n",
            "               'Arya Stark is the third child and younger daughter of Eddard '\n",
            "               'and Catelyn Stark. She serves as a POV character for 33 '\n",
            "               \"chapters throughout ''A Game of Thrones'', ''A Clash of \"\n",
            "               \"Kings'', ''A Storm of Swords'', ''A Feast for Crows'', and ''A \"\n",
            "               \"Dance with Dragons''. So far she is the only character to \"\n",
            "               'appear in all 5 books as a POV character.\\n'\n",
            "               'In the HBO television adaptation, she is portrayed by Maisie '\n",
            "               'Williams.',\n",
            "    'name': '30_List_of_A_Song_of_Ice_and_Fire_characters.txt'}\n",
            "\n",
            "{   'content': '\\n'\n",
            "               '=== Background ===\\n'\n",
            "               'Arya is the third child and younger daughter of Eddard and '\n",
            "               'Catelyn Stark and is nine years old at the beginning of the '\n",
            "               'book series.  She has five siblings: an older brother Robb, an '\n",
            "               'older sister Sansa, two younger brothers Bran and Rickon, and '\n",
            "               'an older illegitimate half-brother, Jon Snow.',\n",
            "    'name': '43_Arya_Stark.txt'}\n",
            "\n",
            "{   'content': '\\n'\n",
            "               '===Arya Stark===\\n'\n",
            "               \"'''Arya Stark''' portrayed by Maisie Williams. Arya Stark of \"\n",
            "               'House Stark is the younger daughter and third child of Lord '\n",
            "               'Eddard and Catelyn Stark of Winterfell. Ever the tomboy, Arya '\n",
            "               'would rather be training to use weapons than sewing with a '\n",
            "               'needle. She names her direwolf Nymeria, after a legendary '\n",
            "               'warrior queen.',\n",
            "    'name': '349_List_of_Game_of_Thrones_characters.txt'}\n",
            "\n",
            "{   'content': '\\n'\n",
            "               '==Character description==\\n'\n",
            "               'Catelyn Stark is described as beautiful, with fair skin, long '\n",
            "               'auburn hair, blue eyes, long fingers, high cheekbones and full '\n",
            "               'breasts, and dressed simply in the grey color of House Stark '\n",
            "               'or the blue and red of her father’s House Tully.  She is '\n",
            "               'proud, strong, kind and generous, has a strong grasp of '\n",
            "               'politics, and is often governed by the desire to protect her '\n",
            "               'children.  Catelyn is usually in accord with her husband '\n",
            "               'Eddard Stark, but resents his admission of his illegitimate '\n",
            "               'son Jon ...',\n",
            "    'name': '343_Catelyn_Stark.txt'}\n",
            "\n",
            "{   'content': '\\n'\n",
            "               '===Sansa Stark===\\n'\n",
            "               \"'''Sansa Stark''' portrayed by Sophie Turner. Sansa Stark of \"\n",
            "               'House Stark is the first daughter and second child of Eddard '\n",
            "               'and Catelyn Stark. She was also the future bride of Prince '\n",
            "               'Joffrey, and thus the future Queen of the Seven Kingdoms as '\n",
            "               'well. She names her direwolf Lady; she is the smallest of the '\n",
            "               'pack and the first to die, sentenced to death by Cersei after '\n",
            "               \"Arya's direwolf, Nymeria, bit a violent Joffrey.\",\n",
            "    'name': '349_List_of_Game_of_Thrones_characters.txt'}\n",
            "\n",
            "{   'content': '\\n'\n",
            "               '=== Sansa Stark ===\\n'\n",
            "               'Sansa Stark is the second child and elder daughter of Eddard '\n",
            "               'and Catelyn Stark. She serves as a POV character for 24 '\n",
            "               \"chapters throughout ''A Game of Thrones'', ''A Clash of \"\n",
            "               \"Kings'', ''A Storm of Swords'', and ''A Feast for Crows''. \"\n",
            "               'Sansa is introduced as beautiful and demure.\\n'\n",
            "               'In the HBO television adaptation, she is portrayed by Sophie '\n",
            "               'Turner.',\n",
            "    'name': '30_List_of_A_Song_of_Ice_and_Fire_characters.txt'}\n",
            "\n",
            "{   'content': '\\n'\n",
            "               '== Character description ==\\n'\n",
            "               'Ser Gregor Clegane, known as the Mountain That Rides, or '\n",
            "               'simply the Mountain, is the older brother of Sandor Clegane '\n",
            "               'and is a vassal to Tywin Lannister. His size and strength make '\n",
            "               'him a fearsome warrior (in the novels he is nearly 8 feet '\n",
            "               'tall, and weighs over 400 lbs.), and he has earned a '\n",
            "               'reputation for brutality. When they were children, Gregor '\n",
            "               \"shoved Sandor's face into a brazier for using his toy, \"\n",
            "               'gruesomely scarring him. Over the course of his service to '\n",
            "               'House Lannister, he ...',\n",
            "    'name': '367_Gregor_Clegane.txt'}\n",
            "\n",
            "{   'content': '\\n'\n",
            "               '==Character profile==\\n'\n",
            "               'Olenna Tyrell, also known as the Queen of Thorns, is a former '\n",
            "               'Redwyne and the mother of Mace Tyrell. She is described as a '\n",
            "               'wizened and cunning old woman with a wicked wit and a sharp '\n",
            "               'tongue, and is known for openly stating her opinion.\\n'\n",
            "               'Olenna is not a point of view character in the novels, so her '\n",
            "               'actions are witnessed and interpreted through the eyes of '\n",
            "               'other people, such as Sansa Stark and Cersei Lannister. Olenna '\n",
            "               'is mostly a background character in the novels.',\n",
            "    'name': '218_Olenna_Tyrell.txt'}\n",
            "\n",
            "{   'content': \"'''Arya Stark''' is a fictional character in American author \"\n",
            "               \"George R. R. Martin's ''A Song of Ice and Fire'' epic fantasy \"\n",
            "               'novel series.  She is a prominent point of view character in '\n",
            "               'the novels with the third most viewpoint chapters, and is the '\n",
            "               'only viewpoint character to have appeared in every published '\n",
            "               'book of the series.\\n'\n",
            "               \"Introduced in 1996's ''A Game of Thrones'', Arya is the third \"\n",
            "               'child and younger daughter of Lord Eddard Stark and his wife '\n",
            "               'Lady Catelyn Stark.  She is tomboyish, headstrong, feisty, '\n",
            "               'ind...',\n",
            "    'name': '43_Arya_Stark.txt'}\n",
            "\n",
            "{   'content': '\\n'\n",
            "               '=== Jon Snow ===\\n'\n",
            "               \"Jon Snow was raised as Ned Stark's illegitimate son and serves \"\n",
            "               \"as the point of view character in 42 chapters throughout ''A \"\n",
            "               \"Game of Thrones'', ''A Clash of Kings'', ''A Storm of \"\n",
            "               \"Swords'', and ''A Dance with Dragons''. He shares the Stark \"\n",
            "               'family values of honour, and tries to stay morally correct and '\n",
            "               'honest, even when forced to act otherwise.  He is theorized to '\n",
            "               \"be the son of Lyanna Stark, Ned Stark's sister, and Rhaegar \"\n",
            "               'Targaryen.\\n'\n",
            "               'In the HBO television adaptation, he is portrayed by Kit Ha...',\n",
            "    'name': '30_List_of_A_Song_of_Ice_and_Fire_characters.txt'}\n",
            "\n"
          ]
        }
      ],
      "source": [
        "from haystack.utils import print_documents\n",
        "from haystack.pipelines import DocumentSearchPipeline\n",
        "\n",
        "p_retrieval = DocumentSearchPipeline(retriever)\n",
        "res = p_retrieval.run(query=\"Tell me something about Arya Stark?\", params={\"Retriever\": {\"top_k\": 10}})\n",
        "print_documents(res, max_text_len=512)"
      ]
    },
    {
      "cell_type": "markdown",
      "metadata": {
        "id": "DfvixQrRz9tV"
      },
      "source": [
        "#### Reader/Generator\n",
        "\n",
        "Similar to previous Tutorials we now initalize our reader/generator.\n",
        "\n",
        "Here we use a `Seq2SeqGenerator` with the *yjernite/bart_eli5* model (see: https://huggingface.co/yjernite/bart_eli5)\n",
        "\n"
      ]
    },
    {
      "cell_type": "code",
      "execution_count": null,
      "metadata": {
        "colab": {
          "background_save": true,
          "base_uri": "https://localhost:8080/",
          "height": 212
        },
        "id": "I2Klq_-Dz-Jc",
        "outputId": "eb566959-0658-4eb4-c639-16433508c7b3"
      },
      "outputs": [
        {
          "name": "stderr",
          "output_type": "stream",
          "text": [
            "INFO - haystack.modeling.utils -  Using devices: CPU\n",
            "INFO - haystack.modeling.utils -  Number of GPUs: 0\n"
          ]
        },
        {
          "data": {
            "application/vnd.jupyter.widget-view+json": {
              "model_id": "591864e5c2144111b9400617bba4ea1c",
              "version_major": 2,
              "version_minor": 0
            },
            "text/plain": [
              "Downloading:   0%|          | 0.00/1.29k [00:00<?, ?B/s]"
            ]
          },
          "metadata": {},
          "output_type": "display_data"
        },
        {
          "data": {
            "application/vnd.jupyter.widget-view+json": {
              "model_id": "7caf0a87a83240d3b4359ba602ea1875",
              "version_major": 2,
              "version_minor": 0
            },
            "text/plain": [
              "Downloading:   0%|          | 0.00/878k [00:00<?, ?B/s]"
            ]
          },
          "metadata": {},
          "output_type": "display_data"
        },
        {
          "data": {
            "application/vnd.jupyter.widget-view+json": {
              "model_id": "3657bcd1b58248be92db3bc0f058c880",
              "version_major": 2,
              "version_minor": 0
            },
            "text/plain": [
              "Downloading:   0%|          | 0.00/446k [00:00<?, ?B/s]"
            ]
          },
          "metadata": {},
          "output_type": "display_data"
        },
        {
          "data": {
            "application/vnd.jupyter.widget-view+json": {
              "model_id": "27fc703ab5f74108bf62ff50ac457055",
              "version_major": 2,
              "version_minor": 0
            },
            "text/plain": [
              "Downloading:   0%|          | 0.00/1.29M [00:00<?, ?B/s]"
            ]
          },
          "metadata": {},
          "output_type": "display_data"
        },
        {
          "data": {
            "application/vnd.jupyter.widget-view+json": {
              "model_id": "70e401d00d1c41d886d346c784e4ce14",
              "version_major": 2,
              "version_minor": 0
            },
            "text/plain": [
              "Downloading:   0%|          | 0.00/1.51G [00:00<?, ?B/s]"
            ]
          },
          "metadata": {},
          "output_type": "display_data"
        }
      ],
      "source": [
        "generator = Seq2SeqGenerator(model_name_or_path='yjernite/bart_eli5')"
      ]
    },
    {
      "cell_type": "markdown",
      "metadata": {
        "id": "8ZCsBqnu0GY4"
      },
      "source": [
        "### Pipeline\n",
        "\n",
        "With a Haystack `Pipeline` you can stick together your building blocks to a search pipeline.\n",
        "Under the hood, `Pipelines` are Directed Acyclic Graphs (DAGs) that you can easily customize for your own use cases.\n",
        "To speed things up, Haystack also comes with a few predefined Pipelines. One of them is the `GenerativeQAPipeline` that combines a retriever and a reader/generator to answer our questions.\n",
        "You can learn more about `Pipelines` in the [docs](https://haystack.deepset.ai/docs/latest/pipelinesmd)."
      ]
    },
    {
      "cell_type": "code",
      "execution_count": null,
      "metadata": {
        "colab": {
          "background_save": true
        },
        "id": "pp3ewANN0Gti"
      },
      "outputs": [],
      "source": [
        "from haystack.pipelines import GenerativeQAPipeline\n",
        "\n",
        "pipe = GenerativeQAPipeline(generator, retriever)"
      ]
    },
    {
      "cell_type": "code",
      "execution_count": null,
      "metadata": {
        "colab": {
          "background_save": true,
          "base_uri": "https://localhost:8080/"
        },
        "id": "UiNRs-tq0Ief",
        "outputId": "ad78e9f7-2a31-4527-992d-9019a41f18b6"
      },
      "outputs": [
        {
          "data": {
            "text/plain": [
              "{'answers': [<Answer {'answer': \" Because it's a TV show, and TV shows are usually written by the same people who wrote the book.\", 'type': 'generative', 'score': None, 'context': None, 'offsets_in_document': None, 'offsets_in_context': None, 'document_id': None, 'meta': {'doc_ids': ['dd0b01f4aee992b812874ee52dbad39e'], 'doc_scores': [0.5549765288619116], 'content': [\"\\n=== Television series ===\\nArya Stark is portrayed by English actress Maisie Williams in the television adaption of the book series, this being Williams' first role as an actress. Williams was chosen from among 300 actresses across England.\\nMaisie Williams plays the role of Arya Stark in the television series.\"], 'titles': ['43_Arya_Stark.txt']}}>],\n",
              " 'documents': [<Document: {'content': \"\\n=== Television series ===\\nArya Stark is portrayed by English actress Maisie Williams in the television adaption of the book series, this being Williams' first role as an actress. Williams was chosen from among 300 actresses across England.\\nMaisie Williams plays the role of Arya Stark in the television series.\", 'content_type': 'text', 'score': 0.5549765288619116, 'meta': {'name': '43_Arya_Stark.txt', 'vector_id': '242'}, 'embedding': None, 'id': 'dd0b01f4aee992b812874ee52dbad39e'}>],\n",
              " 'node_id': 'Generator',\n",
              " 'params': {'Retriever': {'top_k': 1}},\n",
              " 'query': \"Why did Arya Stark's character get portrayed in a television adaptation?\",\n",
              " 'root_node': 'Query'}"
            ]
          },
          "execution_count": null,
          "metadata": {},
          "output_type": "execute_result"
        }
      ],
      "source": [
        "pipe.run(\n",
        "    query=\"Why did Arya Stark's character get portrayed in a television adaptation?\", params={\"Retriever\": {\"top_k\": 1}}\n",
        ")"
      ]
    },
    {
      "cell_type": "code",
      "execution_count": null,
      "metadata": {
        "colab": {
          "background_save": true,
          "base_uri": "https://localhost:8080/"
        },
        "id": "vHFvLLGE0IhO",
        "outputId": "edfdc732-e9df-443e-8503-04b6755d7293"
      },
      "outputs": [
        {
          "data": {
            "text/plain": [
              "{'answers': [<Answer {'answer': \" Arya Stark is a character in George R.R. Martin's *A Song of Ice and Fire* epic fantasy novel series. She is a prominent point of view in the novels with the third most viewpoint chapters, and is the only viewpoint character in every published book of the series.\", 'type': 'generative', 'score': None, 'context': None, 'offsets_in_document': None, 'offsets_in_context': None, 'document_id': None, 'meta': {'doc_ids': ['2ee56bdd46dfd30b23f91bcc046456a4'], 'doc_scores': [0.5557039770593725], 'content': [\"'''Arya Stark''' is a fictional character in American author George R. R. Martin's ''A Song of Ice and Fire'' epic fantasy novel series.  She is a prominent point of view character in the novels with the third most viewpoint chapters, and is the only viewpoint character to have appeared in every published book of the series.\\nIntroduced in 1996's ''A Game of Thrones'', Arya is the third child and younger daughter of Lord Eddard Stark and his wife Lady Catelyn Stark.  She is tomboyish, headstrong, feisty, independent, disdains traditional female pursuits, and is often mistaken for a boy.  She wields a smallsword named Needle, a gift from her half-brother, Jon Snow, and is trained in the Braavosi style of sword fighting by Syrio Forel.\\nArya is portrayed by English actress Maisie Williams in HBO's Emmy-winning television adaptation of the novel series, ''Game of Thrones''.  Her performance has garnered critical acclaim, particularly in the second season for her work opposite veteran actor Charles Dance (Tywin Lannister) when she served as his cupbearer. She is among the most popular characters in either version of the story.  Williams was nominated for a Primetime Emmy Award for Outstanding Supporting Actress in a Drama Series for the role in 2016. She and the rest of the cast were nominated for Screen Actors Guild Awards for Outstanding Performance by an Ensemble in a Drama Series in 2011, 2013, 2014, 2015, 2016 and 2017.\"], 'titles': ['43_Arya_Stark.txt']}}>],\n",
              " 'documents': [<Document: {'content': \"'''Arya Stark''' is a fictional character in American author George R. R. Martin's ''A Song of Ice and Fire'' epic fantasy novel series.  She is a prominent point of view character in the novels with the third most viewpoint chapters, and is the only viewpoint character to have appeared in every published book of the series.\\nIntroduced in 1996's ''A Game of Thrones'', Arya is the third child and younger daughter of Lord Eddard Stark and his wife Lady Catelyn Stark.  She is tomboyish, headstrong, feisty, independent, disdains traditional female pursuits, and is often mistaken for a boy.  She wields a smallsword named Needle, a gift from her half-brother, Jon Snow, and is trained in the Braavosi style of sword fighting by Syrio Forel.\\nArya is portrayed by English actress Maisie Williams in HBO's Emmy-winning television adaptation of the novel series, ''Game of Thrones''.  Her performance has garnered critical acclaim, particularly in the second season for her work opposite veteran actor Charles Dance (Tywin Lannister) when she served as his cupbearer. She is among the most popular characters in either version of the story.  Williams was nominated for a Primetime Emmy Award for Outstanding Supporting Actress in a Drama Series for the role in 2016. She and the rest of the cast were nominated for Screen Actors Guild Awards for Outstanding Performance by an Ensemble in a Drama Series in 2011, 2013, 2014, 2015, 2016 and 2017.\", 'content_type': 'text', 'score': 0.5557039770593725, 'meta': {'name': '43_Arya_Stark.txt', 'vector_id': '233'}, 'embedding': None, 'id': '2ee56bdd46dfd30b23f91bcc046456a4'}>],\n",
              " 'node_id': 'Generator',\n",
              " 'params': {'Retriever': {'top_k': 1}},\n",
              " 'query': 'What kind of character does Arya Stark play?',\n",
              " 'root_node': 'Query'}"
            ]
          },
          "execution_count": null,
          "metadata": {},
          "output_type": "execute_result"
        }
      ],
      "source": [
        "pipe.run(query=\"What kind of character does Arya Stark play?\", params={\"Retriever\": {\"top_k\": 1}})"
      ]
    },
    {
      "cell_type": "code",
      "execution_count": null,
      "metadata": {
        "id": "cQ45OxN_0mZ5"
      },
      "outputs": [],
      "source": []
    }
  ],
  "metadata": {
    "accelerator": "GPU",
    "colab": {
      "provenance": [],
      "authorship_tag": "ABX9TyNZ9Q2lkUwb2/ksDSqFuiN9",
      "include_colab_link": true
    },
    "kernelspec": {
      "display_name": "Python 3",
      "name": "python3"
    },
    "language_info": {
      "name": "python"
    }
  },
  "nbformat": 4,
  "nbformat_minor": 0
}