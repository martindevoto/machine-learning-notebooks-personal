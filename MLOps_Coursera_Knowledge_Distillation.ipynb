{
  "nbformat": 4,
  "nbformat_minor": 0,
  "metadata": {
    "colab": {
      "provenance": [],
      "authorship_tag": "ABX9TyN1V53+RjHktM+jYqQbXWQi",
      "include_colab_link": true
    },
    "kernelspec": {
      "name": "python3",
      "display_name": "Python 3"
    },
    "language_info": {
      "name": "python"
    },
    "accelerator": "GPU"
  },
  "cells": [
    {
      "cell_type": "markdown",
      "metadata": {
        "id": "view-in-github",
        "colab_type": "text"
      },
      "source": [
        "<a href=\"https://colab.research.google.com/github/martindevoto/machine-learning-notebooks-personal/blob/main/MLOps_Coursera_Knowledge_Distillation.ipynb\" target=\"_parent\"><img src=\"https://colab.research.google.com/assets/colab-badge.svg\" alt=\"Open In Colab\"/></a>"
      ]
    },
    {
      "cell_type": "markdown",
      "source": [
        "# Ungraded Lab: Knowledge Distillation\n",
        "------------------------\n",
        " \n",
        "Welcome, during this ungraded lab you are going to perform a model compression technique known as **knowledge distillation** in which a `student` model \"learns\" from a more complex model known as the `teacher`. In particular you will:\n",
        "\n",
        "\n",
        "1. Define a `Distiller` class with the custom logic for the distillation process.\n",
        "2. Train the `teacher` model which is a CNN that implements regularization via dropout.\n",
        "3. Train a `student` model (a smaller version of the teacher without regularization) by using knowledge distillation.\n",
        "4. Train another `student` model from scratch without distillation called `student_scratch`.\n",
        "5. Compare the three students.\n",
        "\n",
        "\n",
        "This notebook is based on [this](https://keras.io/examples/vision/knowledge_distillation/) official Keras tutorial. \n",
        "\n",
        "If you want a more theoretical approach to this topic be sure to check this paper [Hinton et al. (2015)](https://arxiv.org/abs/1503.02531). \n",
        "\n",
        "Let's get started!\n"
      ],
      "metadata": {
        "id": "RJOgVXW0xB1o"
      }
    },
    {
      "cell_type": "markdown",
      "source": [
        "## Imports"
      ],
      "metadata": {
        "id": "dBGO3NOMylKz"
      }
    },
    {
      "cell_type": "code",
      "execution_count": null,
      "metadata": {
        "id": "lONQxNKew94c"
      },
      "outputs": [],
      "source": [
        "# NOTE (05/16/2022) - The default URL for downloading the dataset via TFDS is currently invalid. This piece of code\n",
        "# will patch that URL with the correct one. Please run this before importing the packages. If it fails, kindly report\n",
        "# in our Discourse community. Thank you!\n",
        "\n",
        "DATASET_PATH = '/usr/local/lib/python3.7/dist-packages/tensorflow_datasets/image_classification/cats_vs_dogs.py'\n",
        "!sed -i 's/3367a/5340/g' {DATASET_PATH}"
      ]
    },
    {
      "cell_type": "code",
      "source": [
        "# For setting random seeds\n",
        "import os\n",
        "os.environ['PYTHONHASHSEED'] = str(42)\n",
        "\n",
        "# Libraries\n",
        "import random\n",
        "import numpy as np\n",
        "import pandas as pd \n",
        "import seaborn as sns\n",
        "import tensorflow as tf \n",
        "from tensorflow import keras \n",
        "import matplotlib.pyplot as plt  \n",
        "import tensorflow_datasets as tfds\n",
        "\n",
        "# More random seed setup\n",
        "tf.random.set_seed(42)\n",
        "np.random.seed(42)\n",
        "random.seed(42)"
      ],
      "metadata": {
        "id": "9w8enYAixCRb"
      },
      "execution_count": null,
      "outputs": []
    },
    {
      "cell_type": "markdown",
      "source": [
        "## Prepare the data\n",
        "\n",
        "For this lab you will use the [cats vs dogs](https://www.tensorflow.org/datasets/catalog/cats_vs_dogs) which is composed of many images of cats and dogs alongise their respective labels. \n",
        "\n",
        "Begin by downloading the data:"
      ],
      "metadata": {
        "id": "3BedY2kb7_oP"
      }
    },
    {
      "cell_type": "code",
      "source": [
        "# Define train/test splits\n",
        "splits = ['train[:80%]', 'train[80%:90%]', 'train[90%:]']\n",
        "\n",
        "# Download the dataset\n",
        "(train_examples, validation_examples, test_examples), info = tfds.load('cats_vs_dogs',\n",
        "                                                                       with_info=True,\n",
        "                                                                       as_supervised=True,\n",
        "                                                                       split=splits)\n",
        "\n",
        "# Print useful information\n",
        "num_examples = info.splits['train'].num_examples\n",
        "num_classes = info.features['label'].num_classes\n",
        "\n",
        "print(f\"There are {num_examples} images for {num_classes} classes.\")"
      ],
      "metadata": {
        "colab": {
          "base_uri": "https://localhost:8080/"
        },
        "id": "oMuqZjkr7-uM",
        "outputId": "223cb709-5d58-41db-f3dd-1a9cb48c34b4"
      },
      "execution_count": null,
      "outputs": [
        {
          "output_type": "stream",
          "name": "stdout",
          "text": [
            "There are 23262 images for 2 classes.\n"
          ]
        }
      ]
    },
    {
      "cell_type": "markdown",
      "source": [
        "Preprocess the data for training by normalizing pixel values, reshaping them and creating batches of data:"
      ],
      "metadata": {
        "id": "6kI1xsJz8pjt"
      }
    },
    {
      "cell_type": "code",
      "source": [
        "# Some global variables\n",
        "pixels = 224\n",
        "IMAGE_SIZE = (pixels, pixels)\n",
        "BATCH_SIZE= 32\n",
        "\n",
        "# Apply resizing and pixel normalization\n",
        "def format_image(image, label):\n",
        "    image = tf.image.resize(image, IMAGE_SIZE) / 255.0\n",
        "    return image, label\n",
        "\n",
        "# Create batches of data\n",
        "train_batches = train_examples.shuffle(num_examples // 4).map(format_image).batch(BATCH_SIZE).prefetch(1)\n",
        "validation_batches = validation_examples.map(format_image).batch(BATCH_SIZE).prefetch(1)\n",
        "test_batches = test_examples.map(format_image).batch(1)"
      ],
      "metadata": {
        "id": "QlHKyRGO8k_H"
      },
      "execution_count": null,
      "outputs": []
    },
    {
      "cell_type": "markdown",
      "source": [
        "## Code the custom `Distiller` model\n",
        "\n",
        "In order to implement the distillation process you will create a custom Keras model which you will name `Distiller`. In order to do this you need to override some of the vanilla methods of a `keras.Model` to include the custom logic for the knowledge distillation. You need to override these methods:\n",
        "- `compile`: This model needs some extra parameters to be compiled such as the teacher and student losses, the alpha and the temperature.\n",
        "- `train_step`: Controls how the model is trained. This will be where the actual knowledge distillation logic will be found. This method is what is called when you do `model.fit`.\n",
        "- `test_step`: Controls the evaluation of the model. This method is what is called when you do `model.evaluate`.\n",
        "\n",
        "To learn more about customizing models check out the [official docs](https://keras.io/guides/customizing_what_happens_in_fit/)."
      ],
      "metadata": {
        "id": "S5ztrtiV-3iY"
      }
    },
    {
      "cell_type": "code",
      "source": [
        "class Distiller(keras.Model):\n",
        "\n",
        "    # Needs both the student and teacher models to create an instance of this\n",
        "    # class\n",
        "    def __init__(self, student, teacher):\n",
        "        super(Distiller, self).__init__()\n",
        "        self.teacher = teacher\n",
        "        self.student = student\n",
        "\n",
        "    # Will be used when calling model.compile()\n",
        "    def compile(self, optimizer, metrics, student_loss_fn,\n",
        "                distillation_loss_fn, alpha, temperature):\n",
        "        \n",
        "        # Compile using the optimizer and metrics\n",
        "        super(Distiller, self).compile(optimizer=optimizer, metrics=metrics)\n",
        "\n",
        "        # Add the other params to the instance\n",
        "        self.student_loss_fn = student_loss_fn\n",
        "        self.distillation_loss_fn = distillation_loss_fn\n",
        "        self.alpha = alpha\n",
        "        self.temperature = temperature\n",
        "\n",
        "    # Will be used when calling model.fit()\n",
        "    def train_step(self, data):\n",
        "        # Data is expected to be a tuple of (features, labels)\n",
        "        x, y = data\n",
        "\n",
        "        # Vanilla forward pass of the teacher\n",
        "        # Note that the teacher is NOT trained\n",
        "        teacher_predictions = self.teacher(x, training=False)\n",
        "\n",
        "        # Using GradientTape to save gradients\n",
        "        with tf.GradientTape() as tape:\n",
        "            # Vanilla forward pass of the student\n",
        "            student_predictions = self.student(x, training=True)\n",
        "\n",
        "            # Compute vanilla student loss\n",
        "            student_loss = self.student_loss_fn(y, student_predictions) \n",
        "\n",
        "            # Compute distillation loss\n",
        "            # Should be KL divergence between logits softened by a temperature\n",
        "            # factor\n",
        "            distillation_loss = self.distillation_loss_fn(\n",
        "                tf.nn.softmax(teacher_predictions / self.temperature, axis=1),\n",
        "                tf.nn.softmax(student_predictions / self.temperature, axis=1))\n",
        "            \n",
        "            # Compute loss by weighting the two previous losses using the alpha\n",
        "            # param\n",
        "            loss = self.alpha * student_loss + (1 - self.alpha) * distillation_loss\n",
        "\n",
        "        # Use tape to calculate gradiesn for student\n",
        "        trainable_vars = self.student.trainable_variables\n",
        "        gradients = tape.gradient(loss, trainable_vars)\n",
        "\n",
        "        # Update student weights\n",
        "        # Note that this is done ONLY for the student\n",
        "        self.optimizer.apply_gradients(zip(gradients, trainable_vars))\n",
        "\n",
        "        # Update the metrics\n",
        "        self.compiled_metrics.update_state(y, student_predictions)\n",
        "\n",
        "        # Return a performance dictionary\n",
        "        # You will see this being outputted during training\n",
        "        results = {m.name: m.result() for m in self.metrics}\n",
        "        results.update({'student_loss': student_loss, \n",
        "                        'distillation_loss': distillation_loss})\n",
        "        return results\n",
        "\n",
        "    # Will be used when calling model.evaluate()\n",
        "    def test_step(self, data):\n",
        "        # Data is expected to be a tuple of (features, labels)\n",
        "        x, y = data \n",
        "\n",
        "        # Use student to make predictions \n",
        "        # Notice that the training param is set to False\n",
        "        y_prediction = self.student(x, training=False)\n",
        "\n",
        "        # Calculcate student's vanilla loss\n",
        "        student_loss = self.student_loss_fn(y, y_prediction)\n",
        "\n",
        "        # Update the metrics\n",
        "        self.compiled_metrics.update_state(y, y_prediction)\n",
        "\n",
        "        # Return a performance dictionary\n",
        "        # You will see this being outputted during inference\n",
        "        results = {m.name: m.result() for m in self.metrics}\n",
        "        results.update({'student_loss': student_loss})\n",
        "        return results \n"
      ],
      "metadata": {
        "id": "9OVK0NtM-yKt"
      },
      "execution_count": null,
      "outputs": []
    },
    {
      "cell_type": "markdown",
      "source": [
        "## Teacher and student models\n",
        "\n",
        "For the models you will use a standard CNN architecture that implements regularization via some dropout layers (in the case of the teacher), but it could be any Keras model. \n",
        "\n",
        "Define the `create_model` functions to create models with the desired architecture using Keras' [Sequential Model](https://keras.io/guides/sequential_model/).\n",
        "\n",
        "Notice that `create_small_model` returns a simplified version of the model (in terms of number of layers and absence of regularization) that `create_big_model` returns:"
      ],
      "metadata": {
        "id": "F3mAc9CkFR14"
      }
    },
    {
      "cell_type": "code",
      "source": [
        "# Teacher model\n",
        "def create_big_model():\n",
        "    tf.random.set_seed(42)\n",
        "    model = keras.models.Sequential([\n",
        "        keras.layers.Conv2D(32, (3, 3), activation='relu', input_shape=(224, 224, 3)),\n",
        "        keras.layers.MaxPooling2D((2, 2)),\n",
        "        keras.layers.Conv2D(64, (3, 3), activation='relu'),\n",
        "        keras.layers.MaxPooling2D((2, 2)),\n",
        "        keras.layers.Dropout(0.2),\n",
        "        keras.layers.Conv2D(64, (3, 3), activation='relu'),\n",
        "        keras.layers.MaxPooling2D((2, 2)),\n",
        "        keras.layers.Conv2D(128, (3, 3), activation='relu'),\n",
        "        keras.layers.MaxPooling2D((2, 2)),\n",
        "        keras.layers.Dropout(0.5),\n",
        "        keras.layers.Flatten(),\n",
        "        keras.layers.Dense(512, activation='relu'),\n",
        "        keras.layers.Dense(2)\n",
        "  ])\n",
        "\n",
        "    return model\n",
        "\n",
        "# Student model\n",
        "def create_small_model():\n",
        "    tf.random.set_seed(42)\n",
        "    model = keras.models.Sequential([\n",
        "        keras.layers.Conv2D(32, (3, 3), activation='relu', input_shape=(224, 224, 3)),\n",
        "        keras.layers.MaxPooling2D((2, 2)),\n",
        "        keras.layers.Flatten(),\n",
        "        keras.layers.Dense(2)\n",
        "        ])\n",
        "    return model"
      ],
      "metadata": {
        "id": "Bmt1wzWGFQi3"
      },
      "execution_count": null,
      "outputs": []
    },
    {
      "cell_type": "markdown",
      "source": [
        "There are two important things to notice:\n",
        "- The last layer does not have an softmax activation because the raw logits are needed for the knowledge distillation.\n",
        "- Regularization via dropout layers will be applied to the teacher but NOT to the student. This is because the student should be able to learn this regularization through the distillation process.\n",
        "\n",
        "Remember that the student model can be thought of as a simplified (or compressed) version of the teacher model.\n",
        "\n"
      ],
      "metadata": {
        "id": "CrvSCfOcF_Bt"
      }
    },
    {
      "cell_type": "code",
      "source": [
        "# Create the teacher\n",
        "teacher = create_big_model()\n",
        "\n",
        "# Plot architecture\n",
        "keras.utils.plot_model(teacher, rankdir='LR')"
      ],
      "metadata": {
        "colab": {
          "base_uri": "https://localhost:8080/",
          "height": 37
        },
        "id": "mt70VvWUFuLd",
        "outputId": "3919eccb-cd5d-40aa-e633-9cb695eb23ac"
      },
      "execution_count": null,
      "outputs": [
        {
          "output_type": "execute_result",
          "data": {
            "image/png": "[encoded data removed]",
            "text/plain": [
              "<IPython.core.display.Image object>"
            ]
          },
          "metadata": {},
          "execution_count": 24
        }
      ]
    },
    {
      "cell_type": "code",
      "source": [
        "# Create the student\n",
        "student = create_small_model()\n",
        "\n",
        "# Plot architecture\n",
        "keras.utils.plot_model(student, rankdir='LR')"
      ],
      "metadata": {
        "colab": {
          "base_uri": "https://localhost:8080/",
          "height": 74
        },
        "id": "OURaALqfGSKi",
        "outputId": "c41a15f5-5ad1-4a4d-b07d-8e6e462489a4"
      },
      "execution_count": null,
      "outputs": [
        {
          "output_type": "execute_result",
          "data": {
            "image/png": "[encoded data removed]",
            "text/plain": [
              "<IPython.core.display.Image object>"
            ]
          },
          "metadata": {},
          "execution_count": 25
        }
      ]
    },
    {
      "cell_type": "markdown",
      "source": [
        "Check the actual difference in number of trainable parameters (weights and biases) between both models:"
      ],
      "metadata": {
        "id": "eHwILEC1GZ4b"
      }
    },
    {
      "cell_type": "code",
      "source": [
        "# Calculates number of trainable params for a given model\n",
        "def num_trainable_params(model):\n",
        "    return np.sum([np.prod(v.get_shape()) for v in model.trainable_weights])\n",
        "\n",
        "student_params = num_trainable_params(student)\n",
        "teacher_params = num_trainable_params(teacher)\n",
        "\n",
        "print(f\"Teacher model has: {teacher_params} trainable params.\\n\")\n",
        "print(f\"Student model has: {student_params} trainable params.\\n\")\n",
        "print(f\"Teacher model is roughly {teacher_params//student_params} times bigger than the student model.\")"
      ],
      "metadata": {
        "colab": {
          "base_uri": "https://localhost:8080/"
        },
        "id": "Ry-tRN3XGX-w",
        "outputId": "c6ce9f48-2aa5-41a1-be5d-7401f07ff2b1"
      },
      "execution_count": null,
      "outputs": [
        {
          "output_type": "stream",
          "name": "stdout",
          "text": [
            "Teacher model has: 9568898 trainable params.\n",
            "\n",
            "Student model has: 789442 trainable params.\n",
            "\n",
            "Teacher model is roughly 12 times bigger than the student model.\n"
          ]
        }
      ]
    },
    {
      "cell_type": "markdown",
      "source": [
        "### Train the teacher\n",
        "\n",
        "In knowledge distillation it is assumed that the teacher has already been trained so the natural first step is to train the teacher. You will do so for a total of 8 epochs:"
      ],
      "metadata": {
        "id": "OFuGJu55HF0k"
      }
    },
    {
      "cell_type": "code",
      "source": [
        "# Compile the teacher model\n",
        "teacher.compile(\n",
        "    loss=tf.keras.losses.SparseCategoricalCrossentropy(from_logits=True), # Notice from_logits param is set to True\n",
        "    optimizer=keras.optimizers.Adam(),\n",
        "    metrics=[tf.keras.metrics.SparseCategoricalAccuracy()]\n",
        ")\n",
        "# Fit the model and save the training history (will take from 5 to 10 minutes\n",
        "# depending on the GPU you were assigned to)\n",
        "teacher_history = teacher.fit(train_batches, epochs=8,\n",
        "                              validation_data=validation_batches)"
      ],
      "metadata": {
        "colab": {
          "base_uri": "https://localhost:8080/"
        },
        "id": "RA7tCwc_HCrg",
        "outputId": "36d1d547-05dc-49a0-b71f-0bee76a5a090"
      },
      "execution_count": null,
      "outputs": [
        {
          "output_type": "stream",
          "name": "stdout",
          "text": [
            "Epoch 1/8\n",
            "582/582 [==============================] - 42s 63ms/step - loss: 0.6622 - sparse_categorical_accuracy: 0.5897 - val_loss: 0.5942 - val_sparse_categorical_accuracy: 0.6745\n",
            "Epoch 2/8\n",
            "582/582 [==============================] - 39s 61ms/step - loss: 0.5785 - sparse_categorical_accuracy: 0.6936 - val_loss: 0.5169 - val_sparse_categorical_accuracy: 0.7485\n",
            "Epoch 3/8\n",
            "582/582 [==============================] - 39s 61ms/step - loss: 0.5024 - sparse_categorical_accuracy: 0.7549 - val_loss: 0.4969 - val_sparse_categorical_accuracy: 0.7631\n",
            "Epoch 4/8\n",
            "582/582 [==============================] - 39s 61ms/step - loss: 0.4399 - sparse_categorical_accuracy: 0.7931 - val_loss: 0.4202 - val_sparse_categorical_accuracy: 0.8052\n",
            "Epoch 5/8\n",
            "582/582 [==============================] - 40s 62ms/step - loss: 0.3861 - sparse_categorical_accuracy: 0.8257 - val_loss: 0.3574 - val_sparse_categorical_accuracy: 0.8452\n",
            "Epoch 6/8\n",
            "582/582 [==============================] - 40s 62ms/step - loss: 0.3400 - sparse_categorical_accuracy: 0.8515 - val_loss: 0.3532 - val_sparse_categorical_accuracy: 0.8448\n",
            "Epoch 7/8\n",
            "582/582 [==============================] - 40s 62ms/step - loss: 0.3009 - sparse_categorical_accuracy: 0.8712 - val_loss: 0.3505 - val_sparse_categorical_accuracy: 0.8448\n",
            "Epoch 8/8\n",
            "582/582 [==============================] - 39s 61ms/step - loss: 0.2521 - sparse_categorical_accuracy: 0.8930 - val_loss: 0.3017 - val_sparse_categorical_accuracy: 0.8693\n"
          ]
        }
      ]
    },
    {
      "cell_type": "markdown",
      "source": [
        "## Train a student from scratch for reference\n",
        "\n",
        "In order to assess the effectiveness of the distillation process, train a model that is equivalent to the student but without doing knowledge distillation. Notice that the training is done for only 5 epochs:\n"
      ],
      "metadata": {
        "id": "rKxOHOVuIaBR"
      }
    },
    {
      "cell_type": "code",
      "source": [
        "# Create student_scratch model with the same characteristics as the original\n",
        "# student\n",
        "student_scratch = create_small_model()\n",
        "\n",
        "# Compile it\n",
        "student_scratch.compile(\n",
        "    loss=tf.keras.losses.SparseCategoricalCrossentropy(from_logits=True),\n",
        "    optimizer=keras.optimizers.Adam(),\n",
        "    metrics=[tf.keras.metrics.SparseCategoricalAccuracy()]\n",
        ")\n",
        "\n",
        "# Train and evaluate student trained from scratch (will take around 3 mins with\n",
        "# GPU enabled)\n",
        "student_scratch_history = student_scratch.fit(train_batches, epochs=5, \n",
        "                                              validation_data=validation_batches,\n",
        "                                              )"
      ],
      "metadata": {
        "colab": {
          "base_uri": "https://localhost:8080/"
        },
        "id": "xiX_LWpqIahu",
        "outputId": "b187c5b3-e76a-46d4-c384-67a6e2a47f5c"
      },
      "execution_count": null,
      "outputs": [
        {
          "output_type": "stream",
          "name": "stdout",
          "text": [
            "Epoch 1/5\n",
            "582/582 [==============================] - 32s 47ms/step - loss: 0.7743 - sparse_categorical_accuracy: 0.6567 - val_loss: 0.5951 - val_sparse_categorical_accuracy: 0.7008\n",
            "Epoch 2/5\n",
            "582/582 [==============================] - 31s 46ms/step - loss: 0.4966 - sparse_categorical_accuracy: 0.7594 - val_loss: 0.6145 - val_sparse_categorical_accuracy: 0.6991\n",
            "Epoch 3/5\n",
            "582/582 [==============================] - 31s 46ms/step - loss: 0.3892 - sparse_categorical_accuracy: 0.8254 - val_loss: 0.7193 - val_sparse_categorical_accuracy: 0.6707\n",
            "Epoch 4/5\n",
            "582/582 [==============================] - 31s 47ms/step - loss: 0.2832 - sparse_categorical_accuracy: 0.8825 - val_loss: 0.7174 - val_sparse_categorical_accuracy: 0.7150\n",
            "Epoch 5/5\n",
            "582/582 [==============================] - 31s 47ms/step - loss: 0.1972 - sparse_categorical_accuracy: 0.9267 - val_loss: 0.8299 - val_sparse_categorical_accuracy: 0.7064\n"
          ]
        }
      ]
    },
    {
      "cell_type": "markdown",
      "source": [
        "## Knowledge Distillation\n",
        "\n",
        "To perform the knowledge distillation process you will use the custom model you previously coded. To do so, begin by creating an instance of the `Distiller` class and passing in the student and teacher models. Then compile it with the appropiate parameters and train it!\n",
        "\n",
        "The two student models are trained for only 5 epochs unlike the teacher that was trained for 8. This is done to showcase that the knowledge distillation allows for quicker training times as the student learns from an already trained model."
      ],
      "metadata": {
        "id": "bBJuEK1PLmCd"
      }
    },
    {
      "cell_type": "code",
      "source": [
        "# Create Distiller instance\n",
        "distiller = Distiller(student=student, \n",
        "                      teacher=teacher)\n",
        "\n",
        "# Compile Distiller model\n",
        "distiller.compile(\n",
        "    student_loss_fn=tf.keras.losses.SparseCategoricalCrossentropy(from_logits=True),\n",
        "    optimizer=keras.optimizers.Adam(),\n",
        "    metrics=[keras.metrics.SparseCategoricalAccuracy()],\n",
        "    distillation_loss_fn=keras.losses.KLDivergence(),\n",
        "    alpha=0.05,\n",
        "    temperature=5,\n",
        ")\n",
        "\n",
        "# Distill knowledge from teacher to student (will take around 3 mins with\n",
        "# GPU enabled)\n",
        "distiller_history = distiller.fit(train_batches, epochs=5, \n",
        "                                  validation_data=validation_batches)"
      ],
      "metadata": {
        "colab": {
          "base_uri": "https://localhost:8080/"
        },
        "id": "cMjKWQv-Lkxy",
        "outputId": "d4252b8c-9db8-4a9e-99b3-cc54ceaf8a17"
      },
      "execution_count": null,
      "outputs": [
        {
          "output_type": "stream",
          "name": "stdout",
          "text": [
            "Epoch 1/5\n",
            "582/582 [==============================] - 35s 53ms/step - sparse_categorical_accuracy: 0.6400 - student_loss: 0.8432 - distillation_loss: 0.1025 - val_sparse_categorical_accuracy: 0.7089 - val_student_loss: 0.6224\n",
            "Epoch 2/5\n",
            "582/582 [==============================] - 35s 53ms/step - sparse_categorical_accuracy: 0.7318 - student_loss: 0.5559 - distillation_loss: 0.0575 - val_sparse_categorical_accuracy: 0.7034 - val_student_loss: 0.5934\n",
            "Epoch 3/5\n",
            "582/582 [==============================] - 35s 53ms/step - sparse_categorical_accuracy: 0.8008 - student_loss: 0.4387 - distillation_loss: 0.0432 - val_sparse_categorical_accuracy: 0.7442 - val_student_loss: 0.6332\n",
            "Epoch 4/5\n",
            "582/582 [==============================] - 35s 53ms/step - sparse_categorical_accuracy: 0.8393 - student_loss: 0.3603 - distillation_loss: 0.0349 - val_sparse_categorical_accuracy: 0.7257 - val_student_loss: 0.9687\n",
            "Epoch 5/5\n",
            "582/582 [==============================] - 35s 53ms/step - sparse_categorical_accuracy: 0.8744 - student_loss: 0.2916 - distillation_loss: 0.0287 - val_sparse_categorical_accuracy: 0.7266 - val_student_loss: 0.7885\n"
          ]
        }
      ]
    },
    {
      "cell_type": "markdown",
      "source": [
        "## Comparing the models\n",
        "\n",
        "To compare the models you can check the `sparse_categorical_accuracy` of each one on the test set:"
      ],
      "metadata": {
        "id": "g844wuPdMTVU"
      }
    },
    {
      "cell_type": "code",
      "source": [
        "# Compute accuracies\n",
        "student_scratch_acc = student_scratch.evaluate(test_batches, return_dict=True).get('sparse_categorical_accuracy')\n",
        "distiller_acc = distiller.evaluate(test_batches, return_dict=True).get('sparse_categorical_accuracy')\n",
        "teacher_acc = teacher.evaluate(test_batches, return_dict=True).get('sparse_categorical_accuracy')\n",
        "\n",
        "# Print results\n",
        "print(f\"\\n\\nTeacher achieved a sparse_categorical_accuracy of {teacher_acc*100:.2f}%.\\n\")\n",
        "print(f\"Student with knowledge distillation achieved a sparse_categorical_accuracy of {distiller_acc*100:.2f}%.\\n\")\n",
        "print(f\"Student without knowledge distillation achieved a sparse_categorical_accuracy of {student_scratch_acc*100:.2f}%.\\n\")"
      ],
      "metadata": {
        "colab": {
          "base_uri": "https://localhost:8080/"
        },
        "id": "6Q3MSlqDMT40",
        "outputId": "ecf57c46-c894-40e8-eec2-9f7f81a0c080"
      },
      "execution_count": null,
      "outputs": [
        {
          "output_type": "stream",
          "name": "stdout",
          "text": [
            "2326/2326 [==============================] - 7s 3ms/step - loss: 0.7493 - sparse_categorical_accuracy: 0.6917\n",
            "2326/2326 [==============================] - 7s 3ms/step - sparse_categorical_accuracy: 0.7412 - student_loss: 0.6239\n",
            "2326/2326 [==============================] - 9s 4ms/step - loss: 0.2861 - sparse_categorical_accuracy: 0.8775\n",
            "\n",
            "\n",
            "Teacher achieved a sparse_categorical_accuracy of 87.75%.\n",
            "\n",
            "Student with knowledge distillation achieved a sparse_categorical_accuracy of 74.12%.\n",
            "\n",
            "Student without knowledge distillation achieved a sparse_categorical_accuracy of 69.17%.\n",
            "\n"
          ]
        }
      ]
    },
    {
      "cell_type": "markdown",
      "source": [
        "The teacher model yields a higger accuracy than the two student models. This is expected since it was trained for more epochs while using a bigger architecture.\n",
        "\n",
        "Notice that the student without distillation was outperfomed by the student with knowledge distillation. \n",
        "\n",
        "Since you saved the training history of each model you can create a plot for a better comparison of the two student models."
      ],
      "metadata": {
        "id": "Tib8mQk7NLrM"
      }
    },
    {
      "cell_type": "code",
      "source": [
        "student_scratch_history.history"
      ],
      "metadata": {
        "colab": {
          "base_uri": "https://localhost:8080/"
        },
        "id": "uhm99MFxdFpF",
        "outputId": "f04c25c9-789d-47bf-f41b-e1b06b146a95"
      },
      "execution_count": null,
      "outputs": [
        {
          "output_type": "execute_result",
          "data": {
            "text/plain": [
              "{'loss': [0.7743204236030579,\n",
              "  0.4966007173061371,\n",
              "  0.38918358087539673,\n",
              "  0.2831861674785614,\n",
              "  0.19719596207141876],\n",
              " 'sparse_categorical_accuracy': [0.6567437052726746,\n",
              "  0.7593767046928406,\n",
              "  0.8254164457321167,\n",
              "  0.8825362920761108,\n",
              "  0.9266523122787476],\n",
              " 'val_loss': [0.5950903296470642,\n",
              "  0.6144628524780273,\n",
              "  0.7192652821540833,\n",
              "  0.7174232602119446,\n",
              "  0.8298819661140442],\n",
              " 'val_sparse_categorical_accuracy': [0.7007738351821899,\n",
              "  0.6990541815757751,\n",
              "  0.6706792712211609,\n",
              "  0.7149612903594971,\n",
              "  0.7063628435134888]}"
            ]
          },
          "metadata": {},
          "execution_count": 31
        }
      ]
    },
    {
      "cell_type": "code",
      "source": [
        "# Get relevant metrics from a history\n",
        "def get_metrics(history):\n",
        "    history = history.history\n",
        "    acc = history['sparse_categorical_accuracy']\n",
        "    val_acc = history['val_sparse_categorical_accuracy']\n",
        "    return acc, val_acc\n",
        "\n",
        "# Plot training and evaluation metrics given a dict of histories\n",
        "def plot_train_eval(history_dict):\n",
        "\n",
        "    metric_dict = {}\n",
        "\n",
        "    for k, v in history_dict.items():\n",
        "        acc, val_acc = get_metrics(v)\n",
        "        metric_dict[f\"{k} training acc\"] = acc\n",
        "        metric_dict[f\"{k} eval acc\"] = val_acc\n",
        "\n",
        "    acc_plot = pd.DataFrame(metric_dict)\n",
        "\n",
        "    acc_plot = sns.lineplot(data=acc_plot, markers=True)\n",
        "    acc_plot.set_title('training vs evaluation accuracy')\n",
        "    acc_plot.set_xlabel('epoch')\n",
        "    acc_plot.set_ylabel('sparse_categorical_accuracy')\n",
        "\n",
        "# Plot for comparing the two students\n",
        "plot_train_eval({\n",
        "    'distilled': distiller_history,\n",
        "    'student_scratch': student_scratch_history,\n",
        "})"
      ],
      "metadata": {
        "colab": {
          "base_uri": "https://localhost:8080/",
          "height": 295
        },
        "id": "0wII6wgjNNni",
        "outputId": "f6a1a1d7-1b1e-4017-e93a-7656917dd043"
      },
      "execution_count": null,
      "outputs": [
        {
          "output_type": "display_data",
          "data": {
            "text/plain": [
              "<Figure size 432x288 with 1 Axes>"
            ],
            "image/png": "[encoded data removed]"
          },
          "metadata": {
            "needs_background": "light"
          }
        }
      ]
    },
    {
      "cell_type": "markdown",
      "source": [
        "This plot is very interesting because it shows that the distilled version outperformed the unmodified one in almost all of the epochs when using the evaluation set. Alongside this, the student without distillation yields a bigger training accuracy, which is a sign that it is overfitting more than the distilled model. **This hints that the distilled model was able to learn from the regularization that the teacher implemented!** Pretty cool, right?"
      ],
      "metadata": {
        "id": "AuimYoxEOcSs"
      }
    },
    {
      "cell_type": "markdown",
      "source": [
        "-----------------------------\n",
        "**Congratulations on finishing this ungraded lab!** Now you should have a clearer understanding of what Knowledge Distillation is and how it can be implemented using Tensorflow and Keras. \n",
        "\n",
        "This process is widely used for model compression and has proven to perform really well. In fact you might have heard about [`DistilBert`](https://huggingface.co/transformers/model_doc/distilbert.html), which is a smaller, faster, cheaper and lighter of BERT.\n",
        "\n",
        "\n",
        "**Keep it up!**"
      ],
      "metadata": {
        "id": "lza-o_jEOdbU"
      }
    },
    {
      "cell_type": "code",
      "source": [],
      "metadata": {
        "id": "_XulEyytOdm2"
      },
      "execution_count": null,
      "outputs": []
    }
  ]
}